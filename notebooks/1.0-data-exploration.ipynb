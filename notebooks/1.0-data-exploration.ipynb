{
 "cells": [
  {
   "cell_type": "code",
   "execution_count": 1,
   "id": "7550115f",
   "metadata": {},
   "outputs": [
    {
     "data": {
      "application/javascript": [
       "\n",
       "            setTimeout(function() {\n",
       "                var nbb_cell_id = 1;\n",
       "                var nbb_unformatted_code = \"# Run if working locally\\n%load_ext autoreload\\n%autoreload 2\\n%load_ext nb_black\";\n",
       "                var nbb_formatted_code = \"# Run if working locally\\n%load_ext autoreload\\n%autoreload 2\\n%load_ext nb_black\";\n",
       "                var nbb_cells = Jupyter.notebook.get_cells();\n",
       "                for (var i = 0; i < nbb_cells.length; ++i) {\n",
       "                    if (nbb_cells[i].input_prompt_number == nbb_cell_id) {\n",
       "                        if (nbb_cells[i].get_text() == nbb_unformatted_code) {\n",
       "                             nbb_cells[i].set_text(nbb_formatted_code);\n",
       "                        }\n",
       "                        break;\n",
       "                    }\n",
       "                }\n",
       "            }, 500);\n",
       "            "
      ],
      "text/plain": [
       "<IPython.core.display.Javascript object>"
      ]
     },
     "metadata": {},
     "output_type": "display_data"
    }
   ],
   "source": [
    "# Run if working locally\n",
    "%load_ext autoreload\n",
    "%autoreload 2\n",
    "%load_ext nb_black"
   ]
  },
  {
   "cell_type": "code",
   "execution_count": 16,
   "id": "5f9fb328",
   "metadata": {},
   "outputs": [
    {
     "data": {
      "application/javascript": [
       "\n",
       "            setTimeout(function() {\n",
       "                var nbb_cell_id = 16;\n",
       "                var nbb_unformatted_code = \"import sqlite3\\nfrom sqlite3 import Error\\nimport pickle\\nimport os, sys\\nimport config\\nimport matplotlib.pyplot as plt\\n\\nconfig.root_path = os.path.abspath(os.path.join(os.getcwd(), \\\"..\\\"))\\nsys.path.insert(0, config.root_path)\\n\\nfrom db.dbv2 import Table, AugmentedTable, TrainTestTable\";\n",
       "                var nbb_formatted_code = \"import sqlite3\\nfrom sqlite3 import Error\\nimport pickle\\nimport os, sys\\nimport config\\nimport matplotlib.pyplot as plt\\n\\nconfig.root_path = os.path.abspath(os.path.join(os.getcwd(), \\\"..\\\"))\\nsys.path.insert(0, config.root_path)\\n\\nfrom db.dbv2 import Table, AugmentedTable, TrainTestTable\";\n",
       "                var nbb_cells = Jupyter.notebook.get_cells();\n",
       "                for (var i = 0; i < nbb_cells.length; ++i) {\n",
       "                    if (nbb_cells[i].input_prompt_number == nbb_cell_id) {\n",
       "                        if (nbb_cells[i].get_text() == nbb_unformatted_code) {\n",
       "                             nbb_cells[i].set_text(nbb_formatted_code);\n",
       "                        }\n",
       "                        break;\n",
       "                    }\n",
       "                }\n",
       "            }, 500);\n",
       "            "
      ],
      "text/plain": [
       "<IPython.core.display.Javascript object>"
      ]
     },
     "metadata": {},
     "output_type": "display_data"
    }
   ],
   "source": [
    "import sqlite3\n",
    "from sqlite3 import Error\n",
    "import pickle\n",
    "import os, sys\n",
    "import config\n",
    "import matplotlib.pyplot as plt\n",
    "\n",
    "config.root_path = os.path.abspath(os.path.join(os.getcwd(), \"..\"))\n",
    "sys.path.insert(0, config.root_path)\n",
    "\n",
    "from db.dbv2 import Table, AugmentedTable, TrainTestTable"
   ]
  },
  {
   "cell_type": "code",
   "execution_count": 75,
   "id": "bf0df6b5",
   "metadata": {},
   "outputs": [
    {
     "data": {
      "application/javascript": [
       "\n",
       "            setTimeout(function() {\n",
       "                var nbb_cell_id = 75;\n",
       "                var nbb_unformatted_code = \"dataset_type = \\\"product\\\"\\ntable = Table(dataset_type)\\naugmented_table = AugmentedTable(dataset_type)\\ntrain_test_table = TrainTestTable(dataset_type)\";\n",
       "                var nbb_formatted_code = \"dataset_type = \\\"product\\\"\\ntable = Table(dataset_type)\\naugmented_table = AugmentedTable(dataset_type)\\ntrain_test_table = TrainTestTable(dataset_type)\";\n",
       "                var nbb_cells = Jupyter.notebook.get_cells();\n",
       "                for (var i = 0; i < nbb_cells.length; ++i) {\n",
       "                    if (nbb_cells[i].input_prompt_number == nbb_cell_id) {\n",
       "                        if (nbb_cells[i].get_text() == nbb_unformatted_code) {\n",
       "                             nbb_cells[i].set_text(nbb_formatted_code);\n",
       "                        }\n",
       "                        break;\n",
       "                    }\n",
       "                }\n",
       "            }, 500);\n",
       "            "
      ],
      "text/plain": [
       "<IPython.core.display.Javascript object>"
      ]
     },
     "metadata": {},
     "output_type": "display_data"
    }
   ],
   "source": [
    "dataset_type = \"product\"\n",
    "table = Table(dataset_type)\n",
    "augmented_table = AugmentedTable(dataset_type)\n",
    "train_test_table = TrainTestTable(dataset_type)"
   ]
  },
  {
   "cell_type": "code",
   "execution_count": 76,
   "id": "b6f11719",
   "metadata": {},
   "outputs": [
    {
     "data": {
      "application/javascript": [
       "\n",
       "            setTimeout(function() {\n",
       "                var nbb_cell_id = 76;\n",
       "                var nbb_unformatted_code = \"all_rows = table.get_all()\";\n",
       "                var nbb_formatted_code = \"all_rows = table.get_all()\";\n",
       "                var nbb_cells = Jupyter.notebook.get_cells();\n",
       "                for (var i = 0; i < nbb_cells.length; ++i) {\n",
       "                    if (nbb_cells[i].input_prompt_number == nbb_cell_id) {\n",
       "                        if (nbb_cells[i].get_text() == nbb_unformatted_code) {\n",
       "                             nbb_cells[i].set_text(nbb_formatted_code);\n",
       "                        }\n",
       "                        break;\n",
       "                    }\n",
       "                }\n",
       "            }, 500);\n",
       "            "
      ],
      "text/plain": [
       "<IPython.core.display.Javascript object>"
      ]
     },
     "metadata": {},
     "output_type": "display_data"
    }
   ],
   "source": [
    "all_rows = table.get_all()"
   ]
  },
  {
   "cell_type": "code",
   "execution_count": 77,
   "id": "59443bae",
   "metadata": {},
   "outputs": [
    {
     "data": {
      "application/javascript": [
       "\n",
       "            setTimeout(function() {\n",
       "                var nbb_cell_id = 77;\n",
       "                var nbb_unformatted_code = \"all_text = [x[1] for x in all_rows]\";\n",
       "                var nbb_formatted_code = \"all_text = [x[1] for x in all_rows]\";\n",
       "                var nbb_cells = Jupyter.notebook.get_cells();\n",
       "                for (var i = 0; i < nbb_cells.length; ++i) {\n",
       "                    if (nbb_cells[i].input_prompt_number == nbb_cell_id) {\n",
       "                        if (nbb_cells[i].get_text() == nbb_unformatted_code) {\n",
       "                             nbb_cells[i].set_text(nbb_formatted_code);\n",
       "                        }\n",
       "                        break;\n",
       "                    }\n",
       "                }\n",
       "            }, 500);\n",
       "            "
      ],
      "text/plain": [
       "<IPython.core.display.Javascript object>"
      ]
     },
     "metadata": {},
     "output_type": "display_data"
    }
   ],
   "source": [
    "all_text = [x[1] for x in all_rows]"
   ]
  },
  {
   "cell_type": "code",
   "execution_count": 78,
   "id": "26febc4a",
   "metadata": {},
   "outputs": [
    {
     "data": {
      "application/javascript": [
       "\n",
       "            setTimeout(function() {\n",
       "                var nbb_cell_id = 78;\n",
       "                var nbb_unformatted_code = \"# helpers\\ndef get_num_words(text):\\n    return len(text.split())\";\n",
       "                var nbb_formatted_code = \"# helpers\\ndef get_num_words(text):\\n    return len(text.split())\";\n",
       "                var nbb_cells = Jupyter.notebook.get_cells();\n",
       "                for (var i = 0; i < nbb_cells.length; ++i) {\n",
       "                    if (nbb_cells[i].input_prompt_number == nbb_cell_id) {\n",
       "                        if (nbb_cells[i].get_text() == nbb_unformatted_code) {\n",
       "                             nbb_cells[i].set_text(nbb_formatted_code);\n",
       "                        }\n",
       "                        break;\n",
       "                    }\n",
       "                }\n",
       "            }, 500);\n",
       "            "
      ],
      "text/plain": [
       "<IPython.core.display.Javascript object>"
      ]
     },
     "metadata": {},
     "output_type": "display_data"
    }
   ],
   "source": [
    "# helpers\n",
    "def get_num_words(text):\n",
    "    return len(text.split())"
   ]
  },
  {
   "cell_type": "markdown",
   "id": "aacedb35",
   "metadata": {},
   "source": [
    "## Word Frequencies"
   ]
  },
  {
   "cell_type": "code",
   "execution_count": 79,
   "id": "e6341013",
   "metadata": {},
   "outputs": [
    {
     "data": {
      "application/javascript": [
       "\n",
       "            setTimeout(function() {\n",
       "                var nbb_cell_id = 79;\n",
       "                var nbb_unformatted_code = \"word_count_text = [get_num_words(text) for text in all_text]\\n\\n# construct a dictionary of frequencies\\nword_count_dict = {}\\nfor num in sorted(word_count_text):\\n    if num in word_count_dict:\\n        word_count_dict[num] += 1\\n    else:\\n        word_count_dict[num] = 0\";\n",
       "                var nbb_formatted_code = \"word_count_text = [get_num_words(text) for text in all_text]\\n\\n# construct a dictionary of frequencies\\nword_count_dict = {}\\nfor num in sorted(word_count_text):\\n    if num in word_count_dict:\\n        word_count_dict[num] += 1\\n    else:\\n        word_count_dict[num] = 0\";\n",
       "                var nbb_cells = Jupyter.notebook.get_cells();\n",
       "                for (var i = 0; i < nbb_cells.length; ++i) {\n",
       "                    if (nbb_cells[i].input_prompt_number == nbb_cell_id) {\n",
       "                        if (nbb_cells[i].get_text() == nbb_unformatted_code) {\n",
       "                             nbb_cells[i].set_text(nbb_formatted_code);\n",
       "                        }\n",
       "                        break;\n",
       "                    }\n",
       "                }\n",
       "            }, 500);\n",
       "            "
      ],
      "text/plain": [
       "<IPython.core.display.Javascript object>"
      ]
     },
     "metadata": {},
     "output_type": "display_data"
    }
   ],
   "source": [
    "word_count_text = [get_num_words(text) for text in all_text]\n",
    "\n",
    "# construct a dictionary of frequencies\n",
    "word_count_dict = {}\n",
    "for num in sorted(word_count_text):\n",
    "    if num in word_count_dict:\n",
    "        word_count_dict[num] += 1\n",
    "    else:\n",
    "        word_count_dict[num] = 0"
   ]
  },
  {
   "cell_type": "code",
   "execution_count": 80,
   "id": "015be42b",
   "metadata": {},
   "outputs": [
    {
     "data": {
      "application/javascript": [
       "\n",
       "            setTimeout(function() {\n",
       "                var nbb_cell_id = 80;\n",
       "                var nbb_unformatted_code = \"(num_words, num_words_freq) = zip(*word_count_dict.items())\";\n",
       "                var nbb_formatted_code = \"(num_words, num_words_freq) = zip(*word_count_dict.items())\";\n",
       "                var nbb_cells = Jupyter.notebook.get_cells();\n",
       "                for (var i = 0; i < nbb_cells.length; ++i) {\n",
       "                    if (nbb_cells[i].input_prompt_number == nbb_cell_id) {\n",
       "                        if (nbb_cells[i].get_text() == nbb_unformatted_code) {\n",
       "                             nbb_cells[i].set_text(nbb_formatted_code);\n",
       "                        }\n",
       "                        break;\n",
       "                    }\n",
       "                }\n",
       "            }, 500);\n",
       "            "
      ],
      "text/plain": [
       "<IPython.core.display.Javascript object>"
      ]
     },
     "metadata": {},
     "output_type": "display_data"
    }
   ],
   "source": [
    "(num_words, num_words_freq) = zip(*word_count_dict.items())"
   ]
  },
  {
   "cell_type": "code",
   "execution_count": 81,
   "id": "02280bb0",
   "metadata": {},
   "outputs": [
    {
     "data": {
      "image/png": "[encoded data removed]",
      "text/plain": [
       "<Figure size 640x480 with 1 Axes>"
      ]
     },
     "metadata": {},
     "output_type": "display_data"
    },
    {
     "data": {
      "application/javascript": [
       "\n",
       "            setTimeout(function() {\n",
       "                var nbb_cell_id = 81;\n",
       "                var nbb_unformatted_code = \"frequencies_to_show = 50\\nplt.bar(num_words[:frequencies_to_show], num_words_freq[:frequencies_to_show])\\n# plt.legend()\\n\\n# The following commands add labels to our figure.\\nplt.xlabel(\\\"Number of words\\\")\\nplt.ylabel(\\\"Number of sentences\\\")\\nplt.title(f\\\"{dataset_type} dataset\\\")\\n\\nplt.show()\";\n",
       "                var nbb_formatted_code = \"frequencies_to_show = 50\\nplt.bar(num_words[:frequencies_to_show], num_words_freq[:frequencies_to_show])\\n# plt.legend()\\n\\n# The following commands add labels to our figure.\\nplt.xlabel(\\\"Number of words\\\")\\nplt.ylabel(\\\"Number of sentences\\\")\\nplt.title(f\\\"{dataset_type} dataset\\\")\\n\\nplt.show()\";\n",
       "                var nbb_cells = Jupyter.notebook.get_cells();\n",
       "                for (var i = 0; i < nbb_cells.length; ++i) {\n",
       "                    if (nbb_cells[i].input_prompt_number == nbb_cell_id) {\n",
       "                        if (nbb_cells[i].get_text() == nbb_unformatted_code) {\n",
       "                             nbb_cells[i].set_text(nbb_formatted_code);\n",
       "                        }\n",
       "                        break;\n",
       "                    }\n",
       "                }\n",
       "            }, 500);\n",
       "            "
      ],
      "text/plain": [
       "<IPython.core.display.Javascript object>"
      ]
     },
     "metadata": {},
     "output_type": "display_data"
    }
   ],
   "source": [
    "frequencies_to_show = 50\n",
    "plt.bar(num_words[:frequencies_to_show], num_words_freq[:frequencies_to_show])\n",
    "# plt.legend()\n",
    "\n",
    "# The following commands add labels to our figure.\n",
    "plt.xlabel(\"Number of words\")\n",
    "plt.ylabel(\"Number of sentences\")\n",
    "plt.title(f\"{dataset_type} dataset\")\n",
    "\n",
    "plt.show()"
   ]
  },
  {
   "cell_type": "markdown",
   "id": "c0072b35",
   "metadata": {},
   "source": [
    "## Sample of sentences"
   ]
  },
  {
   "cell_type": "code",
   "execution_count": 82,
   "id": "84eca911",
   "metadata": {},
   "outputs": [
    {
     "data": {
      "application/javascript": [
       "\n",
       "            setTimeout(function() {\n",
       "                var nbb_cell_id = 82;\n",
       "                var nbb_unformatted_code = \"word_count_text = [(get_num_words(text), idx) for idx, text in enumerate(all_text)]\\n\\nsorted_word_count_text = sorted(word_count_text, key=lambda x: x[0])\\n\\nnum_samples_to_show = 50\\nnum_words_of_interest = 20\\n\\nsentences = []\\nfound = 0\\nfor num_words, idx in sorted_word_count_text:\\n    if num_words == num_words_of_interest:\\n        sentences.append(all_text[idx])\\n        found += 1\\n    if found == num_samples_to_show or num_words > num_words_of_interest:\\n        break\";\n",
       "                var nbb_formatted_code = \"word_count_text = [(get_num_words(text), idx) for idx, text in enumerate(all_text)]\\n\\nsorted_word_count_text = sorted(word_count_text, key=lambda x: x[0])\\n\\nnum_samples_to_show = 50\\nnum_words_of_interest = 20\\n\\nsentences = []\\nfound = 0\\nfor num_words, idx in sorted_word_count_text:\\n    if num_words == num_words_of_interest:\\n        sentences.append(all_text[idx])\\n        found += 1\\n    if found == num_samples_to_show or num_words > num_words_of_interest:\\n        break\";\n",
       "                var nbb_cells = Jupyter.notebook.get_cells();\n",
       "                for (var i = 0; i < nbb_cells.length; ++i) {\n",
       "                    if (nbb_cells[i].input_prompt_number == nbb_cell_id) {\n",
       "                        if (nbb_cells[i].get_text() == nbb_unformatted_code) {\n",
       "                             nbb_cells[i].set_text(nbb_formatted_code);\n",
       "                        }\n",
       "                        break;\n",
       "                    }\n",
       "                }\n",
       "            }, 500);\n",
       "            "
      ],
      "text/plain": [
       "<IPython.core.display.Javascript object>"
      ]
     },
     "metadata": {},
     "output_type": "display_data"
    }
   ],
   "source": [
    "word_count_text = [(get_num_words(text), idx) for idx, text in enumerate(all_text)]\n",
    "\n",
    "sorted_word_count_text = sorted(word_count_text, key=lambda x: x[0])\n",
    "\n",
    "num_samples_to_show = 50\n",
    "num_words_of_interest = 20\n",
    "\n",
    "sentences = []\n",
    "found = 0\n",
    "for num_words, idx in sorted_word_count_text:\n",
    "    if num_words == num_words_of_interest:\n",
    "        sentences.append(all_text[idx])\n",
    "        found += 1\n",
    "    if found == num_samples_to_show or num_words > num_words_of_interest:\n",
    "        break"
   ]
  },
  {
   "cell_type": "code",
   "execution_count": 83,
   "id": "31b8d962",
   "metadata": {},
   "outputs": [
    {
     "data": {
      "text/plain": [
       "['i think the microphone is on on the top , uh on the middle , the under the flip .',\n",
       " \"i mean it does n't have to be on the flip , it can be on the side somewhere .\",\n",
       " 'i think the microphone is on on the top , uh on the middle , the under the flip .',\n",
       " \"i mean it does n't have to be on the flip , it can be on the side somewhere .\",\n",
       " \"uh this is just production cost , it is not uh advertising cost , it 's not transportation cost uh\",\n",
       " 'yeah . you can do a shipping centre somewhere , or strategically place shipping centres to minimise distance costs .',\n",
       " 'whereas on the web , if you have a bunch of pictures , it can sort of trigger ideas and',\n",
       " 'i think the microphone is on on the top , uh on the middle , the under the flip .',\n",
       " \"i mean it does n't have to be on the flip , it can be on the side somewhere .\",\n",
       " \"uh this is just production cost , it is not uh advertising cost , it 's not transportation cost uh\",\n",
       " 'yeah . you can do a shipping centre somewhere , or strategically place shipping centres to minimise distance costs .',\n",
       " 'whereas on the web , if you have a bunch of pictures , it can sort of trigger ideas and',\n",
       " 'i think the microphone is on on the top , uh on the middle , the under the flip .',\n",
       " \"i mean it does n't have to be on the flip , it can be on the side somewhere .\",\n",
       " \"uh this is just production cost , it is not uh advertising cost , it 's not transportation cost uh\",\n",
       " 'yeah . you can do a shipping centre somewhere , or strategically place shipping centres to minimise distance costs .',\n",
       " 'whereas on the web , if you have a bunch of pictures , it can sort of trigger ideas and',\n",
       " 'you look very relaxed , considering h you know , the uh the weight on your shoulders , yeah .',\n",
       " \"it 's a shake it it does n't work , shake it , knock it or something . you know\",\n",
       " 'like i said the bouncing ball thing , or you could trigger that to use that to power the light',\n",
       " \"it 's a shake it it does n't work , shake it , knock it or something . you know\",\n",
       " 'like i said the bouncing ball thing , or you could trigger that to use that to power the light',\n",
       " \"um well i think the advanced ones the the ones you do n't usually use could be hid inside .\",\n",
       " \"yeah if you are holding it in your hand you could you could do that , could n't you ?\",\n",
       " \"um and i do n't think having that you know too quick too slow kin it 's confusing to the\",\n",
       " \"well i mean is n't that what we just h said said we s just have to decide now ?\",\n",
       " \"i 'm really gon na have to hurry you on here 'cause we 're we 're actually over time .\",\n",
       " \"that 's what i was looking for . right . so we 've got function oh what happened to the\",\n",
       " 'great . great . oh ma maybe then you can start now with mm presenting your uh your designs .',\n",
       " 'oh no no no , this is a single this this is a model with just the t_v_ one .',\n",
       " 'yeah s pause or stop , and uh then uh you can uh you have a l_c_d_ display , here',\n",
       " \"so the the cost is actually a bit more , it 's uh it 's it 's sixteen francs .\",\n",
       " 'great . great . oh ma maybe then you can start now with mm presenting your uh your designs .',\n",
       " 'oh no no no , this is a single this this is a model with just the t_v_ one .',\n",
       " 'yeah s pause or stop , and uh then uh you can uh you have a l_c_d_ display , here',\n",
       " \"so the the cost is actually a bit more , it 's uh it 's it 's sixteen francs .\",\n",
       " 'so we can uh see whether the the price is is within the twelve euro uh fifty cents uh .',\n",
       " 'in i in my opinion purely feel is is is very good , is very good in your hand ,',\n",
       " \"because it 's n uh it 's not like a big one with uh one hundred buttons or so ,\",\n",
       " 'yeah . yes but then when when he is used to it , i i it is quite easy .',\n",
       " \"but for us it 's yeah we have a constraint that we need to sell at twenty five euros .\",\n",
       " 'great . great . oh ma maybe then you can start now with mm presenting your uh your designs .',\n",
       " 'oh no no no , this is a single this this is a model with just the t_v_ one .',\n",
       " 'yeah s pause or stop , and uh then uh you can uh you have a l_c_d_ display , here',\n",
       " \"so the the cost is actually a bit more , it 's uh it 's it 's sixteen francs .\",\n",
       " 'so we can uh see whether the the price is is within the twelve euro uh fifty cents uh .',\n",
       " 'in i in my opinion purely feel is is is very good , is very good in your hand ,',\n",
       " \"because it 's n uh it 's not like a big one with uh one hundred buttons or so ,\",\n",
       " 'yeah . yes but then when when he is used to it , i i it is quite easy .',\n",
       " \"but for us it 's yeah we have a constraint that we need to sell at twenty five euros .\"]"
      ]
     },
     "execution_count": 83,
     "metadata": {},
     "output_type": "execute_result"
    },
    {
     "data": {
      "application/javascript": [
       "\n",
       "            setTimeout(function() {\n",
       "                var nbb_cell_id = 83;\n",
       "                var nbb_unformatted_code = \"sentences\";\n",
       "                var nbb_formatted_code = \"sentences\";\n",
       "                var nbb_cells = Jupyter.notebook.get_cells();\n",
       "                for (var i = 0; i < nbb_cells.length; ++i) {\n",
       "                    if (nbb_cells[i].input_prompt_number == nbb_cell_id) {\n",
       "                        if (nbb_cells[i].get_text() == nbb_unformatted_code) {\n",
       "                             nbb_cells[i].set_text(nbb_formatted_code);\n",
       "                        }\n",
       "                        break;\n",
       "                    }\n",
       "                }\n",
       "            }, 500);\n",
       "            "
      ],
      "text/plain": [
       "<IPython.core.display.Javascript object>"
      ]
     },
     "metadata": {},
     "output_type": "display_data"
    }
   ],
   "source": [
    "sentences"
   ]
  },
  {
   "cell_type": "code",
   "execution_count": null,
   "id": "06846f25",
   "metadata": {},
   "outputs": [],
   "source": []
  },
  {
   "cell_type": "markdown",
   "id": "f535e8c9",
   "metadata": {},
   "source": [
    "## LINE BREAK"
   ]
  },
  {
   "cell_type": "code",
   "execution_count": 6,
   "id": "bafa85f8",
   "metadata": {},
   "outputs": [
    {
     "name": "stdout",
     "output_type": "stream",
     "text": [
      "Number of sentences: 16444\n",
      "Number of sentences with no text: 0\n",
      "Sentences with no text []\n",
      "Number of sentences with 1 word: 5\n",
      "Number of sentences with 1 word: [\"we've—\", \"we've—\", \"we've—\", \"we've—\", \"we've—\"]\n"
     ]
    },
    {
     "data": {
      "application/javascript": [
       "\n",
       "            setTimeout(function() {\n",
       "                var nbb_cell_id = 6;\n",
       "                var nbb_unformatted_code = \"print(\\\"Number of sentences:\\\", len(all_text))\\nprint(\\n    \\\"Number of sentences with no text:\\\",\\n    len(list(filter(lambda text: len(text) == 0, all_text))),\\n)\\nprint(\\\"Sentences with no text\\\", list(filter(lambda text: len(text) == 0, all_text)))\\nprint(\\n    \\\"Number of sentences with 1 word:\\\",\\n    len(list(filter(lambda text: len(text.split()) == 1, all_text))),\\n)\\nprint(\\n    \\\"Number of sentences with 1 word:\\\",\\n    list(filter(lambda text: len(text.split()) == 1, all_text)),\\n)\";\n",
       "                var nbb_formatted_code = \"print(\\\"Number of sentences:\\\", len(all_text))\\nprint(\\n    \\\"Number of sentences with no text:\\\",\\n    len(list(filter(lambda text: len(text) == 0, all_text))),\\n)\\nprint(\\\"Sentences with no text\\\", list(filter(lambda text: len(text) == 0, all_text)))\\nprint(\\n    \\\"Number of sentences with 1 word:\\\",\\n    len(list(filter(lambda text: len(text.split()) == 1, all_text))),\\n)\\nprint(\\n    \\\"Number of sentences with 1 word:\\\",\\n    list(filter(lambda text: len(text.split()) == 1, all_text)),\\n)\";\n",
       "                var nbb_cells = Jupyter.notebook.get_cells();\n",
       "                for (var i = 0; i < nbb_cells.length; ++i) {\n",
       "                    if (nbb_cells[i].input_prompt_number == nbb_cell_id) {\n",
       "                        if (nbb_cells[i].get_text() == nbb_unformatted_code) {\n",
       "                             nbb_cells[i].set_text(nbb_formatted_code);\n",
       "                        }\n",
       "                        break;\n",
       "                    }\n",
       "                }\n",
       "            }, 500);\n",
       "            "
      ],
      "text/plain": [
       "<IPython.core.display.Javascript object>"
      ]
     },
     "metadata": {},
     "output_type": "display_data"
    }
   ],
   "source": [
    "print(\"Number of sentences:\", len(all_text))\n",
    "print(\n",
    "    \"Number of sentences with no text:\",\n",
    "    len(list(filter(lambda text: len(text) == 0, all_text))),\n",
    ")\n",
    "print(\"Sentences with no text\", list(filter(lambda text: len(text) == 0, all_text)))\n",
    "print(\n",
    "    \"Number of sentences with 1 word:\",\n",
    "    len(list(filter(lambda text: num_words(text) == 1, all_text))),\n",
    ")\n",
    "print(\n",
    "    \"Number of sentences with 1 word:\",\n",
    "    list(filter(lambda text: num_words(text) == 1, all_text)),\n",
    ")"
   ]
  },
  {
   "cell_type": "code",
   "execution_count": null,
   "id": "e9709b0a",
   "metadata": {},
   "outputs": [],
   "source": []
  }
 ],
 "metadata": {
  "kernelspec": {
   "display_name": "Python 3 (ipykernel)",
   "language": "python",
   "name": "python3"
  },
  "language_info": {
   "codemirror_mode": {
    "name": "ipython",
    "version": 3
   },
   "file_extension": ".py",
   "mimetype": "text/x-python",
   "name": "python",
   "nbconvert_exporter": "python",
   "pygments_lexer": "ipython3",
   "version": "3.8.13"
  }
 },
 "nbformat": 4,
 "nbformat_minor": 5
}
