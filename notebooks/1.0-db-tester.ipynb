{
 "cells": [
  {
   "cell_type": "code",
   "execution_count": 1,
   "id": "dae822b6",
   "metadata": {},
   "outputs": [],
   "source": [
    "%load_ext autoreload\n",
    "%autoreload 2"
   ]
  },
  {
   "cell_type": "code",
   "execution_count": 6,
   "id": "15d81449",
   "metadata": {},
   "outputs": [],
   "source": [
    "import sys, os\n",
    "import config\n",
    "import pandas as pd\n",
    "import csv\n",
    "\n",
    "config.root_path = os.path.abspath(os.path.join(os.getcwd(), '..'))\n",
    "sys.path.insert(0, config.root_path)\n",
    "%matplotlib inline\n",
    "\n",
    "import matplotlib\n",
    "import matplotlib.pyplot as plt"
   ]
  },
  {
   "cell_type": "code",
   "execution_count": 7,
   "id": "45c7dc9b",
   "metadata": {},
   "outputs": [],
   "source": [
    "from db.dbv2 import Table, AugmentedTable, TrainTestTable "
   ]
  },
  {
   "cell_type": "code",
   "execution_count": 14,
   "id": "3e36b043",
   "metadata": {},
   "outputs": [],
   "source": [
    "table = Table('committee')\n",
    "augmented_table = AugmentedTable('committee')\n",
    "train_test_table = TrainTestTable('committee')"
   ]
  },
  {
   "cell_type": "code",
   "execution_count": 16,
   "id": "e9cc3ba6",
   "metadata": {},
   "outputs": [
    {
     "ename": "OperationalError",
     "evalue": "no such table: qmsum_committee_gpt_augmented",
     "output_type": "error",
     "traceback": [
      "\u001b[0;31m---------------------------------------------------------------------------\u001b[0m",
      "\u001b[0;31mOperationalError\u001b[0m                          Traceback (most recent call last)",
      "Cell \u001b[0;32mIn [16], line 2\u001b[0m\n\u001b[1;32m      1\u001b[0m table\u001b[38;5;241m.\u001b[39mget_segment(\u001b[38;5;241m1\u001b[39m)\n\u001b[0;32m----> 2\u001b[0m augmented_table\u001b[38;5;241m.\u001b[39mget_segment(\u001b[38;5;241m1\u001b[39m)\n",
      "File \u001b[0;32m~/Documents/PhD/context-encoder-qmsum/db/dbv2.py:108\u001b[0m, in \u001b[0;36mDB.get_segment\u001b[0;34m(self, segment_id, max_segment_size)\u001b[0m\n\u001b[1;32m    104\u001b[0m sql \u001b[38;5;241m=\u001b[39m \u001b[38;5;124mf\u001b[39m\u001b[38;5;124m\"\"\"\u001b[39m\u001b[38;5;124m SELECT * FROM \u001b[39m\u001b[38;5;132;01m{\u001b[39;00m\u001b[38;5;28mself\u001b[39m\u001b[38;5;241m.\u001b[39mtable_name\u001b[38;5;132;01m}\u001b[39;00m\n\u001b[1;32m    105\u001b[0m \u001b[38;5;124m        WHERE id=? OR parent=? ORDER BY sequence ASC LIMIT ?\u001b[39m\u001b[38;5;124m\"\"\"\u001b[39m\n\u001b[1;32m    107\u001b[0m cur \u001b[38;5;241m=\u001b[39m \u001b[38;5;28mself\u001b[39m\u001b[38;5;241m.\u001b[39mconn\u001b[38;5;241m.\u001b[39mcursor()\n\u001b[0;32m--> 108\u001b[0m \u001b[43mcur\u001b[49m\u001b[38;5;241;43m.\u001b[39;49m\u001b[43mexecute\u001b[49m\u001b[43m(\u001b[49m\u001b[43msql\u001b[49m\u001b[43m,\u001b[49m\u001b[43m \u001b[49m\u001b[43m(\u001b[49m\u001b[43msegment_id\u001b[49m\u001b[43m,\u001b[49m\u001b[43m \u001b[49m\u001b[43msegment_id\u001b[49m\u001b[43m,\u001b[49m\u001b[43m \u001b[49m\u001b[43mmax_segment_size\u001b[49m\u001b[43m)\u001b[49m\u001b[43m)\u001b[49m\n\u001b[1;32m    110\u001b[0m rows \u001b[38;5;241m=\u001b[39m cur\u001b[38;5;241m.\u001b[39mfetchall()\n\u001b[1;32m    112\u001b[0m \u001b[38;5;28;01mreturn\u001b[39;00m rows\n",
      "\u001b[0;31mOperationalError\u001b[0m: no such table: qmsum_committee_gpt_augmented"
     ]
    }
   ],
   "source": [
    "segment = table.get_segment(1)\n",
    "augmented_segment = augmented_table.get_segment(1)"
   ]
  },
  {
   "cell_type": "code",
   "execution_count": null,
   "id": "7fea479f",
   "metadata": {},
   "outputs": [],
   "source": []
  }
 ],
 "metadata": {
  "kernelspec": {
   "display_name": "Python 3 (ipykernel)",
   "language": "python",
   "name": "python3"
  },
  "language_info": {
   "codemirror_mode": {
    "name": "ipython",
    "version": 3
   },
   "file_extension": ".py",
   "mimetype": "text/x-python",
   "name": "python",
   "nbconvert_exporter": "python",
   "pygments_lexer": "ipython3",
   "version": "3.8.13"
  }
 },
 "nbformat": 4,
 "nbformat_minor": 5
}
