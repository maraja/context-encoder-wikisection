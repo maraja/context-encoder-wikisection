{
 "cells": [
  {
   "cell_type": "code",
   "execution_count": 1,
   "id": "14029b0e",
   "metadata": {},
   "outputs": [
    {
     "data": {
      "application/javascript": [
       "\n",
       "            setTimeout(function() {\n",
       "                var nbb_cell_id = 1;\n",
       "                var nbb_unformatted_code = \"# Run if working locally\\n%load_ext autoreload\\n%autoreload 2\\n%load_ext nb_black\";\n",
       "                var nbb_formatted_code = \"# Run if working locally\\n%load_ext autoreload\\n%autoreload 2\\n%load_ext nb_black\";\n",
       "                var nbb_cells = Jupyter.notebook.get_cells();\n",
       "                for (var i = 0; i < nbb_cells.length; ++i) {\n",
       "                    if (nbb_cells[i].input_prompt_number == nbb_cell_id) {\n",
       "                        if (nbb_cells[i].get_text() == nbb_unformatted_code) {\n",
       "                             nbb_cells[i].set_text(nbb_formatted_code);\n",
       "                        }\n",
       "                        break;\n",
       "                    }\n",
       "                }\n",
       "            }, 500);\n",
       "            "
      ],
      "text/plain": [
       "<IPython.core.display.Javascript object>"
      ]
     },
     "metadata": {},
     "output_type": "display_data"
    }
   ],
   "source": [
    "# Run if working locally\n",
    "%load_ext autoreload\n",
    "%autoreload 2\n",
    "%load_ext nb_black"
   ]
  },
  {
   "cell_type": "code",
   "execution_count": 9,
   "id": "0664ee09",
   "metadata": {},
   "outputs": [
    {
     "data": {
      "application/javascript": [
       "\n",
       "            setTimeout(function() {\n",
       "                var nbb_cell_id = 9;\n",
       "                var nbb_unformatted_code = \"import sqlite3\\nfrom sqlite3 import Error\\nimport pickle\\nimport os, sys\\nimport config\\n\\nconfig.root_path = os.path.abspath(os.path.join(os.getcwd(), \\\"..\\\"))\\nsys.path.insert(0, config.root_path)\\n\\nfrom db.dbv2 import Table, AugmentedTable, TrainTestTable, GTA1Table, GTA2Table\";\n",
       "                var nbb_formatted_code = \"import sqlite3\\nfrom sqlite3 import Error\\nimport pickle\\nimport os, sys\\nimport config\\n\\nconfig.root_path = os.path.abspath(os.path.join(os.getcwd(), \\\"..\\\"))\\nsys.path.insert(0, config.root_path)\\n\\nfrom db.dbv2 import Table, AugmentedTable, TrainTestTable, GTA1Table, GTA2Table\";\n",
       "                var nbb_cells = Jupyter.notebook.get_cells();\n",
       "                for (var i = 0; i < nbb_cells.length; ++i) {\n",
       "                    if (nbb_cells[i].input_prompt_number == nbb_cell_id) {\n",
       "                        if (nbb_cells[i].get_text() == nbb_unformatted_code) {\n",
       "                             nbb_cells[i].set_text(nbb_formatted_code);\n",
       "                        }\n",
       "                        break;\n",
       "                    }\n",
       "                }\n",
       "            }, 500);\n",
       "            "
      ],
      "text/plain": [
       "<IPython.core.display.Javascript object>"
      ]
     },
     "metadata": {},
     "output_type": "display_data"
    }
   ],
   "source": [
    "import sqlite3\n",
    "from sqlite3 import Error\n",
    "import pickle\n",
    "import os, sys\n",
    "import config\n",
    "\n",
    "config.root_path = os.path.abspath(os.path.join(os.getcwd(), \"..\"))\n",
    "sys.path.insert(0, config.root_path)\n",
    "\n",
    "from db.dbv2 import Table, AugmentedTable, TrainTestTable, GTA1Table, GTA2Table"
   ]
  },
  {
   "cell_type": "code",
   "execution_count": 10,
   "id": "4e846078",
   "metadata": {},
   "outputs": [
    {
     "data": {
      "application/javascript": [
       "\n",
       "            setTimeout(function() {\n",
       "                var nbb_cell_id = 10;\n",
       "                var nbb_unformatted_code = \"from src.dataset.gpt_augmentor import Augmentor\\nfrom src.dataset.utils import (\\n    truncate_by_token,\\n    avg_segment_length_by_char,\\n    avg_segment_length_by_token,\\n)\\nfrom src.dataset.dataset import RawData\\nfrom src.dataset.qmsum_preprocessing import (\\n    tokenize,\\n    clean_sentence,\\n    preprocess_text_segmentation,\\n    format_data_for_db_insertion,\\n    remove_blank_sentence,\\n    flatten_list,\\n)\\n\\nfrom nltk.tokenize import word_tokenize\";\n",
       "                var nbb_formatted_code = \"from src.dataset.gpt_augmentor import Augmentor\\nfrom src.dataset.utils import (\\n    truncate_by_token,\\n    avg_segment_length_by_char,\\n    avg_segment_length_by_token,\\n)\\nfrom src.dataset.dataset import RawData\\nfrom src.dataset.qmsum_preprocessing import (\\n    tokenize,\\n    clean_sentence,\\n    preprocess_text_segmentation,\\n    format_data_for_db_insertion,\\n    remove_blank_sentence,\\n    flatten_list,\\n)\\n\\nfrom nltk.tokenize import word_tokenize\";\n",
       "                var nbb_cells = Jupyter.notebook.get_cells();\n",
       "                for (var i = 0; i < nbb_cells.length; ++i) {\n",
       "                    if (nbb_cells[i].input_prompt_number == nbb_cell_id) {\n",
       "                        if (nbb_cells[i].get_text() == nbb_unformatted_code) {\n",
       "                             nbb_cells[i].set_text(nbb_formatted_code);\n",
       "                        }\n",
       "                        break;\n",
       "                    }\n",
       "                }\n",
       "            }, 500);\n",
       "            "
      ],
      "text/plain": [
       "<IPython.core.display.Javascript object>"
      ]
     },
     "metadata": {},
     "output_type": "display_data"
    }
   ],
   "source": [
    "from src.dataset.gpt_augmentor import Augmentor\n",
    "from src.dataset.utils import (\n",
    "    truncate_by_token,\n",
    "    avg_segment_length_by_char,\n",
    "    avg_segment_length_by_token,\n",
    ")\n",
    "from src.dataset.dataset import RawData\n",
    "from src.dataset.qmsum_preprocessing import (\n",
    "    tokenize,\n",
    "    clean_sentence,\n",
    "    preprocess_text_segmentation,\n",
    "    format_data_for_db_insertion,\n",
    "    remove_blank_sentence,\n",
    "    flatten_list,\n",
    ")\n",
    "\n",
    "from nltk.tokenize import word_tokenize"
   ]
  },
  {
   "cell_type": "code",
   "execution_count": 11,
   "id": "6c78ac82",
   "metadata": {},
   "outputs": [
    {
     "data": {
      "application/javascript": [
       "\n",
       "            setTimeout(function() {\n",
       "                var nbb_cell_id = 11;\n",
       "                var nbb_unformatted_code = \"for dataset_type in [\\\"committee\\\", \\\"product\\\", \\\"academic\\\"]:\\n    database = r\\\"{}/db/{}.db\\\".format(config.root_path, dataset_type)\\n\\n    dataset = RawData(dataset_type)\\n\\n    data = dataset.get_data()\\n    cleaned_data = preprocess_text_segmentation(data)\\n    non_blank_sentences = [remove_blank_sentence(segment) for segment in cleaned_data]\\n\\n    data_to_insert = format_data_for_db_insertion(non_blank_sentences)\\n\\n    table = Table(dataset_type)\\n    augmented_table = AugmentedTable(dataset_type)\\n    gta1_table = GTA1Table(dataset_type)\\n    gta2_table = GTA2Table(dataset_type)\\n    train_test_table = TrainTestTable(dataset_type)\";\n",
       "                var nbb_formatted_code = \"for dataset_type in [\\\"committee\\\", \\\"product\\\", \\\"academic\\\"]:\\n    database = r\\\"{}/db/{}.db\\\".format(config.root_path, dataset_type)\\n\\n    dataset = RawData(dataset_type)\\n\\n    data = dataset.get_data()\\n    cleaned_data = preprocess_text_segmentation(data)\\n    non_blank_sentences = [remove_blank_sentence(segment) for segment in cleaned_data]\\n\\n    data_to_insert = format_data_for_db_insertion(non_blank_sentences)\\n\\n    table = Table(dataset_type)\\n    augmented_table = AugmentedTable(dataset_type)\\n    gta1_table = GTA1Table(dataset_type)\\n    gta2_table = GTA2Table(dataset_type)\\n    train_test_table = TrainTestTable(dataset_type)\";\n",
       "                var nbb_cells = Jupyter.notebook.get_cells();\n",
       "                for (var i = 0; i < nbb_cells.length; ++i) {\n",
       "                    if (nbb_cells[i].input_prompt_number == nbb_cell_id) {\n",
       "                        if (nbb_cells[i].get_text() == nbb_unformatted_code) {\n",
       "                             nbb_cells[i].set_text(nbb_formatted_code);\n",
       "                        }\n",
       "                        break;\n",
       "                    }\n",
       "                }\n",
       "            }, 500);\n",
       "            "
      ],
      "text/plain": [
       "<IPython.core.display.Javascript object>"
      ]
     },
     "metadata": {},
     "output_type": "display_data"
    }
   ],
   "source": [
    "for dataset_type in [\"committee\", \"product\", \"academic\"]:\n",
    "    database = r\"{}/db/{}.db\".format(config.root_path, dataset_type)\n",
    "\n",
    "    dataset = RawData(dataset_type)\n",
    "\n",
    "    data = dataset.get_data()\n",
    "    cleaned_data = preprocess_text_segmentation(data)\n",
    "    non_blank_sentences = [remove_blank_sentence(segment) for segment in cleaned_data]\n",
    "\n",
    "    data_to_insert = format_data_for_db_insertion(non_blank_sentences)\n",
    "\n",
    "    table = Table(dataset_type)\n",
    "    augmented_table = AugmentedTable(dataset_type)\n",
    "    gta1_table = GTA1Table(dataset_type)\n",
    "    gta2_table = GTA2Table(dataset_type)\n",
    "    train_test_table = TrainTestTable(dataset_type)"
   ]
  },
  {
   "cell_type": "code",
   "execution_count": null,
   "id": "3dbde6f0",
   "metadata": {},
   "outputs": [],
   "source": []
  }
 ],
 "metadata": {
  "kernelspec": {
   "display_name": "Python 3 (ipykernel)",
   "language": "python",
   "name": "python3"
  },
  "language_info": {
   "codemirror_mode": {
    "name": "ipython",
    "version": 3
   },
   "file_extension": ".py",
   "mimetype": "text/x-python",
   "name": "python",
   "nbconvert_exporter": "python",
   "pygments_lexer": "ipython3",
   "version": "3.8.13"
  }
 },
 "nbformat": 4,
 "nbformat_minor": 5
}
