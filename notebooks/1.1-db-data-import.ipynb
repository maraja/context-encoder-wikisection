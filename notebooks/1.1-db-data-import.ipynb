{
 "cells": [
  {
   "cell_type": "code",
   "execution_count": 1,
   "id": "26fc71da",
   "metadata": {},
   "outputs": [
    {
     "data": {
      "application/javascript": [
       "\n",
       "            setTimeout(function() {\n",
       "                var nbb_cell_id = 1;\n",
       "                var nbb_unformatted_code = \"# Run if working locally\\n%load_ext autoreload\\n%autoreload 2\\n%load_ext nb_black\";\n",
       "                var nbb_formatted_code = \"# Run if working locally\\n%load_ext autoreload\\n%autoreload 2\\n%load_ext nb_black\";\n",
       "                var nbb_cells = Jupyter.notebook.get_cells();\n",
       "                for (var i = 0; i < nbb_cells.length; ++i) {\n",
       "                    if (nbb_cells[i].input_prompt_number == nbb_cell_id) {\n",
       "                        if (nbb_cells[i].get_text() == nbb_unformatted_code) {\n",
       "                             nbb_cells[i].set_text(nbb_formatted_code);\n",
       "                        }\n",
       "                        break;\n",
       "                    }\n",
       "                }\n",
       "            }, 500);\n",
       "            "
      ],
      "text/plain": [
       "<IPython.core.display.Javascript object>"
      ]
     },
     "metadata": {},
     "output_type": "display_data"
    }
   ],
   "source": [
    "# Run if working locally\n",
    "%load_ext autoreload\n",
    "%autoreload 2\n",
    "%load_ext nb_black"
   ]
  },
  {
   "cell_type": "code",
   "execution_count": 2,
   "id": "72adac0a",
   "metadata": {},
   "outputs": [
    {
     "data": {
      "application/javascript": [
       "\n",
       "            setTimeout(function() {\n",
       "                var nbb_cell_id = 2;\n",
       "                var nbb_unformatted_code = \"import sqlite3\\nfrom sqlite3 import Error\\nimport pickle\\nimport os, sys\\nimport config\\n\\nconfig.root_path = os.path.abspath(os.path.join(os.getcwd(), \\\"..\\\"))\\nsys.path.insert(0, config.root_path)\\n\\nfrom src.dataset.dataset import RawData\\nfrom src.dataset.wikisection_preprocessing import (\\n    tokenize,\\n    clean_sentence,\\n    preprocess_text_segmentation,\\n    format_data_for_db_insertion,\\n    remove_blank_sentence,\\n    flatten_list,\\n)\\nfrom db.dbv2 import DB, Table, TestTable, ValidationTable\";\n",
       "                var nbb_formatted_code = \"import sqlite3\\nfrom sqlite3 import Error\\nimport pickle\\nimport os, sys\\nimport config\\n\\nconfig.root_path = os.path.abspath(os.path.join(os.getcwd(), \\\"..\\\"))\\nsys.path.insert(0, config.root_path)\\n\\nfrom src.dataset.dataset import RawData\\nfrom src.dataset.wikisection_preprocessing import (\\n    tokenize,\\n    clean_sentence,\\n    preprocess_text_segmentation,\\n    format_data_for_db_insertion,\\n    remove_blank_sentence,\\n    flatten_list,\\n)\\nfrom db.dbv2 import DB, Table, TestTable, ValidationTable\";\n",
       "                var nbb_cells = Jupyter.notebook.get_cells();\n",
       "                for (var i = 0; i < nbb_cells.length; ++i) {\n",
       "                    if (nbb_cells[i].input_prompt_number == nbb_cell_id) {\n",
       "                        if (nbb_cells[i].get_text() == nbb_unformatted_code) {\n",
       "                             nbb_cells[i].set_text(nbb_formatted_code);\n",
       "                        }\n",
       "                        break;\n",
       "                    }\n",
       "                }\n",
       "            }, 500);\n",
       "            "
      ],
      "text/plain": [
       "<IPython.core.display.Javascript object>"
      ]
     },
     "metadata": {},
     "output_type": "display_data"
    }
   ],
   "source": [
    "import sqlite3\n",
    "from sqlite3 import Error\n",
    "import pickle\n",
    "import os, sys\n",
    "import config\n",
    "\n",
    "config.root_path = os.path.abspath(os.path.join(os.getcwd(), \"..\"))\n",
    "sys.path.insert(0, config.root_path)\n",
    "\n",
    "from src.dataset.dataset import RawData\n",
    "from src.dataset.wikisection_preprocessing import (\n",
    "    tokenize,\n",
    "    clean_sentence,\n",
    "    preprocess_text_segmentation,\n",
    "    format_data_for_db_insertion,\n",
    "    remove_blank_sentence,\n",
    "    flatten_list,\n",
    ")\n",
    "from db.dbv2 import DB, Table, TestTable, ValidationTable"
   ]
  },
  {
   "cell_type": "code",
   "execution_count": 3,
   "id": "fa53516e",
   "metadata": {},
   "outputs": [
    {
     "data": {
      "application/javascript": [
       "\n",
       "            setTimeout(function() {\n",
       "                var nbb_cell_id = 3;\n",
       "                var nbb_unformatted_code = \"dataset_type = \\\"city\\\"\";\n",
       "                var nbb_formatted_code = \"dataset_type = \\\"city\\\"\";\n",
       "                var nbb_cells = Jupyter.notebook.get_cells();\n",
       "                for (var i = 0; i < nbb_cells.length; ++i) {\n",
       "                    if (nbb_cells[i].input_prompt_number == nbb_cell_id) {\n",
       "                        if (nbb_cells[i].get_text() == nbb_unformatted_code) {\n",
       "                             nbb_cells[i].set_text(nbb_formatted_code);\n",
       "                        }\n",
       "                        break;\n",
       "                    }\n",
       "                }\n",
       "            }, 500);\n",
       "            "
      ],
      "text/plain": [
       "<IPython.core.display.Javascript object>"
      ]
     },
     "metadata": {},
     "output_type": "display_data"
    }
   ],
   "source": [
    "dataset_type = \"city\""
   ]
  },
  {
   "cell_type": "code",
   "execution_count": 4,
   "id": "8b69e762",
   "metadata": {},
   "outputs": [
    {
     "data": {
      "application/javascript": [
       "\n",
       "            setTimeout(function() {\n",
       "                var nbb_cell_id = 4;\n",
       "                var nbb_unformatted_code = \"dataset = RawData(dataset_type)\\n\\ndata = dataset.get_data()\\ncleaned_data = preprocess_text_segmentation(data)\";\n",
       "                var nbb_formatted_code = \"dataset = RawData(dataset_type)\\n\\ndata = dataset.get_data()\\ncleaned_data = preprocess_text_segmentation(data)\";\n",
       "                var nbb_cells = Jupyter.notebook.get_cells();\n",
       "                for (var i = 0; i < nbb_cells.length; ++i) {\n",
       "                    if (nbb_cells[i].input_prompt_number == nbb_cell_id) {\n",
       "                        if (nbb_cells[i].get_text() == nbb_unformatted_code) {\n",
       "                             nbb_cells[i].set_text(nbb_formatted_code);\n",
       "                        }\n",
       "                        break;\n",
       "                    }\n",
       "                }\n",
       "            }, 500);\n",
       "            "
      ],
      "text/plain": [
       "<IPython.core.display.Javascript object>"
      ]
     },
     "metadata": {},
     "output_type": "display_data"
    }
   ],
   "source": [
    "dataset = RawData(dataset_type)\n",
    "\n",
    "data = dataset.get_data()\n",
    "cleaned_data = preprocess_text_segmentation(data)"
   ]
  },
  {
   "cell_type": "code",
   "execution_count": 5,
   "id": "d8ec9e56",
   "metadata": {},
   "outputs": [
    {
     "name": "stdout",
     "output_type": "stream",
     "text": [
      "length before blank sentence removal: 92839\n",
      "length after blank sentence removal: 92839\n"
     ]
    },
    {
     "data": {
      "application/javascript": [
       "\n",
       "            setTimeout(function() {\n",
       "                var nbb_cell_id = 5;\n",
       "                var nbb_unformatted_code = \"print(\\\"length before blank sentence removal:\\\", len(flatten_list(cleaned_data)))\\nnon_blank_sentences = [remove_blank_sentence(segment) for segment in cleaned_data]\\nprint(\\\"length after blank sentence removal:\\\", len(flatten_list(non_blank_sentences)))\";\n",
       "                var nbb_formatted_code = \"print(\\\"length before blank sentence removal:\\\", len(flatten_list(cleaned_data)))\\nnon_blank_sentences = [remove_blank_sentence(segment) for segment in cleaned_data]\\nprint(\\\"length after blank sentence removal:\\\", len(flatten_list(non_blank_sentences)))\";\n",
       "                var nbb_cells = Jupyter.notebook.get_cells();\n",
       "                for (var i = 0; i < nbb_cells.length; ++i) {\n",
       "                    if (nbb_cells[i].input_prompt_number == nbb_cell_id) {\n",
       "                        if (nbb_cells[i].get_text() == nbb_unformatted_code) {\n",
       "                             nbb_cells[i].set_text(nbb_formatted_code);\n",
       "                        }\n",
       "                        break;\n",
       "                    }\n",
       "                }\n",
       "            }, 500);\n",
       "            "
      ],
      "text/plain": [
       "<IPython.core.display.Javascript object>"
      ]
     },
     "metadata": {},
     "output_type": "display_data"
    }
   ],
   "source": [
    "print(\"length before blank sentence removal:\", len(flatten_list(cleaned_data)))\n",
    "non_blank_sentences = [remove_blank_sentence(segment) for segment in cleaned_data]\n",
    "print(\"length after blank sentence removal:\", len(flatten_list(non_blank_sentences)))"
   ]
  },
  {
   "cell_type": "markdown",
   "id": "ff203052",
   "metadata": {},
   "source": [
    "## Format the Data"
   ]
  },
  {
   "cell_type": "code",
   "execution_count": 6,
   "id": "48c941c6",
   "metadata": {},
   "outputs": [
    {
     "data": {
      "application/javascript": [
       "\n",
       "            setTimeout(function() {\n",
       "                var nbb_cell_id = 6;\n",
       "                var nbb_unformatted_code = \"data_to_insert = format_data_for_db_insertion(non_blank_sentences)\";\n",
       "                var nbb_formatted_code = \"data_to_insert = format_data_for_db_insertion(non_blank_sentences)\";\n",
       "                var nbb_cells = Jupyter.notebook.get_cells();\n",
       "                for (var i = 0; i < nbb_cells.length; ++i) {\n",
       "                    if (nbb_cells[i].input_prompt_number == nbb_cell_id) {\n",
       "                        if (nbb_cells[i].get_text() == nbb_unformatted_code) {\n",
       "                             nbb_cells[i].set_text(nbb_formatted_code);\n",
       "                        }\n",
       "                        break;\n",
       "                    }\n",
       "                }\n",
       "            }, 500);\n",
       "            "
      ],
      "text/plain": [
       "<IPython.core.display.Javascript object>"
      ]
     },
     "metadata": {},
     "output_type": "display_data"
    }
   ],
   "source": [
    "data_to_insert = format_data_for_db_insertion(non_blank_sentences)"
   ]
  },
  {
   "cell_type": "code",
   "execution_count": 7,
   "id": "b60016f6",
   "metadata": {},
   "outputs": [
    {
     "data": {
      "text/plain": [
       "[('In spite of appearances, both the Basque form Donostia and the Spanish form San Sebastián have the same meaning of Saint Sebastian. The dona/done/doni element in Basque place-names signifies \"saint\" and is derived from Latin domine; the second part of Donostia contains a shortened form of the saint\\'s name. There are two hypotheses regarding the evolution of the Basque name: one says it was *Done Sebastiáne > Donasa(b)astiai > Donasastia > Donastia > Donostia, the other one says it was *Done Sebastiane > *Done Sebastiae > *Done Sebastie > *Donesebastia > *Donasastia > *Donastia > Donostia.\\n',\n",
       "  1,\n",
       "  None,\n",
       "  0),\n",
       " (\"The city is in the north of the Basque Autonomous Community, on the southern coast of the Bay of Biscay. San Sebastián's picturesque shoreline makes it a popular beach resort. The seaside environment is enhanced by hilly surroundings that are easily accessible, i.e., Urgull (at the heart of the city by the seashore), romantic Mount Ulia extending east to Pasaia, Mount Adarra rising proud far on the south and Igeldo, overlooking the bay from the west.\\nThe city sits at the mouth of the River Urumea, Donostia having been built to a large extent over the river's wetlands during the last two centuries. In fact, the city centre and the districts of Amara Berri and Riberas de Loiola lie on such terrain and the former bed of the river, diverted to its current canalized course in the first half of the 20th century.\\n\",\n",
       "  0,\n",
       "  1,\n",
       "  1),\n",
       " ('San Sebastián features an oceanic climate (Köppen Cfb) with warm summers and cool winters. Like many cities with this climate, San Sebastián typically experiences cloudy or overcast conditions for the majority of the year, typically with some precipitation. The city averages roughly of precipitation annually, which is fairly evenly spread throughout the year. However, the city is somewhat drier and noticeably sunnier in the summer months, experiencing on average approximately of precipitation during those months. Average temperatures range from in January to in August.\\n',\n",
       "  0,\n",
       "  1,\n",
       "  2),\n",
       " ('The first evidence of human stationary presence in the current city is the settlement of Ametzagaña, between South Intxaurrondo and Astigarraga. The unearthed remains, such as carved stone used as knives to cut animal skin, date from 24,000 to 22,000 BC. The open-air findings of the Upper Paleolithic have revealed that the settlers were hunters and Homo sapiens, besides pointing to a much colder climate at the time.\\n',\n",
       "  0,\n",
       "  1,\n",
       "  3),\n",
       " ('San Sebastián is thought to have been in the territory of the Varduli in Roman times. east of the current city lay the Basque Roman town of Oiasso (Irun), which was for a long time wrongly identified with San Sebastián.\\n',\n",
       "  0,\n",
       "  1,\n",
       "  4)]"
      ]
     },
     "execution_count": 7,
     "metadata": {},
     "output_type": "execute_result"
    },
    {
     "data": {
      "application/javascript": [
       "\n",
       "            setTimeout(function() {\n",
       "                var nbb_cell_id = 7;\n",
       "                var nbb_unformatted_code = \"data_to_insert[:5]\";\n",
       "                var nbb_formatted_code = \"data_to_insert[:5]\";\n",
       "                var nbb_cells = Jupyter.notebook.get_cells();\n",
       "                for (var i = 0; i < nbb_cells.length; ++i) {\n",
       "                    if (nbb_cells[i].input_prompt_number == nbb_cell_id) {\n",
       "                        if (nbb_cells[i].get_text() == nbb_unformatted_code) {\n",
       "                             nbb_cells[i].set_text(nbb_formatted_code);\n",
       "                        }\n",
       "                        break;\n",
       "                    }\n",
       "                }\n",
       "            }, 500);\n",
       "            "
      ],
      "text/plain": [
       "<IPython.core.display.Javascript object>"
      ]
     },
     "metadata": {},
     "output_type": "display_data"
    }
   ],
   "source": [
    "data_to_insert[:5]"
   ]
  },
  {
   "cell_type": "markdown",
   "id": "35aaec90",
   "metadata": {},
   "source": [
    "## Iterative Import\n",
    "Because I'm going to sleep..."
   ]
  },
  {
   "cell_type": "code",
   "execution_count": 8,
   "id": "1a38fd6c",
   "metadata": {
    "scrolled": true
   },
   "outputs": [
    {
     "name": "stdout",
     "output_type": "stream",
     "text": [
      "Entered 0 sentences...\n",
      "Entered 500 sentences...\n",
      "Entered 1000 sentences...\n",
      "Entered 1500 sentences...\n",
      "Entered 2000 sentences...\n",
      "Entered 2500 sentences...\n",
      "Entered 3000 sentences...\n",
      "Entered 3500 sentences...\n",
      "Entered 4000 sentences...\n",
      "Entered 4500 sentences...\n",
      "Entered 5000 sentences...\n",
      "Entered 5500 sentences...\n",
      "Entered 6000 sentences...\n",
      "Entered 6500 sentences...\n",
      "Entered 7000 sentences...\n",
      "Entered 7500 sentences...\n",
      "Entered 8000 sentences...\n",
      "Entered 8500 sentences...\n",
      "Entered 9000 sentences...\n",
      "Entered 9500 sentences...\n",
      "Entered 10000 sentences...\n",
      "Entered 10500 sentences...\n",
      "Entered 11000 sentences...\n",
      "Entered 11500 sentences...\n",
      "Entered 12000 sentences...\n",
      "Entered 12500 sentences...\n",
      "Entered 13000 sentences...\n",
      "Entered 13500 sentences...\n",
      "Entered 14000 sentences...\n",
      "Entered 14500 sentences...\n",
      "Entered 15000 sentences...\n",
      "Entered 15500 sentences...\n",
      "Entered 16000 sentences...\n",
      "Entered 16500 sentences...\n",
      "Entered 17000 sentences...\n",
      "Entered 17500 sentences...\n",
      "Entered 18000 sentences...\n",
      "Entered 18500 sentences...\n",
      "Entered 19000 sentences...\n",
      "Entered 19500 sentences...\n",
      "Entered 20000 sentences...\n",
      "Entered 20500 sentences...\n",
      "Entered 21000 sentences...\n",
      "Entered 21500 sentences...\n",
      "Entered 22000 sentences...\n",
      "Entered 22500 sentences...\n",
      "Entered 23000 sentences...\n",
      "Entered 23500 sentences...\n",
      "Entered 24000 sentences...\n",
      "Entered 24500 sentences...\n",
      "Entered 25000 sentences...\n",
      "Entered 25500 sentences...\n",
      "Entered 26000 sentences...\n",
      "Entered 26500 sentences...\n",
      "Entered 27000 sentences...\n",
      "Entered 0 sentences...\n",
      "Entered 500 sentences...\n",
      "Entered 1000 sentences...\n",
      "Entered 1500 sentences...\n",
      "Entered 2000 sentences...\n",
      "Entered 2500 sentences...\n",
      "Entered 3000 sentences...\n",
      "Entered 3500 sentences...\n",
      "Entered 4000 sentences...\n",
      "Entered 4500 sentences...\n",
      "Entered 5000 sentences...\n",
      "Entered 5500 sentences...\n",
      "Entered 6000 sentences...\n",
      "Entered 6500 sentences...\n",
      "Entered 7000 sentences...\n",
      "Entered 7500 sentences...\n",
      "Entered 8000 sentences...\n",
      "Entered 8500 sentences...\n",
      "Entered 9000 sentences...\n",
      "Entered 9500 sentences...\n",
      "Entered 10000 sentences...\n",
      "Entered 10500 sentences...\n",
      "Entered 11000 sentences...\n",
      "Entered 11500 sentences...\n",
      "Entered 12000 sentences...\n",
      "Entered 12500 sentences...\n",
      "Entered 13000 sentences...\n",
      "Entered 13500 sentences...\n",
      "Entered 14000 sentences...\n",
      "Entered 14500 sentences...\n",
      "Entered 15000 sentences...\n",
      "Entered 15500 sentences...\n",
      "Entered 16000 sentences...\n",
      "Entered 16500 sentences...\n",
      "Entered 17000 sentences...\n",
      "Entered 17500 sentences...\n",
      "Entered 18000 sentences...\n",
      "Entered 18500 sentences...\n",
      "Entered 19000 sentences...\n",
      "Entered 19500 sentences...\n",
      "Entered 20000 sentences...\n",
      "Entered 20500 sentences...\n",
      "Entered 21000 sentences...\n",
      "Entered 21500 sentences...\n",
      "Entered 22000 sentences...\n",
      "Entered 22500 sentences...\n",
      "Entered 23000 sentences...\n",
      "Entered 23500 sentences...\n",
      "Entered 24000 sentences...\n",
      "Entered 24500 sentences...\n",
      "Entered 25000 sentences...\n",
      "Entered 25500 sentences...\n",
      "Entered 26000 sentences...\n",
      "Entered 26500 sentences...\n",
      "Entered 27000 sentences...\n",
      "Entered 27500 sentences...\n",
      "Entered 28000 sentences...\n",
      "Entered 28500 sentences...\n",
      "Entered 29000 sentences...\n",
      "Entered 29500 sentences...\n",
      "Entered 30000 sentences...\n",
      "Entered 30500 sentences...\n",
      "Entered 31000 sentences...\n",
      "Entered 31500 sentences...\n",
      "Entered 32000 sentences...\n",
      "Entered 32500 sentences...\n",
      "Entered 33000 sentences...\n",
      "Entered 33500 sentences...\n",
      "Entered 34000 sentences...\n",
      "Entered 34500 sentences...\n",
      "Entered 35000 sentences...\n",
      "Entered 35500 sentences...\n",
      "Entered 36000 sentences...\n",
      "Entered 36500 sentences...\n",
      "Entered 37000 sentences...\n",
      "Entered 37500 sentences...\n",
      "Entered 38000 sentences...\n",
      "Entered 38500 sentences...\n",
      "Entered 39000 sentences...\n",
      "Entered 39500 sentences...\n",
      "Entered 40000 sentences...\n",
      "Entered 40500 sentences...\n",
      "Entered 41000 sentences...\n",
      "Entered 41500 sentences...\n",
      "Entered 42000 sentences...\n",
      "Entered 42500 sentences...\n",
      "Entered 43000 sentences...\n",
      "Entered 43500 sentences...\n",
      "Entered 44000 sentences...\n",
      "Entered 44500 sentences...\n",
      "Entered 45000 sentences...\n",
      "Entered 45500 sentences...\n",
      "Entered 46000 sentences...\n",
      "Entered 46500 sentences...\n",
      "Entered 47000 sentences...\n",
      "Entered 47500 sentences...\n",
      "Entered 48000 sentences...\n",
      "Entered 48500 sentences...\n",
      "Entered 49000 sentences...\n",
      "Entered 49500 sentences...\n",
      "Entered 50000 sentences...\n",
      "Entered 50500 sentences...\n",
      "Entered 51000 sentences...\n",
      "Entered 51500 sentences...\n",
      "Entered 52000 sentences...\n",
      "Entered 52500 sentences...\n",
      "Entered 53000 sentences...\n",
      "Entered 53500 sentences...\n",
      "Entered 54000 sentences...\n",
      "Entered 54500 sentences...\n",
      "Entered 55000 sentences...\n",
      "Entered 55500 sentences...\n",
      "Entered 56000 sentences...\n",
      "Entered 56500 sentences...\n",
      "Entered 57000 sentences...\n",
      "Entered 57500 sentences...\n",
      "Entered 58000 sentences...\n",
      "Entered 58500 sentences...\n",
      "Entered 59000 sentences...\n",
      "Entered 59500 sentences...\n",
      "Entered 60000 sentences...\n",
      "Entered 60500 sentences...\n",
      "Entered 61000 sentences...\n",
      "Entered 61500 sentences...\n",
      "Entered 62000 sentences...\n",
      "Entered 62500 sentences...\n",
      "Entered 63000 sentences...\n",
      "Entered 63500 sentences...\n",
      "Entered 64000 sentences...\n",
      "Entered 64500 sentences...\n",
      "Entered 65000 sentences...\n",
      "Entered 65500 sentences...\n",
      "Entered 66000 sentences...\n",
      "Entered 66500 sentences...\n",
      "Entered 67000 sentences...\n",
      "Entered 67500 sentences...\n",
      "Entered 68000 sentences...\n",
      "Entered 68500 sentences...\n",
      "Entered 69000 sentences...\n",
      "Entered 69500 sentences...\n",
      "Entered 70000 sentences...\n",
      "Entered 70500 sentences...\n",
      "Entered 71000 sentences...\n",
      "Entered 71500 sentences...\n",
      "Entered 72000 sentences...\n",
      "Entered 72500 sentences...\n",
      "Entered 73000 sentences...\n",
      "Entered 73500 sentences...\n",
      "Entered 74000 sentences...\n",
      "Entered 74500 sentences...\n",
      "Entered 75000 sentences...\n",
      "Entered 75500 sentences...\n",
      "Entered 76000 sentences...\n",
      "Entered 76500 sentences...\n",
      "Entered 77000 sentences...\n",
      "Entered 77500 sentences...\n",
      "Entered 78000 sentences...\n",
      "Entered 78500 sentences...\n",
      "Entered 79000 sentences...\n",
      "Entered 79500 sentences...\n",
      "Entered 80000 sentences...\n",
      "Entered 80500 sentences...\n",
      "Entered 81000 sentences...\n",
      "Entered 81500 sentences...\n",
      "Entered 82000 sentences...\n",
      "Entered 82500 sentences...\n",
      "Entered 83000 sentences...\n",
      "Entered 83500 sentences...\n",
      "Entered 84000 sentences...\n",
      "Entered 84500 sentences...\n",
      "Entered 85000 sentences...\n",
      "Entered 85500 sentences...\n",
      "Entered 86000 sentences...\n",
      "Entered 86500 sentences...\n",
      "Entered 87000 sentences...\n",
      "Entered 87500 sentences...\n",
      "Entered 88000 sentences...\n",
      "Entered 88500 sentences...\n",
      "Entered 89000 sentences...\n",
      "Entered 89500 sentences...\n",
      "Entered 90000 sentences...\n",
      "Entered 90500 sentences...\n",
      "Entered 91000 sentences...\n",
      "Entered 91500 sentences...\n",
      "Entered 92000 sentences...\n",
      "Entered 92500 sentences...\n",
      "Entered 0 sentences...\n",
      "Entered 500 sentences...\n",
      "Entered 1000 sentences...\n",
      "Entered 1500 sentences...\n",
      "Entered 2000 sentences...\n",
      "Entered 2500 sentences...\n",
      "Entered 3000 sentences...\n",
      "Entered 3500 sentences...\n",
      "Entered 4000 sentences...\n",
      "Entered 4500 sentences...\n",
      "Entered 5000 sentences...\n",
      "Entered 5500 sentences...\n",
      "Entered 6000 sentences...\n",
      "Entered 6500 sentences...\n",
      "Entered 7000 sentences...\n",
      "Entered 7500 sentences...\n",
      "Entered 8000 sentences...\n",
      "Entered 8500 sentences...\n",
      "Entered 9000 sentences...\n",
      "Entered 9500 sentences...\n",
      "Entered 10000 sentences...\n",
      "Entered 10500 sentences...\n",
      "Entered 11000 sentences...\n",
      "Entered 11500 sentences...\n",
      "Entered 12000 sentences...\n",
      "Entered 12500 sentences...\n",
      "Entered 13000 sentences...\n",
      "Entered 13500 sentences...\n",
      "Entered 0 sentences...\n",
      "Entered 500 sentences...\n",
      "Entered 1000 sentences...\n",
      "Entered 1500 sentences...\n",
      "Entered 2000 sentences...\n",
      "Entered 2500 sentences...\n",
      "Entered 3000 sentences...\n",
      "Entered 3500 sentences...\n",
      "Entered 4000 sentences...\n",
      "Entered 4500 sentences...\n",
      "Entered 5000 sentences...\n",
      "Entered 5500 sentences...\n",
      "Entered 0 sentences...\n",
      "Entered 500 sentences...\n",
      "Entered 1000 sentences...\n",
      "Entered 1500 sentences...\n",
      "Entered 2000 sentences...\n",
      "Entered 2500 sentences...\n",
      "Entered 3000 sentences...\n",
      "Entered 3500 sentences...\n",
      "Entered 4000 sentences...\n",
      "Entered 4500 sentences...\n",
      "Entered 5000 sentences...\n",
      "Entered 5500 sentences...\n",
      "Entered 6000 sentences...\n",
      "Entered 6500 sentences...\n",
      "Entered 7000 sentences...\n",
      "Entered 7500 sentences...\n",
      "Entered 8000 sentences...\n",
      "Entered 8500 sentences...\n",
      "Entered 9000 sentences...\n",
      "Entered 9500 sentences...\n",
      "Entered 10000 sentences...\n",
      "Entered 10500 sentences...\n",
      "Entered 11000 sentences...\n",
      "Entered 11500 sentences...\n",
      "Entered 12000 sentences...\n",
      "Entered 12500 sentences...\n",
      "Entered 13000 sentences...\n"
     ]
    },
    {
     "name": "stdout",
     "output_type": "stream",
     "text": [
      "Entered 13500 sentences...\n",
      "Entered 14000 sentences...\n",
      "Entered 14500 sentences...\n",
      "Entered 15000 sentences...\n",
      "Entered 15500 sentences...\n",
      "Entered 16000 sentences...\n",
      "Entered 16500 sentences...\n",
      "Entered 17000 sentences...\n",
      "Entered 17500 sentences...\n",
      "Entered 18000 sentences...\n",
      "Entered 18500 sentences...\n",
      "Entered 19000 sentences...\n",
      "Entered 19500 sentences...\n",
      "Entered 0 sentences...\n",
      "Entered 500 sentences...\n",
      "Entered 1000 sentences...\n",
      "Entered 1500 sentences...\n",
      "Entered 2000 sentences...\n",
      "Entered 2500 sentences...\n"
     ]
    },
    {
     "data": {
      "application/javascript": [
       "\n",
       "            setTimeout(function() {\n",
       "                var nbb_cell_id = 8;\n",
       "                var nbb_unformatted_code = \"for dataset_type in [\\\"city\\\", \\\"disease\\\"]:\\n    database = r\\\"{}/db/{}.db\\\".format(config.root_path, dataset_type)\\n\\n    for split in [\\\"test\\\", \\\"train\\\", \\\"validation\\\"]:\\n        dataset = RawData(dataset_type)\\n\\n        data = dataset.get_data(split=split)\\n        cleaned_data = preprocess_text_segmentation(data)\\n        non_blank_sentences = [\\n            remove_blank_sentence(segment) for segment in cleaned_data\\n        ]\\n\\n        data_to_insert = format_data_for_db_insertion(non_blank_sentences)\\n\\n        if split == \\\"test\\\":\\n            table = TestTable(dataset_type)\\n        elif split == \\\"validation\\\":\\n            table = ValidationTable(dataset_type)\\n        else:\\n            table = Table(dataset_type)\\n\\n        for i, sentence in enumerate(data_to_insert):\\n            sentence_id = table.create_sentence(sentence)\\n            if i % 500 == 0:\\n                print(f\\\"Entered {i} sentences...\\\")\";\n",
       "                var nbb_formatted_code = \"for dataset_type in [\\\"city\\\", \\\"disease\\\"]:\\n    database = r\\\"{}/db/{}.db\\\".format(config.root_path, dataset_type)\\n\\n    for split in [\\\"test\\\", \\\"train\\\", \\\"validation\\\"]:\\n        dataset = RawData(dataset_type)\\n\\n        data = dataset.get_data(split=split)\\n        cleaned_data = preprocess_text_segmentation(data)\\n        non_blank_sentences = [\\n            remove_blank_sentence(segment) for segment in cleaned_data\\n        ]\\n\\n        data_to_insert = format_data_for_db_insertion(non_blank_sentences)\\n\\n        if split == \\\"test\\\":\\n            table = TestTable(dataset_type)\\n        elif split == \\\"validation\\\":\\n            table = ValidationTable(dataset_type)\\n        else:\\n            table = Table(dataset_type)\\n\\n        for i, sentence in enumerate(data_to_insert):\\n            sentence_id = table.create_sentence(sentence)\\n            if i % 500 == 0:\\n                print(f\\\"Entered {i} sentences...\\\")\";\n",
       "                var nbb_cells = Jupyter.notebook.get_cells();\n",
       "                for (var i = 0; i < nbb_cells.length; ++i) {\n",
       "                    if (nbb_cells[i].input_prompt_number == nbb_cell_id) {\n",
       "                        if (nbb_cells[i].get_text() == nbb_unformatted_code) {\n",
       "                             nbb_cells[i].set_text(nbb_formatted_code);\n",
       "                        }\n",
       "                        break;\n",
       "                    }\n",
       "                }\n",
       "            }, 500);\n",
       "            "
      ],
      "text/plain": [
       "<IPython.core.display.Javascript object>"
      ]
     },
     "metadata": {},
     "output_type": "display_data"
    }
   ],
   "source": [
    "for dataset_type in [\"city\", \"disease\"]:\n",
    "    database = r\"{}/db/{}.db\".format(config.root_path, dataset_type)\n",
    "\n",
    "    for split in [\"test\", \"train\", \"validation\"]:\n",
    "        dataset = RawData(dataset_type)\n",
    "\n",
    "        data = dataset.get_data(split=split)\n",
    "        cleaned_data = preprocess_text_segmentation(data)\n",
    "        non_blank_sentences = [\n",
    "            remove_blank_sentence(segment) for segment in cleaned_data\n",
    "        ]\n",
    "\n",
    "        data_to_insert = format_data_for_db_insertion(non_blank_sentences)\n",
    "\n",
    "        if split == \"test\":\n",
    "            table = TestTable(dataset_type)\n",
    "        elif split == \"validation\":\n",
    "            table = ValidationTable(dataset_type)\n",
    "        else:\n",
    "            table = Table(dataset_type)\n",
    "\n",
    "        for i, sentence in enumerate(data_to_insert):\n",
    "            sentence_id = table.create_sentence(sentence)\n",
    "            if i % 500 == 0:\n",
    "                print(f\"Entered {i} sentences...\")"
   ]
  },
  {
   "cell_type": "code",
   "execution_count": 31,
   "id": "3b7d4dc9",
   "metadata": {},
   "outputs": [
    {
     "data": {
      "text/plain": [
       "'something something '"
      ]
     },
     "execution_count": 31,
     "metadata": {},
     "output_type": "execute_result"
    },
    {
     "data": {
      "application/javascript": [
       "\n",
       "            setTimeout(function() {\n",
       "                var nbb_cell_id = 31;\n",
       "                var nbb_unformatted_code = \"\\\"something something {disfmarker}\\\".replace(\\\"{disfmarker}\\\", \\\"\\\")\";\n",
       "                var nbb_formatted_code = \"\\\"something something {disfmarker}\\\".replace(\\\"{disfmarker}\\\", \\\"\\\")\";\n",
       "                var nbb_cells = Jupyter.notebook.get_cells();\n",
       "                for (var i = 0; i < nbb_cells.length; ++i) {\n",
       "                    if (nbb_cells[i].input_prompt_number == nbb_cell_id) {\n",
       "                        if (nbb_cells[i].get_text() == nbb_unformatted_code) {\n",
       "                             nbb_cells[i].set_text(nbb_formatted_code);\n",
       "                        }\n",
       "                        break;\n",
       "                    }\n",
       "                }\n",
       "            }, 500);\n",
       "            "
      ],
      "text/plain": [
       "<IPython.core.display.Javascript object>"
      ]
     },
     "metadata": {},
     "output_type": "display_data"
    }
   ],
   "source": [
    "\"something something {disfmarker}\".replace(\"{disfmarker}\", \"\")"
   ]
  },
  {
   "cell_type": "code",
   "execution_count": null,
   "id": "4d373b76",
   "metadata": {},
   "outputs": [],
   "source": []
  }
 ],
 "metadata": {
  "kernelspec": {
   "display_name": "Python 3 (ipykernel)",
   "language": "python",
   "name": "python3"
  },
  "language_info": {
   "codemirror_mode": {
    "name": "ipython",
    "version": 3
   },
   "file_extension": ".py",
   "mimetype": "text/x-python",
   "name": "python",
   "nbconvert_exporter": "python",
   "pygments_lexer": "ipython3",
   "version": "3.8.13"
  }
 },
 "nbformat": 4,
 "nbformat_minor": 5
}
