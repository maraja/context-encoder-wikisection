{
 "cells": [
  {
   "cell_type": "code",
   "execution_count": 1,
   "id": "28374263",
   "metadata": {},
   "outputs": [
    {
     "data": {
      "application/javascript": [
       "\n",
       "            setTimeout(function() {\n",
       "                var nbb_cell_id = 1;\n",
       "                var nbb_unformatted_code = \"# Run if working locally\\n%load_ext autoreload\\n%autoreload 2\\n%load_ext nb_black\";\n",
       "                var nbb_formatted_code = \"# Run if working locally\\n%load_ext autoreload\\n%autoreload 2\\n%load_ext nb_black\";\n",
       "                var nbb_cells = Jupyter.notebook.get_cells();\n",
       "                for (var i = 0; i < nbb_cells.length; ++i) {\n",
       "                    if (nbb_cells[i].input_prompt_number == nbb_cell_id) {\n",
       "                        if (nbb_cells[i].get_text() == nbb_unformatted_code) {\n",
       "                             nbb_cells[i].set_text(nbb_formatted_code);\n",
       "                        }\n",
       "                        break;\n",
       "                    }\n",
       "                }\n",
       "            }, 500);\n",
       "            "
      ],
      "text/plain": [
       "<IPython.core.display.Javascript object>"
      ]
     },
     "metadata": {},
     "output_type": "display_data"
    }
   ],
   "source": [
    "# Run if working locally\n",
    "%load_ext autoreload\n",
    "%autoreload 2\n",
    "%load_ext nb_black"
   ]
  },
  {
   "cell_type": "code",
   "execution_count": 28,
   "id": "ccd1f378",
   "metadata": {},
   "outputs": [
    {
     "data": {
      "application/javascript": [
       "\n",
       "            setTimeout(function() {\n",
       "                var nbb_cell_id = 28;\n",
       "                var nbb_unformatted_code = \"import sqlite3\\nfrom sqlite3 import Error\\nimport pickle\\nimport os, sys\\nimport config\\n\\nconfig.root_path = os.path.abspath(os.path.join(os.getcwd(), \\\"..\\\"))\\nsys.path.insert(0, config.root_path)\\n\\nfrom src.dataset.dataset import RawData\\nfrom src.dataset.wikisection_preprocessing import (\\n    tokenize,\\n    clean_sentence,\\n    preprocess_text_segmentation,\\n    format_data_for_db_insertion,\\n)\\nfrom src.dataset.utils import truncate_by_token\\nfrom db.dbv2 import Table, AugmentedTable, TrainTestTable\\nimport pprint\\n\\nfrom src.bertkeywords.src.similarities import Embedding, Similarities\\nfrom src.bertkeywords.src.keywords import Keywords\\nfrom src.encoders.coherence import Coherence\\nfrom src.dataset.utils import flatten, dedupe_list\";\n",
       "                var nbb_formatted_code = \"import sqlite3\\nfrom sqlite3 import Error\\nimport pickle\\nimport os, sys\\nimport config\\n\\nconfig.root_path = os.path.abspath(os.path.join(os.getcwd(), \\\"..\\\"))\\nsys.path.insert(0, config.root_path)\\n\\nfrom src.dataset.dataset import RawData\\nfrom src.dataset.wikisection_preprocessing import (\\n    tokenize,\\n    clean_sentence,\\n    preprocess_text_segmentation,\\n    format_data_for_db_insertion,\\n)\\nfrom src.dataset.utils import truncate_by_token\\nfrom db.dbv2 import Table, AugmentedTable, TrainTestTable\\nimport pprint\\n\\nfrom src.bertkeywords.src.similarities import Embedding, Similarities\\nfrom src.bertkeywords.src.keywords import Keywords\\nfrom src.encoders.coherence import Coherence\\nfrom src.dataset.utils import flatten, dedupe_list\";\n",
       "                var nbb_cells = Jupyter.notebook.get_cells();\n",
       "                for (var i = 0; i < nbb_cells.length; ++i) {\n",
       "                    if (nbb_cells[i].input_prompt_number == nbb_cell_id) {\n",
       "                        if (nbb_cells[i].get_text() == nbb_unformatted_code) {\n",
       "                             nbb_cells[i].set_text(nbb_formatted_code);\n",
       "                        }\n",
       "                        break;\n",
       "                    }\n",
       "                }\n",
       "            }, 500);\n",
       "            "
      ],
      "text/plain": [
       "<IPython.core.display.Javascript object>"
      ]
     },
     "metadata": {},
     "output_type": "display_data"
    }
   ],
   "source": [
    "import sqlite3\n",
    "from sqlite3 import Error\n",
    "import pickle\n",
    "import os, sys\n",
    "import config\n",
    "\n",
    "config.root_path = os.path.abspath(os.path.join(os.getcwd(), \"..\"))\n",
    "sys.path.insert(0, config.root_path)\n",
    "\n",
    "from src.dataset.dataset import RawData\n",
    "from src.dataset.wikisection_preprocessing import (\n",
    "    tokenize,\n",
    "    clean_sentence,\n",
    "    preprocess_text_segmentation,\n",
    "    format_data_for_db_insertion,\n",
    ")\n",
    "from src.dataset.utils import truncate_by_token\n",
    "from db.dbv2 import Table, AugmentedTable, TrainTestTable\n",
    "import pprint\n",
    "\n",
    "from src.bertkeywords.src.similarities import Embedding, Similarities\n",
    "from src.bertkeywords.src.keywords import Keywords\n",
    "from src.encoders.coherence import Coherence\n",
    "from src.dataset.utils import flatten, dedupe_list"
   ]
  },
  {
   "cell_type": "code",
   "execution_count": 17,
   "id": "59bf26aa",
   "metadata": {},
   "outputs": [
    {
     "name": "stderr",
     "output_type": "stream",
     "text": [
      "2023-03-28 21:56:38.959341: I tensorflow/core/grappler/optimizers/custom_graph_optimizer_registry.cc:114] Plugin optimizer for device_type GPU is enabled.\n",
      "2023-03-28 21:56:39.745646: I tensorflow/core/grappler/optimizers/custom_graph_optimizer_registry.cc:114] Plugin optimizer for device_type GPU is enabled.\n",
      "Some weights of the model checkpoint at bert-base-uncased were not used when initializing BertModel: ['cls.predictions.transform.dense.bias', 'cls.seq_relationship.bias', 'cls.predictions.bias', 'cls.predictions.transform.LayerNorm.weight', 'cls.seq_relationship.weight', 'cls.predictions.decoder.weight', 'cls.predictions.transform.LayerNorm.bias', 'cls.predictions.transform.dense.weight']\n",
      "- This IS expected if you are initializing BertModel from the checkpoint of a model trained on another task or with another architecture (e.g. initializing a BertForSequenceClassification model from a BertForPreTraining model).\n",
      "- This IS NOT expected if you are initializing BertModel from the checkpoint of a model that you expect to be exactly identical (initializing a BertForSequenceClassification model from a BertForSequenceClassification model).\n",
      "2023-03-28 21:56:41.277827: I tensorflow/core/grappler/optimizers/custom_graph_optimizer_registry.cc:114] Plugin optimizer for device_type GPU is enabled.\n"
     ]
    },
    {
     "data": {
      "application/javascript": [
       "\n",
       "            setTimeout(function() {\n",
       "                var nbb_cell_id = 17;\n",
       "                var nbb_unformatted_code = \"coherence = Coherence(max_words_per_step=4)\";\n",
       "                var nbb_formatted_code = \"coherence = Coherence(max_words_per_step=4)\";\n",
       "                var nbb_cells = Jupyter.notebook.get_cells();\n",
       "                for (var i = 0; i < nbb_cells.length; ++i) {\n",
       "                    if (nbb_cells[i].input_prompt_number == nbb_cell_id) {\n",
       "                        if (nbb_cells[i].get_text() == nbb_unformatted_code) {\n",
       "                             nbb_cells[i].set_text(nbb_formatted_code);\n",
       "                        }\n",
       "                        break;\n",
       "                    }\n",
       "                }\n",
       "            }, 500);\n",
       "            "
      ],
      "text/plain": [
       "<IPython.core.display.Javascript object>"
      ]
     },
     "metadata": {},
     "output_type": "display_data"
    }
   ],
   "source": [
    "coherence = Coherence(max_words_per_step=4)"
   ]
  },
  {
   "cell_type": "code",
   "execution_count": 8,
   "id": "2d57057f",
   "metadata": {},
   "outputs": [
    {
     "data": {
      "application/javascript": [
       "\n",
       "            setTimeout(function() {\n",
       "                var nbb_cell_id = 8;\n",
       "                var nbb_unformatted_code = \"sent1 = \\\"this is a sentence\\\"\\nsent2 = \\\"this is a similar sentence\\\"\\nsent3 = \\\"another sentence with some structure\\\"\\nsent4 = \\\"the structure is not that sound\\\"\\nsent5 = \\\"especially when it comes to architectural sound\\\"\\n\\nsegment1 = [sent1, sent2, sent3, sent4, sent5]\\nsegment2 = [sent1, sent2, sent5, sent4, sent3]\\nsegment3 = [sent2, sent3, sent1, sent4, sent3]\";\n",
       "                var nbb_formatted_code = \"sent1 = \\\"this is a sentence\\\"\\nsent2 = \\\"this is a similar sentence\\\"\\nsent3 = \\\"another sentence with some structure\\\"\\nsent4 = \\\"the structure is not that sound\\\"\\nsent5 = \\\"especially when it comes to architectural sound\\\"\\n\\nsegment1 = [sent1, sent2, sent3, sent4, sent5]\\nsegment2 = [sent1, sent2, sent5, sent4, sent3]\\nsegment3 = [sent2, sent3, sent1, sent4, sent3]\";\n",
       "                var nbb_cells = Jupyter.notebook.get_cells();\n",
       "                for (var i = 0; i < nbb_cells.length; ++i) {\n",
       "                    if (nbb_cells[i].input_prompt_number == nbb_cell_id) {\n",
       "                        if (nbb_cells[i].get_text() == nbb_unformatted_code) {\n",
       "                             nbb_cells[i].set_text(nbb_formatted_code);\n",
       "                        }\n",
       "                        break;\n",
       "                    }\n",
       "                }\n",
       "            }, 500);\n",
       "            "
      ],
      "text/plain": [
       "<IPython.core.display.Javascript object>"
      ]
     },
     "metadata": {},
     "output_type": "display_data"
    }
   ],
   "source": [
    "sent1 = \"this is a sentence\"\n",
    "sent2 = \"this is a similar sentence\"\n",
    "sent3 = \"another sentence with some structure\"\n",
    "sent4 = \"the structure is not that sound\"\n",
    "sent5 = \"especially when it comes to architectural sound\"\n",
    "\n",
    "segment1 = [sent1, sent2, sent3, sent4, sent5]\n",
    "segment2 = [sent1, sent2, sent5, sent4, sent3]\n",
    "segment3 = [sent2, sent3, sent1, sent4, sent3]"
   ]
  },
  {
   "cell_type": "code",
   "execution_count": 9,
   "id": "0035e557",
   "metadata": {},
   "outputs": [
    {
     "name": "stdout",
     "output_type": "stream",
     "text": [
      "WARNING:tensorflow:From /Users/amitmaraj/miniforge3/envs/phd/lib/python3.8/site-packages/keybert/backend/_use.py:55: _EagerTensorBase.cpu (from tensorflow.python.framework.ops) is deprecated and will be removed in a future version.\n",
      "Instructions for updating:\n",
      "Use tf.identity instead.\n"
     ]
    },
    {
     "name": "stderr",
     "output_type": "stream",
     "text": [
      "WARNING:tensorflow:From /Users/amitmaraj/miniforge3/envs/phd/lib/python3.8/site-packages/keybert/backend/_use.py:55: _EagerTensorBase.cpu (from tensorflow.python.framework.ops) is deprecated and will be removed in a future version.\n",
      "Instructions for updating:\n",
      "Use tf.identity instead.\n"
     ]
    },
    {
     "data": {
      "text/plain": [
       "['sentence', 'this', 'is', 'sentence', 'structure', 'sound']"
      ]
     },
     "execution_count": 9,
     "metadata": {},
     "output_type": "execute_result"
    },
    {
     "data": {
      "application/javascript": [
       "\n",
       "            setTimeout(function() {\n",
       "                var nbb_cell_id = 9;\n",
       "                var nbb_unformatted_code = \"coherence.get_coherence(segment1)\";\n",
       "                var nbb_formatted_code = \"coherence.get_coherence(segment1)\";\n",
       "                var nbb_cells = Jupyter.notebook.get_cells();\n",
       "                for (var i = 0; i < nbb_cells.length; ++i) {\n",
       "                    if (nbb_cells[i].input_prompt_number == nbb_cell_id) {\n",
       "                        if (nbb_cells[i].get_text() == nbb_unformatted_code) {\n",
       "                             nbb_cells[i].set_text(nbb_formatted_code);\n",
       "                        }\n",
       "                        break;\n",
       "                    }\n",
       "                }\n",
       "            }, 500);\n",
       "            "
      ],
      "text/plain": [
       "<IPython.core.display.Javascript object>"
      ]
     },
     "metadata": {},
     "output_type": "display_data"
    }
   ],
   "source": [
    "coherence.get_coherence(segment1)"
   ]
  },
  {
   "cell_type": "code",
   "execution_count": 10,
   "id": "00df3caa",
   "metadata": {},
   "outputs": [
    {
     "data": {
      "text/plain": [
       "[['sentence', 'this', 'is', 'sentence', 'structure', 'sound'],\n",
       " ['sentence', 'this', 'is', 'sound', 'structure'],\n",
       " ['sentence', 'sentence', 'is', 'structure']]"
      ]
     },
     "execution_count": 10,
     "metadata": {},
     "output_type": "execute_result"
    },
    {
     "data": {
      "application/javascript": [
       "\n",
       "            setTimeout(function() {\n",
       "                var nbb_cell_id = 10;\n",
       "                var nbb_unformatted_code = \"coherence.get_coherence_map([segment1, segment2, segment3])\";\n",
       "                var nbb_formatted_code = \"coherence.get_coherence_map([segment1, segment2, segment3])\";\n",
       "                var nbb_cells = Jupyter.notebook.get_cells();\n",
       "                for (var i = 0; i < nbb_cells.length; ++i) {\n",
       "                    if (nbb_cells[i].input_prompt_number == nbb_cell_id) {\n",
       "                        if (nbb_cells[i].get_text() == nbb_unformatted_code) {\n",
       "                             nbb_cells[i].set_text(nbb_formatted_code);\n",
       "                        }\n",
       "                        break;\n",
       "                    }\n",
       "                }\n",
       "            }, 500);\n",
       "            "
      ],
      "text/plain": [
       "<IPython.core.display.Javascript object>"
      ]
     },
     "metadata": {},
     "output_type": "display_data"
    }
   ],
   "source": [
    "coherence.get_coherence_map([segment1, segment2, segment3])"
   ]
  },
  {
   "cell_type": "markdown",
   "id": "0e6cae45",
   "metadata": {},
   "source": [
    "## Test with Data"
   ]
  },
  {
   "cell_type": "code",
   "execution_count": 18,
   "id": "9d9fbb8e",
   "metadata": {},
   "outputs": [
    {
     "data": {
      "application/javascript": [
       "\n",
       "            setTimeout(function() {\n",
       "                var nbb_cell_id = 18;\n",
       "                var nbb_unformatted_code = \"dataset_type = \\\"city\\\"\\ntable = Table(dataset_type)\\naugmented_table = AugmentedTable(dataset_type)\\ntrain_test_table = TrainTestTable(dataset_type)\";\n",
       "                var nbb_formatted_code = \"dataset_type = \\\"city\\\"\\ntable = Table(dataset_type)\\naugmented_table = AugmentedTable(dataset_type)\\ntrain_test_table = TrainTestTable(dataset_type)\";\n",
       "                var nbb_cells = Jupyter.notebook.get_cells();\n",
       "                for (var i = 0; i < nbb_cells.length; ++i) {\n",
       "                    if (nbb_cells[i].input_prompt_number == nbb_cell_id) {\n",
       "                        if (nbb_cells[i].get_text() == nbb_unformatted_code) {\n",
       "                             nbb_cells[i].set_text(nbb_formatted_code);\n",
       "                        }\n",
       "                        break;\n",
       "                    }\n",
       "                }\n",
       "            }, 500);\n",
       "            "
      ],
      "text/plain": [
       "<IPython.core.display.Javascript object>"
      ]
     },
     "metadata": {},
     "output_type": "display_data"
    }
   ],
   "source": [
    "dataset_type = \"city\"\n",
    "table = Table(dataset_type)\n",
    "augmented_table = AugmentedTable(dataset_type)\n",
    "train_test_table = TrainTestTable(dataset_type)"
   ]
  },
  {
   "cell_type": "code",
   "execution_count": 19,
   "id": "5b714c6c",
   "metadata": {},
   "outputs": [
    {
     "data": {
      "application/javascript": [
       "\n",
       "            setTimeout(function() {\n",
       "                var nbb_cell_id = 19;\n",
       "                var nbb_unformatted_code = \"data = table.get_all()\\n\\ntext_data = [x[1] for x in data]\\ntext_labels = [x[2] for x in data]\";\n",
       "                var nbb_formatted_code = \"data = table.get_all()\\n\\ntext_data = [x[1] for x in data]\\ntext_labels = [x[2] for x in data]\";\n",
       "                var nbb_cells = Jupyter.notebook.get_cells();\n",
       "                for (var i = 0; i < nbb_cells.length; ++i) {\n",
       "                    if (nbb_cells[i].input_prompt_number == nbb_cell_id) {\n",
       "                        if (nbb_cells[i].get_text() == nbb_unformatted_code) {\n",
       "                             nbb_cells[i].set_text(nbb_formatted_code);\n",
       "                        }\n",
       "                        break;\n",
       "                    }\n",
       "                }\n",
       "            }, 500);\n",
       "            "
      ],
      "text/plain": [
       "<IPython.core.display.Javascript object>"
      ]
     },
     "metadata": {},
     "output_type": "display_data"
    }
   ],
   "source": [
    "data = table.get_all()\n",
    "\n",
    "text_data = [x[1] for x in data]\n",
    "text_labels = [x[2] for x in data]"
   ]
  },
  {
   "cell_type": "code",
   "execution_count": 20,
   "id": "7fca9352",
   "metadata": {},
   "outputs": [
    {
     "data": {
      "application/javascript": [
       "\n",
       "            setTimeout(function() {\n",
       "                var nbb_cell_id = 20;\n",
       "                var nbb_unformatted_code = \"all_segments = table.get_all_segments()\\ntext_segments = [[y[1] for y in x] for x in all_segments]\\nsegments_labels = [\\n    [1 if i == 0 else 0 for i, y in enumerate(x)] for x in all_segments\\n]  # [[1,0,0], [1,0], [1,0,0,0], ...]\";\n",
       "                var nbb_formatted_code = \"all_segments = table.get_all_segments()\\ntext_segments = [[y[1] for y in x] for x in all_segments]\\nsegments_labels = [\\n    [1 if i == 0 else 0 for i, y in enumerate(x)] for x in all_segments\\n]  # [[1,0,0], [1,0], [1,0,0,0], ...]\";\n",
       "                var nbb_cells = Jupyter.notebook.get_cells();\n",
       "                for (var i = 0; i < nbb_cells.length; ++i) {\n",
       "                    if (nbb_cells[i].input_prompt_number == nbb_cell_id) {\n",
       "                        if (nbb_cells[i].get_text() == nbb_unformatted_code) {\n",
       "                             nbb_cells[i].set_text(nbb_formatted_code);\n",
       "                        }\n",
       "                        break;\n",
       "                    }\n",
       "                }\n",
       "            }, 500);\n",
       "            "
      ],
      "text/plain": [
       "<IPython.core.display.Javascript object>"
      ]
     },
     "metadata": {},
     "output_type": "display_data"
    }
   ],
   "source": [
    "all_segments = table.get_all_segments()\n",
    "text_segments = [[y[1] for y in x] for x in all_segments]\n",
    "segments_labels = [\n",
    "    [1 if i == 0 else 0 for i, y in enumerate(x)] for x in all_segments\n",
    "]  # [[1,0,0], [1,0], [1,0,0,0], ...]"
   ]
  },
  {
   "cell_type": "code",
   "execution_count": 21,
   "id": "d95ecd7b",
   "metadata": {},
   "outputs": [
    {
     "name": "stdout",
     "output_type": "stream",
     "text": [
      "['festival', 'basque', 'navarre', 'parade', 'railway', 'sebastián', 'district', 'buildings', 'event']\n",
      "['household', 'population', 'households', 'census']\n",
      "[]\n",
      "['household', 'population', 'households', 'census']\n",
      "[]\n",
      "['population', 'harvard', 'household', 'households', 'census']\n",
      "['pacific', 'fiji', 'urban', 'central']\n",
      "[]\n",
      "[]\n",
      "['household', 'households', 'census']\n"
     ]
    },
    {
     "data": {
      "application/javascript": [
       "\n",
       "            setTimeout(function() {\n",
       "                var nbb_cell_id = 21;\n",
       "                var nbb_unformatted_code = \"segments_to_test = 10\\nmax_tokens = 400  # want to keep this under 512\\n\\nfor segment, labels in zip(\\n    text_segments[:segments_to_test], segments_labels[:segments_to_test]\\n):\\n    truncated_segment = [truncate_by_token(s, max_tokens) for s in segment]\\n    print(coherence.get_coherence(truncated_segment))\";\n",
       "                var nbb_formatted_code = \"segments_to_test = 10\\nmax_tokens = 400  # want to keep this under 512\\n\\nfor segment, labels in zip(\\n    text_segments[:segments_to_test], segments_labels[:segments_to_test]\\n):\\n    truncated_segment = [truncate_by_token(s, max_tokens) for s in segment]\\n    print(coherence.get_coherence(truncated_segment))\";\n",
       "                var nbb_cells = Jupyter.notebook.get_cells();\n",
       "                for (var i = 0; i < nbb_cells.length; ++i) {\n",
       "                    if (nbb_cells[i].input_prompt_number == nbb_cell_id) {\n",
       "                        if (nbb_cells[i].get_text() == nbb_unformatted_code) {\n",
       "                             nbb_cells[i].set_text(nbb_formatted_code);\n",
       "                        }\n",
       "                        break;\n",
       "                    }\n",
       "                }\n",
       "            }, 500);\n",
       "            "
      ],
      "text/plain": [
       "<IPython.core.display.Javascript object>"
      ]
     },
     "metadata": {},
     "output_type": "display_data"
    }
   ],
   "source": [
    "segments_to_test = 10\n",
    "max_tokens = 400  # want to keep this under 512\n",
    "\n",
    "for segment, labels in zip(\n",
    "    text_segments[:segments_to_test], segments_labels[:segments_to_test]\n",
    "):\n",
    "    truncated_segment = [truncate_by_token(s, max_tokens) for s in segment]\n",
    "    print(coherence.get_coherence(truncated_segment))"
   ]
  },
  {
   "cell_type": "code",
   "execution_count": 23,
   "id": "54156255",
   "metadata": {},
   "outputs": [
    {
     "data": {
      "application/javascript": [
       "\n",
       "            setTimeout(function() {\n",
       "                var nbb_cell_id = 23;\n",
       "                var nbb_unformatted_code = \"text_segments_to_check = [[truncate_by_token(s, max_tokens) for s in segment] for segment in text_segments[:segments_to_test]]\";\n",
       "                var nbb_formatted_code = \"text_segments_to_check = [\\n    [truncate_by_token(s, max_tokens) for s in segment]\\n    for segment in text_segments[:segments_to_test]\\n]\";\n",
       "                var nbb_cells = Jupyter.notebook.get_cells();\n",
       "                for (var i = 0; i < nbb_cells.length; ++i) {\n",
       "                    if (nbb_cells[i].input_prompt_number == nbb_cell_id) {\n",
       "                        if (nbb_cells[i].get_text() == nbb_unformatted_code) {\n",
       "                             nbb_cells[i].set_text(nbb_formatted_code);\n",
       "                        }\n",
       "                        break;\n",
       "                    }\n",
       "                }\n",
       "            }, 500);\n",
       "            "
      ],
      "text/plain": [
       "<IPython.core.display.Javascript object>"
      ]
     },
     "metadata": {},
     "output_type": "display_data"
    }
   ],
   "source": [
    "text_segments_to_check = [\n",
    "    [truncate_by_token(s, max_tokens) for s in segment]\n",
    "    for segment in text_segments[:segments_to_test]\n",
    "]"
   ]
  },
  {
   "cell_type": "code",
   "execution_count": 27,
   "id": "f1b8ca68",
   "metadata": {},
   "outputs": [
    {
     "data": {
      "application/javascript": [
       "\n",
       "            setTimeout(function() {\n",
       "                var nbb_cell_id = 27;\n",
       "                var nbb_unformatted_code = \"coherence_map = coherence.get_coherence_map(text_segments_to_check)\";\n",
       "                var nbb_formatted_code = \"coherence_map = coherence.get_coherence_map(text_segments_to_check)\";\n",
       "                var nbb_cells = Jupyter.notebook.get_cells();\n",
       "                for (var i = 0; i < nbb_cells.length; ++i) {\n",
       "                    if (nbb_cells[i].input_prompt_number == nbb_cell_id) {\n",
       "                        if (nbb_cells[i].get_text() == nbb_unformatted_code) {\n",
       "                             nbb_cells[i].set_text(nbb_formatted_code);\n",
       "                        }\n",
       "                        break;\n",
       "                    }\n",
       "                }\n",
       "            }, 500);\n",
       "            "
      ],
      "text/plain": [
       "<IPython.core.display.Javascript object>"
      ]
     },
     "metadata": {},
     "output_type": "display_data"
    }
   ],
   "source": [
    "coherence_map = coherence.get_coherence_map(text_segments_to_check)"
   ]
  },
  {
   "cell_type": "code",
   "execution_count": 29,
   "id": "41e9550d",
   "metadata": {},
   "outputs": [
    {
     "data": {
      "application/javascript": [
       "\n",
       "            setTimeout(function() {\n",
       "                var nbb_cell_id = 29;\n",
       "                var nbb_unformatted_code = \"coherence_map = flatten(coherence_map)\\ncoherence_map = dedupe_list(coherence_map)\";\n",
       "                var nbb_formatted_code = \"coherence_map = flatten(coherence_map)\\ncoherence_map = dedupe_list(coherence_map)\";\n",
       "                var nbb_cells = Jupyter.notebook.get_cells();\n",
       "                for (var i = 0; i < nbb_cells.length; ++i) {\n",
       "                    if (nbb_cells[i].input_prompt_number == nbb_cell_id) {\n",
       "                        if (nbb_cells[i].get_text() == nbb_unformatted_code) {\n",
       "                             nbb_cells[i].set_text(nbb_formatted_code);\n",
       "                        }\n",
       "                        break;\n",
       "                    }\n",
       "                }\n",
       "            }, 500);\n",
       "            "
      ],
      "text/plain": [
       "<IPython.core.display.Javascript object>"
      ]
     },
     "metadata": {},
     "output_type": "display_data"
    }
   ],
   "source": [
    "coherence_map = flatten(coherence_map)\n",
    "coherence_map = dedupe_list(coherence_map)"
   ]
  },
  {
   "cell_type": "code",
   "execution_count": 30,
   "id": "388b9361",
   "metadata": {},
   "outputs": [
    {
     "data": {
      "text/plain": [
       "['festival',\n",
       " 'basque',\n",
       " 'pacific',\n",
       " 'navarre',\n",
       " 'fiji',\n",
       " 'parade',\n",
       " 'population',\n",
       " 'railway',\n",
       " 'sebastián',\n",
       " 'harvard',\n",
       " 'household',\n",
       " 'district',\n",
       " 'central',\n",
       " 'buildings',\n",
       " 'households',\n",
       " 'event',\n",
       " 'census',\n",
       " 'urban']"
      ]
     },
     "execution_count": 30,
     "metadata": {},
     "output_type": "execute_result"
    },
    {
     "data": {
      "application/javascript": [
       "\n",
       "            setTimeout(function() {\n",
       "                var nbb_cell_id = 30;\n",
       "                var nbb_unformatted_code = \"coherence_map\";\n",
       "                var nbb_formatted_code = \"coherence_map\";\n",
       "                var nbb_cells = Jupyter.notebook.get_cells();\n",
       "                for (var i = 0; i < nbb_cells.length; ++i) {\n",
       "                    if (nbb_cells[i].input_prompt_number == nbb_cell_id) {\n",
       "                        if (nbb_cells[i].get_text() == nbb_unformatted_code) {\n",
       "                             nbb_cells[i].set_text(nbb_formatted_code);\n",
       "                        }\n",
       "                        break;\n",
       "                    }\n",
       "                }\n",
       "            }, 500);\n",
       "            "
      ],
      "text/plain": [
       "<IPython.core.display.Javascript object>"
      ]
     },
     "metadata": {},
     "output_type": "display_data"
    }
   ],
   "source": [
    "coherence_map"
   ]
  },
  {
   "cell_type": "markdown",
   "id": "0cea2868",
   "metadata": {},
   "source": [
    "## Some visual tests"
   ]
  },
  {
   "cell_type": "code",
   "execution_count": 32,
   "id": "baf14e6c",
   "metadata": {},
   "outputs": [
    {
     "data": {
      "text/plain": [
       "36"
      ]
     },
     "execution_count": 32,
     "metadata": {},
     "output_type": "execute_result"
    },
    {
     "data": {
      "application/javascript": [
       "\n",
       "            setTimeout(function() {\n",
       "                var nbb_cell_id = 32;\n",
       "                var nbb_unformatted_code = \"len(text_segments_to_check[0])\";\n",
       "                var nbb_formatted_code = \"len(text_segments_to_check[0])\";\n",
       "                var nbb_cells = Jupyter.notebook.get_cells();\n",
       "                for (var i = 0; i < nbb_cells.length; ++i) {\n",
       "                    if (nbb_cells[i].input_prompt_number == nbb_cell_id) {\n",
       "                        if (nbb_cells[i].get_text() == nbb_unformatted_code) {\n",
       "                             nbb_cells[i].set_text(nbb_formatted_code);\n",
       "                        }\n",
       "                        break;\n",
       "                    }\n",
       "                }\n",
       "            }, 500);\n",
       "            "
      ],
      "text/plain": [
       "<IPython.core.display.Javascript object>"
      ]
     },
     "metadata": {},
     "output_type": "display_data"
    }
   ],
   "source": [
    "len(text_segments_to_check[0])"
   ]
  },
  {
   "cell_type": "code",
   "execution_count": 41,
   "id": "ac043712",
   "metadata": {},
   "outputs": [
    {
     "data": {
      "application/javascript": [
       "\n",
       "            setTimeout(function() {\n",
       "                var nbb_cell_id = 41;\n",
       "                var nbb_unformatted_code = \"different_segment_1 = [text_segments_to_check[0][-1], text_segments_to_check[1][0]]\\ndifferent_segment_2 = [text_segments_to_check[1][-1], text_segments_to_check[2][0]]\\ndifferent_segment_3 = [text_segments_to_check[2][-1], text_segments_to_check[3][0]]\\ndifferent_segment_4 = [text_segments_to_check[3][-1], text_segments_to_check[4][0]]\\ndifferent_segment_5 = [text_segments_to_check[4][-1], text_segments_to_check[5][0]]\\n\\nsame_segment_1 = [text_segments_to_check[0][0], text_segments_to_check[0][1]]\\nsame_segment_2 = [text_segments_to_check[1][0], text_segments_to_check[1][1]]\\nsame_segment_3 = [text_segments_to_check[2][0], text_segments_to_check[2][1]]\\nsame_segment_4 = [text_segments_to_check[3][0], text_segments_to_check[3][1]]\\nsame_segment_5 = [text_segments_to_check[4][0], text_segments_to_check[4][1]]\";\n",
       "                var nbb_formatted_code = \"different_segment_1 = [text_segments_to_check[0][-1], text_segments_to_check[1][0]]\\ndifferent_segment_2 = [text_segments_to_check[1][-1], text_segments_to_check[2][0]]\\ndifferent_segment_3 = [text_segments_to_check[2][-1], text_segments_to_check[3][0]]\\ndifferent_segment_4 = [text_segments_to_check[3][-1], text_segments_to_check[4][0]]\\ndifferent_segment_5 = [text_segments_to_check[4][-1], text_segments_to_check[5][0]]\\n\\nsame_segment_1 = [text_segments_to_check[0][0], text_segments_to_check[0][1]]\\nsame_segment_2 = [text_segments_to_check[1][0], text_segments_to_check[1][1]]\\nsame_segment_3 = [text_segments_to_check[2][0], text_segments_to_check[2][1]]\\nsame_segment_4 = [text_segments_to_check[3][0], text_segments_to_check[3][1]]\\nsame_segment_5 = [text_segments_to_check[4][0], text_segments_to_check[4][1]]\";\n",
       "                var nbb_cells = Jupyter.notebook.get_cells();\n",
       "                for (var i = 0; i < nbb_cells.length; ++i) {\n",
       "                    if (nbb_cells[i].input_prompt_number == nbb_cell_id) {\n",
       "                        if (nbb_cells[i].get_text() == nbb_unformatted_code) {\n",
       "                             nbb_cells[i].set_text(nbb_formatted_code);\n",
       "                        }\n",
       "                        break;\n",
       "                    }\n",
       "                }\n",
       "            }, 500);\n",
       "            "
      ],
      "text/plain": [
       "<IPython.core.display.Javascript object>"
      ]
     },
     "metadata": {},
     "output_type": "display_data"
    }
   ],
   "source": [
    "different_segment_1 = [text_segments_to_check[0][-1], text_segments_to_check[1][0]]\n",
    "different_segment_2 = [text_segments_to_check[1][-1], text_segments_to_check[2][0]]\n",
    "different_segment_3 = [text_segments_to_check[2][-1], text_segments_to_check[3][0]]\n",
    "different_segment_4 = [text_segments_to_check[3][-1], text_segments_to_check[4][0]]\n",
    "different_segment_5 = [text_segments_to_check[4][-1], text_segments_to_check[5][0]]\n",
    "\n",
    "same_segment_1 = [text_segments_to_check[0][0], text_segments_to_check[0][1]]\n",
    "same_segment_2 = [text_segments_to_check[1][0], text_segments_to_check[1][1]]\n",
    "same_segment_3 = [text_segments_to_check[2][0], text_segments_to_check[2][1]]\n",
    "same_segment_4 = [text_segments_to_check[3][0], text_segments_to_check[3][1]]\n",
    "same_segment_5 = [text_segments_to_check[4][0], text_segments_to_check[4][1]]"
   ]
  },
  {
   "cell_type": "code",
   "execution_count": 36,
   "id": "de2ce4c2",
   "metadata": {},
   "outputs": [
    {
     "name": "stdout",
     "output_type": "stream",
     "text": [
      "[]\n",
      "[]\n",
      "[]\n",
      "[]\n",
      "[]\n"
     ]
    },
    {
     "data": {
      "application/javascript": [
       "\n",
       "            setTimeout(function() {\n",
       "                var nbb_cell_id = 36;\n",
       "                var nbb_unformatted_code = \"print(coherence.get_coherence(different_segment_1))\\nprint(coherence.get_coherence(different_segment_2))\\nprint(coherence.get_coherence(different_segment_3))\\nprint(coherence.get_coherence(different_segment_4))\\nprint(coherence.get_coherence(different_segment_5))\";\n",
       "                var nbb_formatted_code = \"print(coherence.get_coherence(different_segment_1))\\nprint(coherence.get_coherence(different_segment_2))\\nprint(coherence.get_coherence(different_segment_3))\\nprint(coherence.get_coherence(different_segment_4))\\nprint(coherence.get_coherence(different_segment_5))\";\n",
       "                var nbb_cells = Jupyter.notebook.get_cells();\n",
       "                for (var i = 0; i < nbb_cells.length; ++i) {\n",
       "                    if (nbb_cells[i].input_prompt_number == nbb_cell_id) {\n",
       "                        if (nbb_cells[i].get_text() == nbb_unformatted_code) {\n",
       "                             nbb_cells[i].set_text(nbb_formatted_code);\n",
       "                        }\n",
       "                        break;\n",
       "                    }\n",
       "                }\n",
       "            }, 500);\n",
       "            "
      ],
      "text/plain": [
       "<IPython.core.display.Javascript object>"
      ]
     },
     "metadata": {},
     "output_type": "display_data"
    }
   ],
   "source": [
    "print(coherence.get_coherence(different_segment_1))\n",
    "print(coherence.get_coherence(different_segment_2))\n",
    "print(coherence.get_coherence(different_segment_3))\n",
    "print(coherence.get_coherence(different_segment_4))\n",
    "print(coherence.get_coherence(different_segment_5))"
   ]
  },
  {
   "cell_type": "code",
   "execution_count": 42,
   "id": "75c22348",
   "metadata": {},
   "outputs": [
    {
     "name": "stdout",
     "output_type": "stream",
     "text": [
      "[]\n",
      "[]\n",
      "[]\n",
      "['census']\n",
      "[]\n"
     ]
    },
    {
     "data": {
      "application/javascript": [
       "\n",
       "            setTimeout(function() {\n",
       "                var nbb_cell_id = 42;\n",
       "                var nbb_unformatted_code = \"print(coherence.get_coherence(same_segment_1))\\nprint(coherence.get_coherence(same_segment_2))\\nprint(coherence.get_coherence(same_segment_3))\\nprint(coherence.get_coherence(same_segment_4))\\nprint(coherence.get_coherence(same_segment_5))\";\n",
       "                var nbb_formatted_code = \"print(coherence.get_coherence(same_segment_1))\\nprint(coherence.get_coherence(same_segment_2))\\nprint(coherence.get_coherence(same_segment_3))\\nprint(coherence.get_coherence(same_segment_4))\\nprint(coherence.get_coherence(same_segment_5))\";\n",
       "                var nbb_cells = Jupyter.notebook.get_cells();\n",
       "                for (var i = 0; i < nbb_cells.length; ++i) {\n",
       "                    if (nbb_cells[i].input_prompt_number == nbb_cell_id) {\n",
       "                        if (nbb_cells[i].get_text() == nbb_unformatted_code) {\n",
       "                             nbb_cells[i].set_text(nbb_formatted_code);\n",
       "                        }\n",
       "                        break;\n",
       "                    }\n",
       "                }\n",
       "            }, 500);\n",
       "            "
      ],
      "text/plain": [
       "<IPython.core.display.Javascript object>"
      ]
     },
     "metadata": {},
     "output_type": "display_data"
    }
   ],
   "source": [
    "print(coherence.get_coherence(same_segment_1))\n",
    "print(coherence.get_coherence(same_segment_2))\n",
    "print(coherence.get_coherence(same_segment_3))\n",
    "print(coherence.get_coherence(same_segment_4))\n",
    "print(coherence.get_coherence(same_segment_5))"
   ]
  },
  {
   "cell_type": "code",
   "execution_count": 43,
   "id": "9055d3a5",
   "metadata": {},
   "outputs": [
    {
     "name": "stdout",
     "output_type": "stream",
     "text": [
      "['festival', 'basque', 'navarre', 'parade', 'railway', 'sebastián', 'district', 'buildings', 'event']\n",
      "['household', 'population', 'households', 'census']\n",
      "[]\n",
      "['household', 'population', 'households', 'census']\n",
      "[]\n"
     ]
    },
    {
     "data": {
      "application/javascript": [
       "\n",
       "            setTimeout(function() {\n",
       "                var nbb_cell_id = 43;\n",
       "                var nbb_unformatted_code = \"print(coherence.get_coherence(text_segments_to_check[0]))\\nprint(coherence.get_coherence(text_segments_to_check[1]))\\nprint(coherence.get_coherence(text_segments_to_check[2]))\\nprint(coherence.get_coherence(text_segments_to_check[3]))\\nprint(coherence.get_coherence(text_segments_to_check[4]))\";\n",
       "                var nbb_formatted_code = \"print(coherence.get_coherence(text_segments_to_check[0]))\\nprint(coherence.get_coherence(text_segments_to_check[1]))\\nprint(coherence.get_coherence(text_segments_to_check[2]))\\nprint(coherence.get_coherence(text_segments_to_check[3]))\\nprint(coherence.get_coherence(text_segments_to_check[4]))\";\n",
       "                var nbb_cells = Jupyter.notebook.get_cells();\n",
       "                for (var i = 0; i < nbb_cells.length; ++i) {\n",
       "                    if (nbb_cells[i].input_prompt_number == nbb_cell_id) {\n",
       "                        if (nbb_cells[i].get_text() == nbb_unformatted_code) {\n",
       "                             nbb_cells[i].set_text(nbb_formatted_code);\n",
       "                        }\n",
       "                        break;\n",
       "                    }\n",
       "                }\n",
       "            }, 500);\n",
       "            "
      ],
      "text/plain": [
       "<IPython.core.display.Javascript object>"
      ]
     },
     "metadata": {},
     "output_type": "display_data"
    }
   ],
   "source": [
    "print(coherence.get_coherence(text_segments_to_check[0]))\n",
    "print(coherence.get_coherence(text_segments_to_check[1]))\n",
    "print(coherence.get_coherence(text_segments_to_check[2]))\n",
    "print(coherence.get_coherence(text_segments_to_check[3]))\n",
    "print(coherence.get_coherence(text_segments_to_check[4]))"
   ]
  },
  {
   "cell_type": "code",
   "execution_count": null,
   "id": "539e6929",
   "metadata": {},
   "outputs": [],
   "source": []
  }
 ],
 "metadata": {
  "kernelspec": {
   "display_name": "Python 3 (ipykernel)",
   "language": "python",
   "name": "python3"
  },
  "language_info": {
   "codemirror_mode": {
    "name": "ipython",
    "version": 3
   },
   "file_extension": ".py",
   "mimetype": "text/x-python",
   "name": "python",
   "nbconvert_exporter": "python",
   "pygments_lexer": "ipython3",
   "version": "3.9.16"
  }
 },
 "nbformat": 4,
 "nbformat_minor": 5
}
