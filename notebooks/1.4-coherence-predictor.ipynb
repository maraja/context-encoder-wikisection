{
 "cells": [
  {
   "cell_type": "code",
   "execution_count": 1,
   "id": "4dc7697a",
   "metadata": {},
   "outputs": [
    {
     "data": {
      "application/javascript": [
       "\n",
       "            setTimeout(function() {\n",
       "                var nbb_cell_id = 1;\n",
       "                var nbb_unformatted_code = \"# Run if working locally\\n%load_ext autoreload\\n%autoreload 2\\n%load_ext nb_black\";\n",
       "                var nbb_formatted_code = \"# Run if working locally\\n%load_ext autoreload\\n%autoreload 2\\n%load_ext nb_black\";\n",
       "                var nbb_cells = Jupyter.notebook.get_cells();\n",
       "                for (var i = 0; i < nbb_cells.length; ++i) {\n",
       "                    if (nbb_cells[i].input_prompt_number == nbb_cell_id) {\n",
       "                        if (nbb_cells[i].get_text() == nbb_unformatted_code) {\n",
       "                             nbb_cells[i].set_text(nbb_formatted_code);\n",
       "                        }\n",
       "                        break;\n",
       "                    }\n",
       "                }\n",
       "            }, 500);\n",
       "            "
      ],
      "text/plain": [
       "<IPython.core.display.Javascript object>"
      ]
     },
     "metadata": {},
     "output_type": "display_data"
    }
   ],
   "source": [
    "# Run if working locally\n",
    "%load_ext autoreload\n",
    "%autoreload 2\n",
    "%load_ext nb_black"
   ]
  },
  {
   "cell_type": "code",
   "execution_count": 8,
   "id": "88ee84b4",
   "metadata": {},
   "outputs": [
    {
     "data": {
      "application/javascript": [
       "\n",
       "            setTimeout(function() {\n",
       "                var nbb_cell_id = 8;\n",
       "                var nbb_unformatted_code = \"import sqlite3\\nfrom sqlite3 import Error\\nimport pickle\\nimport os, sys\\nimport config\\n\\nconfig.root_path = os.path.abspath(os.path.join(os.getcwd(), \\\"..\\\"))\\nsys.path.insert(0, config.root_path)\\n\\nfrom src.dataset.dataset import RawData\\nfrom src.dataset.wikisection_preprocessing import (\\n    tokenize,\\n    clean_sentence,\\n    preprocess_text_segmentation,\\n    format_data_for_db_insertion,\\n)\\nfrom src.dataset.utils import truncate_by_token\\nfrom db.dbv2 import Table, AugmentedTable, TrainTestTable\\nimport pprint\\n\\n\\nfrom utils.metrics import windowdiff, pk\\n\\nfrom src.bertkeywords.src.similarities import Embedding, Similarities\\nfrom src.bertkeywords.src.keywords import Keywords\\nfrom src.encoders.coherence import Coherence\\nfrom src.dataset.utils import flatten, dedupe_list, truncate_string\";\n",
       "                var nbb_formatted_code = \"import sqlite3\\nfrom sqlite3 import Error\\nimport pickle\\nimport os, sys\\nimport config\\n\\nconfig.root_path = os.path.abspath(os.path.join(os.getcwd(), \\\"..\\\"))\\nsys.path.insert(0, config.root_path)\\n\\nfrom src.dataset.dataset import RawData\\nfrom src.dataset.wikisection_preprocessing import (\\n    tokenize,\\n    clean_sentence,\\n    preprocess_text_segmentation,\\n    format_data_for_db_insertion,\\n)\\nfrom src.dataset.utils import truncate_by_token\\nfrom db.dbv2 import Table, AugmentedTable, TrainTestTable\\nimport pprint\\n\\n\\nfrom utils.metrics import windowdiff, pk\\n\\nfrom src.bertkeywords.src.similarities import Embedding, Similarities\\nfrom src.bertkeywords.src.keywords import Keywords\\nfrom src.encoders.coherence import Coherence\\nfrom src.dataset.utils import flatten, dedupe_list, truncate_string\";\n",
       "                var nbb_cells = Jupyter.notebook.get_cells();\n",
       "                for (var i = 0; i < nbb_cells.length; ++i) {\n",
       "                    if (nbb_cells[i].input_prompt_number == nbb_cell_id) {\n",
       "                        if (nbb_cells[i].get_text() == nbb_unformatted_code) {\n",
       "                             nbb_cells[i].set_text(nbb_formatted_code);\n",
       "                        }\n",
       "                        break;\n",
       "                    }\n",
       "                }\n",
       "            }, 500);\n",
       "            "
      ],
      "text/plain": [
       "<IPython.core.display.Javascript object>"
      ]
     },
     "metadata": {},
     "output_type": "display_data"
    }
   ],
   "source": [
    "import sqlite3\n",
    "from sqlite3 import Error\n",
    "import pickle\n",
    "import os, sys\n",
    "import config\n",
    "\n",
    "config.root_path = os.path.abspath(os.path.join(os.getcwd(), \"..\"))\n",
    "sys.path.insert(0, config.root_path)\n",
    "\n",
    "from src.dataset.dataset import RawData\n",
    "from src.dataset.wikisection_preprocessing import (\n",
    "    tokenize,\n",
    "    clean_sentence,\n",
    "    preprocess_text_segmentation,\n",
    "    format_data_for_db_insertion,\n",
    ")\n",
    "from src.dataset.utils import truncate_by_token\n",
    "from db.dbv2 import Table, AugmentedTable, TrainTestTable\n",
    "import pprint\n",
    "\n",
    "\n",
    "from utils.metrics import windowdiff, pk\n",
    "\n",
    "from src.bertkeywords.src.similarities import Embedding, Similarities\n",
    "from src.bertkeywords.src.keywords import Keywords\n",
    "from src.encoders.coherence import Coherence\n",
    "from src.dataset.utils import flatten, dedupe_list, truncate_string"
   ]
  },
  {
   "cell_type": "code",
   "execution_count": 5,
   "id": "9bb2458b",
   "metadata": {},
   "outputs": [
    {
     "data": {
      "application/javascript": [
       "\n",
       "            setTimeout(function() {\n",
       "                var nbb_cell_id = 5;\n",
       "                var nbb_unformatted_code = \"dataset_type = \\\"city\\\"\\ntable = Table(dataset_type)\\naugmented_table = AugmentedTable(dataset_type)\\ntrain_test_table = TrainTestTable(dataset_type)\";\n",
       "                var nbb_formatted_code = \"dataset_type = \\\"city\\\"\\ntable = Table(dataset_type)\\naugmented_table = AugmentedTable(dataset_type)\\ntrain_test_table = TrainTestTable(dataset_type)\";\n",
       "                var nbb_cells = Jupyter.notebook.get_cells();\n",
       "                for (var i = 0; i < nbb_cells.length; ++i) {\n",
       "                    if (nbb_cells[i].input_prompt_number == nbb_cell_id) {\n",
       "                        if (nbb_cells[i].get_text() == nbb_unformatted_code) {\n",
       "                             nbb_cells[i].set_text(nbb_formatted_code);\n",
       "                        }\n",
       "                        break;\n",
       "                    }\n",
       "                }\n",
       "            }, 500);\n",
       "            "
      ],
      "text/plain": [
       "<IPython.core.display.Javascript object>"
      ]
     },
     "metadata": {},
     "output_type": "display_data"
    }
   ],
   "source": [
    "dataset_type = \"city\"\n",
    "table = Table(dataset_type)\n",
    "augmented_table = AugmentedTable(dataset_type)\n",
    "train_test_table = TrainTestTable(dataset_type)"
   ]
  },
  {
   "cell_type": "code",
   "execution_count": 6,
   "id": "cfd59c86",
   "metadata": {},
   "outputs": [
    {
     "data": {
      "application/javascript": [
       "\n",
       "            setTimeout(function() {\n",
       "                var nbb_cell_id = 6;\n",
       "                var nbb_unformatted_code = \"data = table.get_all()\\n\\ntext_data = [x[1] for x in data]\\ntext_labels = [x[2] for x in data]\";\n",
       "                var nbb_formatted_code = \"data = table.get_all()\\n\\ntext_data = [x[1] for x in data]\\ntext_labels = [x[2] for x in data]\";\n",
       "                var nbb_cells = Jupyter.notebook.get_cells();\n",
       "                for (var i = 0; i < nbb_cells.length; ++i) {\n",
       "                    if (nbb_cells[i].input_prompt_number == nbb_cell_id) {\n",
       "                        if (nbb_cells[i].get_text() == nbb_unformatted_code) {\n",
       "                             nbb_cells[i].set_text(nbb_formatted_code);\n",
       "                        }\n",
       "                        break;\n",
       "                    }\n",
       "                }\n",
       "            }, 500);\n",
       "            "
      ],
      "text/plain": [
       "<IPython.core.display.Javascript object>"
      ]
     },
     "metadata": {},
     "output_type": "display_data"
    }
   ],
   "source": [
    "data = table.get_all()\n",
    "\n",
    "text_data = [x[1] for x in data]\n",
    "text_labels = [x[2] for x in data]"
   ]
  },
  {
   "cell_type": "code",
   "execution_count": 10,
   "id": "fcccad5d",
   "metadata": {},
   "outputs": [
    {
     "data": {
      "application/javascript": [
       "\n",
       "            setTimeout(function() {\n",
       "                var nbb_cell_id = 10;\n",
       "                var nbb_unformatted_code = \"all_segments = table.get_all_segments()\\n\\nsegments = [[y[1] for y in x] for x in all_segments]\\nsegments_labels = [[1 if i == 0 else 0 for i, y in enumerate(x)] for x in all_segments]\";\n",
       "                var nbb_formatted_code = \"all_segments = table.get_all_segments()\\n\\nsegments = [[y[1] for y in x] for x in all_segments]\\nsegments_labels = [[1 if i == 0 else 0 for i, y in enumerate(x)] for x in all_segments]\";\n",
       "                var nbb_cells = Jupyter.notebook.get_cells();\n",
       "                for (var i = 0; i < nbb_cells.length; ++i) {\n",
       "                    if (nbb_cells[i].input_prompt_number == nbb_cell_id) {\n",
       "                        if (nbb_cells[i].get_text() == nbb_unformatted_code) {\n",
       "                             nbb_cells[i].set_text(nbb_formatted_code);\n",
       "                        }\n",
       "                        break;\n",
       "                    }\n",
       "                }\n",
       "            }, 500);\n",
       "            "
      ],
      "text/plain": [
       "<IPython.core.display.Javascript object>"
      ]
     },
     "metadata": {},
     "output_type": "display_data"
    }
   ],
   "source": [
    "all_segments = table.get_all_segments()\n",
    "\n",
    "segments = [[y[1] for y in x] for x in all_segments]\n",
    "segments_labels = [[1 if i == 0 else 0 for i, y in enumerate(x)] for x in all_segments]"
   ]
  },
  {
   "cell_type": "code",
   "execution_count": 16,
   "id": "2b6b7fcd",
   "metadata": {},
   "outputs": [
    {
     "data": {
      "text/plain": [
       "(92833, 92833)"
      ]
     },
     "execution_count": 16,
     "metadata": {},
     "output_type": "execute_result"
    },
    {
     "data": {
      "application/javascript": [
       "\n",
       "            setTimeout(function() {\n",
       "                var nbb_cell_id = 16;\n",
       "                var nbb_unformatted_code = \"flattened_segments = flatten(segments)\\nflattened_labels = flatten(segments_labels)\\nlen(flattened_segments), len(flattened_labels)\";\n",
       "                var nbb_formatted_code = \"flattened_segments = flatten(segments)\\nflattened_labels = flatten(segments_labels)\\nlen(flattened_segments), len(flattened_labels)\";\n",
       "                var nbb_cells = Jupyter.notebook.get_cells();\n",
       "                for (var i = 0; i < nbb_cells.length; ++i) {\n",
       "                    if (nbb_cells[i].input_prompt_number == nbb_cell_id) {\n",
       "                        if (nbb_cells[i].get_text() == nbb_unformatted_code) {\n",
       "                             nbb_cells[i].set_text(nbb_formatted_code);\n",
       "                        }\n",
       "                        break;\n",
       "                    }\n",
       "                }\n",
       "            }, 500);\n",
       "            "
      ],
      "text/plain": [
       "<IPython.core.display.Javascript object>"
      ]
     },
     "metadata": {},
     "output_type": "display_data"
    }
   ],
   "source": [
    "flattened_segments = flatten(segments)\n",
    "flattened_labels = flatten(segments_labels)\n",
    "len(flattened_segments), len(flattened_labels)"
   ]
  },
  {
   "cell_type": "markdown",
   "id": "a0673885",
   "metadata": {},
   "source": [
    "## Predictions"
   ]
  },
  {
   "cell_type": "code",
   "execution_count": 59,
   "id": "9a12d772",
   "metadata": {},
   "outputs": [
    {
     "name": "stderr",
     "output_type": "stream",
     "text": [
      "Some weights of the model checkpoint at bert-base-uncased were not used when initializing BertModel: ['cls.predictions.transform.dense.bias', 'cls.predictions.decoder.weight', 'cls.predictions.transform.dense.weight', 'cls.seq_relationship.weight', 'cls.seq_relationship.bias', 'cls.predictions.transform.LayerNorm.bias', 'cls.predictions.bias', 'cls.predictions.transform.LayerNorm.weight']\n",
      "- This IS expected if you are initializing BertModel from the checkpoint of a model trained on another task or with another architecture (e.g. initializing a BertForSequenceClassification model from a BertForPreTraining model).\n",
      "- This IS NOT expected if you are initializing BertModel from the checkpoint of a model that you expect to be exactly identical (initializing a BertForSequenceClassification model from a BertForSequenceClassification model).\n",
      "2023-04-09 11:24:23.289098: I tensorflow/core/grappler/optimizers/custom_graph_optimizer_registry.cc:114] Plugin optimizer for device_type GPU is enabled.\n",
      "2023-04-09 11:24:24.036250: I tensorflow/core/grappler/optimizers/custom_graph_optimizer_registry.cc:114] Plugin optimizer for device_type GPU is enabled.\n",
      "2023-04-09 11:24:24.311192: I tensorflow/core/grappler/optimizers/custom_graph_optimizer_registry.cc:114] Plugin optimizer for device_type GPU is enabled.\n"
     ]
    },
    {
     "data": {
      "application/javascript": [
       "\n",
       "            setTimeout(function() {\n",
       "                var nbb_cell_id = 59;\n",
       "                var nbb_unformatted_code = \"# initialize the coherence library\\ncoherence = Coherence(max_words_per_step=4, coherence_threshold=0.6)\";\n",
       "                var nbb_formatted_code = \"# initialize the coherence library\\ncoherence = Coherence(max_words_per_step=4, coherence_threshold=0.6)\";\n",
       "                var nbb_cells = Jupyter.notebook.get_cells();\n",
       "                for (var i = 0; i < nbb_cells.length; ++i) {\n",
       "                    if (nbb_cells[i].input_prompt_number == nbb_cell_id) {\n",
       "                        if (nbb_cells[i].get_text() == nbb_unformatted_code) {\n",
       "                             nbb_cells[i].set_text(nbb_formatted_code);\n",
       "                        }\n",
       "                        break;\n",
       "                    }\n",
       "                }\n",
       "            }, 500);\n",
       "            "
      ],
      "text/plain": [
       "<IPython.core.display.Javascript object>"
      ]
     },
     "metadata": {},
     "output_type": "display_data"
    }
   ],
   "source": [
    "# initialize the coherence library\n",
    "coherence = Coherence(max_words_per_step=4, coherence_threshold=0.6)"
   ]
  },
  {
   "cell_type": "code",
   "execution_count": 60,
   "id": "524a81b3",
   "metadata": {},
   "outputs": [
    {
     "name": "stdout",
     "output_type": "stream",
     "text": [
      "Coherence Map before pruning: []\n",
      "Coherence Map: [], Keywords Current: ['accredited', 'accreditation', 'programs', 'program', 'ecu']\n",
      "Similarity: 0.26778197288513184, Prediction: 0\n",
      "Coherence Map before pruning: []\n",
      "Coherence Map: [], Keywords Current: ['ada', 'center', 'primary', 'secondary', 'school']\n",
      "Similarity: 0.26031675934791565, Prediction: 0\n",
      "Coherence Map before pruning: ['ada', 'ada']\n",
      "Coherence Map: ['ada', 'ada'], Keywords Current: ['tech', 'technology', 'ada', 'formerly', 'located']\n",
      "Similarity: 0.31694144010543823, Prediction: 0\n",
      "Coherence Map before pruning: ['ada', 'ada']\n",
      "Coherence Map: ['ada', 'ada'], Keywords Current: ['convicted', 'grisham', 'prosecutor', 'prosecutors', 'prosecution']\n",
      "Similarity: 0.18328769505023956, Prediction: 1\n",
      "Coherence Map before pruning: []\n",
      "Coherence Map: [], Keywords Current: ['argentine', 'concha', 'jorge', 'colonia', 'patagonia']\n",
      "Similarity: 0.17850324511528015, Prediction: 1\n",
      "Coherence Map before pruning: []\n",
      "Coherence Map: [], Keywords Current: ['windmills', 'settlers', 'oil', 'settlement', 'drilling']\n",
      "Similarity: 0.20211146771907806, Prediction: 1\n",
      "Coherence Map before pruning: []\n",
      "Coherence Map: [], Keywords Current: ['precipitation', 'climate', 'winter', 'rain', 'mild']\n",
      "Similarity: 0.2638040781021118, Prediction: 0\n",
      "Coherence Map before pruning: []\n",
      "Coherence Map: [], Keywords Current: ['patagonia', '2001', 'inhabitants', 'population', 'argentina']\n",
      "Similarity: 0.2675229012966156, Prediction: 0\n",
      "Coherence Map before pruning: []\n",
      "Coherence Map: [], Keywords Current: ['isidro', 'julio', 'san', 'roca', 'jorge']\n",
      "Similarity: 0.2765296399593353, Prediction: 0\n",
      "Coherence Map before pruning: []\n",
      "Coherence Map: [], Keywords Current: ['factories', 'industrial', 'fabrication', 'shipyard', 'industry']\n",
      "Similarity: 0.22413085401058197, Prediction: 1\n",
      "Coherence Map before pruning: []\n",
      "Coherence Map: [], Keywords Current: ['drilling', 'oil', 'gulf', 'crude', 'mining']\n",
      "Similarity: 0.31915292143821716, Prediction: 0\n",
      "Coherence Map before pruning: ['gulf', 'gulf']\n",
      "Coherence Map: ['gulf', 'gulf'], Keywords Current: ['jorge', 'argentina', 'san', 'gulf', 'province']\n",
      "Similarity: 0.3077688217163086, Prediction: 0\n",
      "Coherence Map before pruning: ['gulf', 'gulf']\n",
      "Coherence Map: ['gulf', 'gulf'], Keywords Current: ['longitude', 'latitude', 'cartography', 'geographic', 'gmt']\n",
      "Similarity: 0.2180793583393097, Prediction: 1\n",
      "Coherence Map before pruning: []\n",
      "Coherence Map: [], Keywords Current: ['port', 'built', 'construction', 'ships', '1908']\n",
      "Similarity: 0.19345687329769135, Prediction: 1\n",
      "Coherence Map before pruning: ['ships', 'ships']\n",
      "Coherence Map: ['ships', 'ships'], Keywords Current: ['shipyard', 'naval', 'buoy', 'buoys', 'ships']\n",
      "Similarity: 0.38854894042015076, Prediction: 0\n",
      "Coherence Map before pruning: ['ships', 'ships']\n",
      "Coherence Map: ['ships', 'ships'], Keywords Current: ['concrete', 'property', 'tons', 'types', 'bricklaying']\n",
      "Similarity: 0.32416385412216187, Prediction: 0\n",
      "Coherence Map before pruning: ['ships', 'ships']\n",
      "Coherence Map: ['ships', 'ships'], Keywords Current: ['energy', 'wind', 'capacity', 'farm', 'generators']\n",
      "Similarity: 0.29338008165359497, Prediction: 0\n",
      "Coherence Map before pruning: ['ships', 'ships']\n",
      "Coherence Map: ['ships', 'ships'], Keywords Current: ['football', 'basketball', 'sport', 'sports', 'athletics']\n",
      "Similarity: 0.2845478951931, Prediction: 0\n",
      "Coherence Map before pruning: ['ships', 'ships']\n",
      "Coherence Map: ['ships', 'ships'], Keywords Current: ['soviet', 'ukrainian', 'ukraine', 'jews', '1939']\n",
      "Similarity: 0.23291437327861786, Prediction: 1\n",
      "Coherence Map before pruning: []\n",
      "Coherence Map: [], Keywords Current: ['swiss', 'founded', 'switzerland', 'nashville', 'chattanooga']\n",
      "Similarity: 0.1993148922920227, Prediction: 1\n",
      "Coherence Map before pruning: []\n",
      "Coherence Map: [], Keywords Current: ['census', 'area', 'hohenwald', 'land', 'bureau']\n",
      "Similarity: 0.23093284666538239, Prediction: 1\n",
      "Coherence Map before pruning: ['census', 'census']\n",
      "Coherence Map: ['census', 'census'], Keywords Current: ['households', 'median', 'census', 'population', 'household']\n",
      "Similarity: 0.33755719661712646, Prediction: 0\n",
      "Coherence Map before pruning: ['census', 'census', 'census', 'census']\n",
      "Coherence Map: ['census', 'census', 'census', 'census'], Keywords Current: ['km²', 'census', 'land', 'area', 'city']\n",
      "Similarity: 0.3799856901168823, Prediction: 0\n",
      "Coherence Map before pruning: ['census', 'census', 'census', 'census', 'census', 'census']\n",
      "Coherence Map: ['census', 'census', 'census', 'census', 'census', 'census'], Keywords Current: ['households', 'median', 'census', 'population', 'household']\n",
      "Similarity: 0.41702988743782043, Prediction: 0\n"
     ]
    },
    {
     "data": {
      "application/javascript": [
       "\n",
       "            setTimeout(function() {\n",
       "                var nbb_cell_id = 60;\n",
       "                var nbb_unformatted_code = \"num_samples = 25\\nstart = 100\\n\\npredictions = coherence.predict_verbose(\\n    text_data=flattened_segments[start : start + num_samples],\\n    max_tokens=400,\\n    prediction_thresh=0.25,\\n    pruning=5,\\n    pruning_min=20,\\n)\";\n",
       "                var nbb_formatted_code = \"num_samples = 25\\nstart = 100\\n\\npredictions = coherence.predict_verbose(\\n    text_data=flattened_segments[start : start + num_samples],\\n    max_tokens=400,\\n    prediction_thresh=0.25,\\n    pruning=5,\\n    pruning_min=20,\\n)\";\n",
       "                var nbb_cells = Jupyter.notebook.get_cells();\n",
       "                for (var i = 0; i < nbb_cells.length; ++i) {\n",
       "                    if (nbb_cells[i].input_prompt_number == nbb_cell_id) {\n",
       "                        if (nbb_cells[i].get_text() == nbb_unformatted_code) {\n",
       "                             nbb_cells[i].set_text(nbb_formatted_code);\n",
       "                        }\n",
       "                        break;\n",
       "                    }\n",
       "                }\n",
       "            }, 500);\n",
       "            "
      ],
      "text/plain": [
       "<IPython.core.display.Javascript object>"
      ]
     },
     "metadata": {},
     "output_type": "display_data"
    }
   ],
   "source": [
    "num_samples = 25\n",
    "start = 100\n",
    "\n",
    "predictions = coherence.predict_verbose(\n",
    "    text_data=flattened_segments[start : start + num_samples],\n",
    "    max_tokens=400,\n",
    "    prediction_thresh=0.25,\n",
    "    pruning=5,\n",
    "    pruning_min=20,\n",
    ")"
   ]
  },
  {
   "cell_type": "code",
   "execution_count": 67,
   "id": "a20903e5",
   "metadata": {},
   "outputs": [
    {
     "data": {
      "text/plain": [
       "[(0, 0),\n",
       " (tensor(0.2678), 0),\n",
       " (tensor(0.2603), 0),\n",
       " (tensor(0.3169), 0),\n",
       " (tensor(0.1833), 1),\n",
       " (tensor(0.1785), 1),\n",
       " (tensor(0.2021), 1),\n",
       " (tensor(0.2638), 0),\n",
       " (tensor(0.2675), 0),\n",
       " (tensor(0.2765), 0),\n",
       " (tensor(0.2241), 1),\n",
       " (tensor(0.3192), 0),\n",
       " (tensor(0.3078), 0),\n",
       " (tensor(0.2181), 1),\n",
       " (tensor(0.1935), 1),\n",
       " (tensor(0.3885), 0),\n",
       " (tensor(0.3242), 0),\n",
       " (tensor(0.2934), 0),\n",
       " (tensor(0.2845), 0),\n",
       " (tensor(0.2329), 1),\n",
       " (tensor(0.1993), 1),\n",
       " (tensor(0.2309), 1),\n",
       " (tensor(0.3376), 0),\n",
       " (tensor(0.3800), 0),\n",
       " (tensor(0.4170), 0)]"
      ]
     },
     "execution_count": 67,
     "metadata": {},
     "output_type": "execute_result"
    },
    {
     "data": {
      "application/javascript": [
       "\n",
       "            setTimeout(function() {\n",
       "                var nbb_cell_id = 67;\n",
       "                var nbb_unformatted_code = \"predictions\";\n",
       "                var nbb_formatted_code = \"predictions\";\n",
       "                var nbb_cells = Jupyter.notebook.get_cells();\n",
       "                for (var i = 0; i < nbb_cells.length; ++i) {\n",
       "                    if (nbb_cells[i].input_prompt_number == nbb_cell_id) {\n",
       "                        if (nbb_cells[i].get_text() == nbb_unformatted_code) {\n",
       "                             nbb_cells[i].set_text(nbb_formatted_code);\n",
       "                        }\n",
       "                        break;\n",
       "                    }\n",
       "                }\n",
       "            }, 500);\n",
       "            "
      ],
      "text/plain": [
       "<IPython.core.display.Javascript object>"
      ]
     },
     "metadata": {},
     "output_type": "display_data"
    }
   ],
   "source": [
    "predictions"
   ]
  },
  {
   "cell_type": "code",
   "execution_count": 65,
   "id": "a79767cc",
   "metadata": {},
   "outputs": [
    {
     "data": {
      "text/plain": [
       "['The economy of Ada is diversified. In the mid and late 20th century, the town was a manufacturing center, producing products such as Wrangler jeans, auto parts, cement and concrete, plasticware, and other products. Since the start of the 21st century, however, most large manufacturing centers have left or have downsized considerably.\\nIn 1975, the Chickasaw Nation opened its headquarters in Ada. Revenues for the Nation were over 12 billion dollars in 2011, most of which is funneled through Ada. The Robert S. Kerr Environmental Research Center, a large water research lab staffed by the Environmental Protection Agency, opened in 1966. LegalShield, a multi-level marketing provider of pre-paid legal services, is headquartered in the city. Oil and natural gas are still very much a part of the regional economy, but no large companies that provide significant employment exist in the city.\\nThe largest employers in the region are the following:\\n- Ada City Schools\\n- Chickasaw Nation\\n- East Central University\\n- IQor (Call Center for T-Mobile)\\n- Pontotoc County Technology Center\\n- Dart (formerly Solo Cup)\\n- Flex-N-Gate (Auto Parts Manufacturing)\\n- Holcim Inc. (Portland Cement)\\n- LegalShield\\n- Power Lift Foundation Repair\\n- State of Oklahoma\\n- Wal-mart\\n- Kerr Lab\\n- Mercy Hospital Ada\\n- City of Ada\\n',\n",
       " 'East Central University, located in Ada, is a public four-year institution that has been in operation since 1909. ECU serves roughly 4,500 students and is perhaps best known internationally for its cartography program, as only a few such programs exist. \\nECU is also home to an Environmental Health Science Program, one of only 30 programs nationally accredited by the National Environmental Health Science and Protection Accreditation Council (http://www.ehacoffice.org/).\\n',\n",
       " 'Ada Public Schools has six primary and secondary schools.\\n- Glenwood Early Childhood Center\\n- Hayes Grade Center\\n- Washington Grade Center\\n- Willard Grade Center\\n- Ada Junior High School\\n- Ada High School\\n',\n",
       " 'Pontotoc Technology Center (formerly Pontotoc Area Vo-Tech) is located in Ada.\\n',\n",
       " 'Due to its short, palindromic spelling with frequently used letters, Ada is a very common crossword puzzle answer. Associated clues often include \"Oklahoma city\", \"Oklahoma palindrome\", and \"Sooner State city.\"\\nIn 2006, a true crime book by author John Grisham brought Ada into the national spotlight by relating various false convictions and imprisonments resulting from two unconnected murder trials. Two men had been tried and convicted of the murder of Debra Sue \"Debbie\" Carter. After twelve years on death row, DNA evidence proved the men\\'s innocence and established the guilt of the prosecution\\'s main witness. Similar problems surrounded the trials of the two men convicted for the murder of Denice Haraway. Two of the books examining these cases are The Dreams of Ada (1987) by Robert Mayer and , Grisham\\'s first non-fiction book. Accounts from both books suggest major flaws, irregularities, and outright miscarriages of justice including forced and made-up confessions by the police and prosecutors. Prosecutor Bill Peterson has self-published his disagreements with Grisham\\'s version of events.\\n',\n",
       " \"The urgency to define short routes to transport products from Colonia Sarmiento and bring them to that village created the necessity of a port in the area of San Jorge Gulf. This necessity made possible the foundation of Comodoro Rivadavia, today capital of petroleum in Argentina. The first governor of Gobernación Nacional del Chubut was Colonel Luis Jorge Fontana, who traveled around the whole extension attributed to Chubut commanding a numerous group of Welsh immigrants in 1885.\\nAmerican researcher Junius Bird and Finnish geographer Väinö Auer confirmed the existence of a Tehuelche prototype who lived in the sands of Rada Tilly some 9000 years ago. This information was confirmed by Father Brea, who some years ago contributed to this theory with the discovery of utensils and human remains near Rada Tilly.\\nIt is widely known that the Tehuelche who came from the north of Patagonia during warm summer days used to make a halt where Rada Tilly is today. The English navigator FitzRoy was the first to mention its existence in a navigation chart.\\nOn March 10, 1889, Francisco Pietrobelli, accompanied by the Tehuelche Sainajo and Marcelo Pereira, came to Rada Tilly following FitzRoy's navigation charts in search of an anchoring place to set up a deep-water port where deep-draft ships could stop to supply the flourishing Colonia Sarmiento.\\nThe corvette La Argentina, commanded by Commodore Martín Rivadavia, arrived near Mount Chenque in an exploratory mission and settled an anchorage place now called Kilometro 5, Caleta Córdova or Punta Borjas. Pietrobelli completed the construction of the first storage shed on June 26 in the place indicated years before by a Molle trunk. Commodore Rivadavia became the first Argentine marine to anchor his corvette in Rada Tilly in March 1891, while he was reconnoiteirng the area to control the displacement of the Chilean Army in the Argentine south. The village was named after the Spanish marine Francisco Everardo Tilly y Paredes, who during 1794 and 1795 gave combat and defeated the Portuguese army in the river Plate. However, reality indicates that it was the Spanish marine Juan de la Concha who anchored in Rada Tilly in command of a brig.\\nThe settlement was renamed Comodoro Rivadavia on February 23, 1901, by decree of the national government in homage to the illustrious marine, grandson of the great statesman Bernardino Rivadavia and first Argentine president.\\n\",\n",
       " 'In 1903 six hundred Afrikaner families arrived in Argentina following the loss of the Second Boer War. They were given farming land in the lands around Comodoro Rivadavia but due to a shortage of water had to bring water in by ox wagon. The lack of water was a big impediment to the development of the settlement. At the Afrikaners\\' insistence drilling began in 1907 in an effort to look for water but instead they struck oil. Although much of the oil was discovered on land given to Afrikaans settlers, they could not benefit directly from the discovery due to Argentinian law which decrees that all mineral deposits belong to the state. Therefore, most of the town\\'s Afrikaans settlers moved on to Sarmiento and surrounding regions to set up farms there.\\nThe discovery of oil in 1907 boosted economic growth in Comodoro Rivadavia. By the end of 1919, most of the 1719 workers were given accommodation in small metal sheet houses without any heating or electric light with temperatures below zero and winds near 100 km/h. The establishment of Yacimientos Petrolíferos Fiscales (YPF) in 1922 led to the development of the town, further accelerated afterand the end of the 1950s by President Arturo Frondizi\\'s oil campaign to foster the installation of numerous foreign companies. The city evolved around this industry, and even today when this panorama has changed substantially, it is still called the \"National Oil Capital.\"\\nThe beach village Rada Tilly was founded on July 24, 1948, and today is an important hub for tourism in Argentina. Oil production has begun to decline in quantity but the area has been turning its attention to wind power. Windmills on Cerro Chenque and surrounding hills comprise South America\\'s largest wind farm and provide 20% of Comodoro\\'s energy needs.\\n',\n",
       " 'Comodoro Rivadavia features a cold semi-arid climate (Köppen BSk). While the city receives less than 250 mm of rain annually, its relatively low evapotranspiration rate causes it to fall under this climate category. Summer is relatively hot and dry with an average temperature of in January. Winter is mild with an average temperature of in July. Precipitation is low, though the winter months receive more precipitation than in summer.\\n',\n",
       " 'Comodoro Rivadavia had a population of 182,631 inhabitants in 2010, compared to 135,632 in 2001 and 124,104 in 1991. The city grew by about a third between 2001 and 2010, compared to an increase of 9.2% between 1991 and 2001; the national average was of around 11% in both periods, representing a notable acceleration in population growth for the city in comparison to Argentina. The city size places Comodoro Rivadavia as the 20th largest city of the country and the largest in South Patagonia, which goes from Chubut to Tierra del Fuego.\\n',\n",
       " 'Comodoro Rivadavia is the biggest city to the south of the Colorado River. The city developed from the oil camps which evolved into neighbourhoods.\\nThe city is divided into three main areas: North Area, South Area and Downtown Area.\\nThe South Area is the most populated in the city. The neighbourhoods are: Jorge Newbery, San Martin, 1311 Viviendas, Cerro Solo, Ñaco, San Cayetano, Francisco Pietrobelli, Las Flores, La Floresta, Máximo Abasolo .\\nMoure, Cordón Forestal, Quirno Costa, Maestro Isidro Quiroga, Juan XIII, San Isidro Labrador, 9 de Julio, 13 de Diciembre, Julio A. Roca, Juan Manuel de Pueyrredon, 30 de Octubre, LU4, Abel Amaya, Industrial, Stella Maris, Ceferino Namuncurá, Jose Fuchs, Balcón del Paraiso, Covipex, Rincón del Diablo, 311 Viviendas and Humberto Beghin.\\nThe Downtown area divided into: Centro, Loma and Civico neighbourhood. \\nThe Northern Area divided into:\\n- 3rd Kilometre\\n- 4th Kilometre, home of National University of Patagonia San Juan Bosco.\\n- 5th Kilometre.\\n- 6th Kilometre, home of General Enrique Mosconi International Airport) and Petroleros Privados.\\n- 8th Kilometre.\\n',\n",
       " 'The commercial and industrial activities of the city are the most important in the region. The main activities of the city are: production of chemical products, elaborated concrete, salter, fabrication of industrial houses, shipyard, metallurgical products, refrigerated products, industrial factories, casting, textile industry, blocks and bricks, and cement.\\n',\n",
       " \"The oil production started in Chubut in 1907, when a drilling rig which was looking for water discovered oil instead. The Argentine oil industry started in Comodoro Rivadavia, and was facilitated by the 1886 National Mining Code (Codigo de Mineria de la Nación). This code established that the oil fields belonged to the State, and that they could also be exploited by the private sector by concession.\\nIn 1922 YPF (Yacimientos Petrolíferos Fiscales), the first state-owned oil company in the world, was created by President Hipólito Yrigoyen's government. This company helped the society by improving the construction of houses, providing new jobs and health care. Engineer Enrique Mosconi was in charge of running the company. By 1933, 1,648 wells had been drilled in Comodoro Rivadavia; 88.9% of them were economically productive.\\nIn 1935 the First Oil Law was passed. It established that the National and provincial States would receive as contribution the 12% of the Gross Product from all oil drilling, which is still in effect.\\nIn 1958, Law Number 14,773 was signed by President Arturo Frondizi, establishing that the Government had exclusive ownership over all oil fields.\\nThe most important oil fields discovered during the 60's were El Huemul and Piedra Clavada. At the beginning of the same decade twenty wells were drilled.\\nBetween 1977 and 1986, 100 million m³ oil were drilled from San Jorge gulf, in the meantime the oil reserves reached 40 million m³; in 1979 the San Jorge gulf production reached 10,124,022 m³ of oil.\\nUntil 2001, 5,300 wells were drilled, of which 3,000 were economically productive. As a result of the exploratory activities developed during the century, the remaining reserves reach 182.017 million m³ of oil. San Jorge gulf is the leader in oil extraction. 46,000 m³ per day are extracted in the zone, representing 46% of total crude oil production in the nation.\\n\",\n",
       " 'Comodoro Rivadavia is situated in the south of Argentina in the province of Chubut, on the coast of San Jorge Gulf.\\nIt was necessary to create a port in the area of San Jorge Gulf in order to have shorter routes for transporting products from and to the town of Sarmiento, situated 180 km away from the city of Comodoro Rivadavia.\\n',\n",
       " 'Geographic location:\\nComodoro Rivadavia: Latitude 45° 51´ S; Longitude 67° 28´ W.\\nCaleta Olivia: Latitude 45° 46´ S; Longitude 67° 22´ W.\\nCaleta Córdova: Latitude 45° 43´ S; Longitude 67°31´ W.\\nTime zone: GMT -3\\nNautical information:\\nArgentine map course: Part 2. Cartography S.H.N.\\nLetters N ° 30.75 H314 and H310.\\n',\n",
       " 'History of Comodoro Rivadavia Port\\nSince 1908, the small and weak port Maciel received passengers and shipments that arrived at the city of Comodoro Rivadavia. It was built of wood and only could support small ships. In 1923, the construction of the port started. In 1926 the construction was stopped, but in 1928 it was resumed.\\n',\n",
       " \"The shipyard has two parallel\\nindustrial facilities of 70 meters long and 4 meters wide. This allows the repair and building of ships in a roofed space without the weather affecting the activity.\\nThe shipyard has three travelling cranes of 8 tons each. Works made in the shipyard include the building of eolic mill towers and oil buoys.\\nThe port facilities include:\\n• The principal Port situated near the downtown. Its extreme point called Punta Borja, was designed to receive ships up to 181 meters length and 10 meters depth.\\nThe port has a pier of 216 meters long, which was built to meet the demand of the transportation of commodities, deep-sea fishing and naval repairs.\\n• Caleta Cordova's low tide pier is located in the north of Comodoro Rivadavia city, over the coast of Caleta Cordova’s neighborhood. This pier meets the demand of artisan fishing.\\n• Repsol-YPF's pier, located in the south of General Mosconi neighbourhood, is used for unloading fuel. The total fuel unloaded is over 29,000 liters per month.\\n• Caleta Olivares's facilities are used to load crude oil. It has four mooring buoys and one bell buoy. The depth of this area is 9 meters.\\n• Caleta Cordova's facilities for loading crude oil include one charge buoy and four mooring buoys. These facilities located away from the coast are used for mooring ships up to 100.000 tons and 11 meters depth.\\n\",\n",
       " 'The city also is home to a factory that produces concrete, property of Petroquimica Comodoro Rivadavia S.A. It produces different types of concrete: Standard Portland, Puzolanic, BCA, ARI, bricklaying concrete Caltex, concrete for oil industry. The total production of concrete for the year 2002 was 228,000 tons.\\n',\n",
       " 'The wind farm of Comodoro Rivadavia has a capacity of 18,820 kW with 26 generators, and is the most important in Latin America. Plans exist to connection it the national energy, which could allow the sale of energy to other regions.\\n',\n",
       " 'The most important sports in the city of Comodoro Rivadavia are basketball, football and car racing, among others such as land yachting, judo, rugby and athletics.\\nComodoro Rivadavia is the home of the basketball team Gimnasia y Esgrima (Comodoro Rivadavia). Other local basketball clubs are Nautico and Federacion Deportiva.\\nThe most popular football clubs are CAI (Comisión de Actividades Infantiles), Huracán, which plays in the Argentine Tournament \"B\" and Club Atlético Jorge Newbery.\\nComodoro Rivadavia also has a football league in which many teams participate; the principal teams are Jorge Newbery, Huracán and Petroquímica. There are other clubs such as Tiro Federal, Universitario, Ferroviario, Usma, Tiro Federal and Portugues, which are located in the First A League of Comodoro Rivadavia.\\nLand yachting has become very popular in the city and the beaches of Rada Tilly, together with the windy climate, are ideal to practise the sport.\\nThe World Championship of Landyachting was held in 2008 in Rada Tilly.\\n',\n",
       " \"Zolotonosha was first mentioned in written works around the year 1576. In 1635 Zolotonosha was granted the Magdeburg rights. Following the Ukrainian War of Independence, Zolotonosha became part of Ukrainian SSR, a republic of the Soviet Union. In 1939 the 2,087 members of the Jewish community comprised 11.4% of the town's total population. On September, 1941, 300 Jews were murdered in a mass execution. On November 22, 1941, in Strunkovka, just northwest of the town, more than 3,500 Jews were killed in another massacre. The city was liberated by the Red Army on September, 1943. When the Soviet Union fell apart in 1991, the city became part of Ukraine.\\n\",\n",
       " 'The town was founded in 1878 and later merged with a town named \"New Switzerland\" to the south. New Switzerland was founded in 1894 by Swiss immigrants in conjunction with the Nashville, Chattanooga and St. Louis Railway.\\n',\n",
       " 'Hohenwald is located at (35.5479, -87.5520).\\nAccording to the United States Census Bureau, the city has a total area of , all land.\\n',\n",
       " 'As of the census of 2000, there were 3,754 people, 1,534 households, and 989 families residing in the city. The population density was 861.4 people per square mile (332.4/km²). There were 1,708 housing units at an average density of 391.9 per square mile (151.3/km²). The racial makeup of the city was 96.59% White, 2.08% Black, 0.11% Native American, 0.16% Asian, 0.32% from other races, and 0.75% from two or more races. Hispanic or Latino people of any race were 1.12% of the population.\\nThere were 1,534 households out of which 28.4% had children under the age of 18 living with them, 48.2% were married couples living together, 13.1% had a female householder with no husband present, and 35.5% were non-families. 32.6% of all households were made up of individuals and 17.3% had someone living alone who was 65 years of age or older. The average household size was 2.30 and the average family size was 2.89.\\nIn the city, the population was spread out with 24.6% under the age of 18, 7.7% from 18 to 24, 24.6% from 25 to 44, 22.8% from 45 to 64, and 20.3% who were 65 years of age or older. The median age was 39 years. For every 100 females there were 86.9 males. For every 100 females age 18 and over, there were 80.2 males.\\nThe median income for a household in the city was $24,676, and the median income for a family was $37,609. Males had a median income of $25,863 versus $23,056 for females. The per capita income for the city was $16,665. About 11.1% of families and 17.6% of the population were below the poverty line, including 18.0% of those under age 18 and 17.3% of those age 65 or over.\\n',\n",
       " 'Bay Springs is located at (31.976761, -89.279574).\\nAccording to the United States Census Bureau, the city has a total area of 38.4 km² (14.8 mi²), of which 38.3 km² (14.8 mi²) is land and 0.1 km² (0.04 mi²) (0.20%) is water.\\n',\n",
       " 'As of the census of 2000, there were 2,097 people, 793 households, and 524 families residing in the city. The population density was 54.8/km² (142.0/mi²). There were 880 housing units at an average density of 23.0/km² (59.6/mi²). The racial makeup of the city was 50.02% White, 49.64% African American, 0.05% from other races, and 0.29% from two or more races. Hispanic or Latino of any race were 0.57% of the population.\\nThere were 793 households out of which 30.5% had children under the age of 18 living with them, 42.9% were married couples living together, 20.3% had a female householder with no husband present, and 33.8% were non-families. 32.5% of all households were made up of individuals and 17.9% had someone living alone who was 65 years of age or older. The average household size was 2.45 and the average family size was 3.13.\\nIn the city, the population was spread out with 24.7% under the age of 18, 8.9% from 18 to 24, 23.1% from 25 to 44, 22.9% from 45 to 64, and 20.4% who were 65 years of age or older. The median age was 40 years. For every 100 females there were 77.3 males. For every 100 females age 18 and over, there were 75.1 males.\\nThe median income for a household in the city was $22,895, and the median income for a family was $30,938. Males had a median income of $31,806 versus $19,091 for females. The per capita income for the city was $14,199. About 26.0% of families and 28.8% of the population were below the poverty line, including 36.5% of those under age 18 and 33.1% of those age 65 or over.\\n']"
      ]
     },
     "execution_count": 65,
     "metadata": {},
     "output_type": "execute_result"
    },
    {
     "data": {
      "application/javascript": [
       "\n",
       "            setTimeout(function() {\n",
       "                var nbb_cell_id = 65;\n",
       "                var nbb_unformatted_code = \"flattened_segments[start : start + num_samples]\";\n",
       "                var nbb_formatted_code = \"flattened_segments[start : start + num_samples]\";\n",
       "                var nbb_cells = Jupyter.notebook.get_cells();\n",
       "                for (var i = 0; i < nbb_cells.length; ++i) {\n",
       "                    if (nbb_cells[i].input_prompt_number == nbb_cell_id) {\n",
       "                        if (nbb_cells[i].get_text() == nbb_unformatted_code) {\n",
       "                             nbb_cells[i].set_text(nbb_formatted_code);\n",
       "                        }\n",
       "                        break;\n",
       "                    }\n",
       "                }\n",
       "            }, 500);\n",
       "            "
      ],
      "text/plain": [
       "<IPython.core.display.Javascript object>"
      ]
     },
     "metadata": {},
     "output_type": "display_data"
    }
   ],
   "source": [
    "flattened_segments[start : start + num_samples]"
   ]
  },
  {
   "cell_type": "code",
   "execution_count": 66,
   "id": "062eef5b",
   "metadata": {},
   "outputs": [
    {
     "data": {
      "text/plain": [
       "([0, 0, 0, 0, 1, 1, 1, 0, 0, 0, 1, 0, 0, 1, 1, 0, 0, 0, 0, 1, 1, 1, 0, 0, 0],\n",
       " [0, 0, 0, 0, 0, 1, 0, 0, 0, 0, 0, 0, 0, 0, 0, 0, 0, 0, 0, 1, 1, 0, 0, 1, 0])"
      ]
     },
     "execution_count": 66,
     "metadata": {},
     "output_type": "execute_result"
    },
    {
     "data": {
      "application/javascript": [
       "\n",
       "            setTimeout(function() {\n",
       "                var nbb_cell_id = 66;\n",
       "                var nbb_unformatted_code = \"[x[1] for x in predictions], flattened_labels[start : start + num_samples]\";\n",
       "                var nbb_formatted_code = \"[x[1] for x in predictions], flattened_labels[start : start + num_samples]\";\n",
       "                var nbb_cells = Jupyter.notebook.get_cells();\n",
       "                for (var i = 0; i < nbb_cells.length; ++i) {\n",
       "                    if (nbb_cells[i].input_prompt_number == nbb_cell_id) {\n",
       "                        if (nbb_cells[i].get_text() == nbb_unformatted_code) {\n",
       "                             nbb_cells[i].set_text(nbb_formatted_code);\n",
       "                        }\n",
       "                        break;\n",
       "                    }\n",
       "                }\n",
       "            }, 500);\n",
       "            "
      ],
      "text/plain": [
       "<IPython.core.display.Javascript object>"
      ]
     },
     "metadata": {},
     "output_type": "display_data"
    }
   ],
   "source": [
    "[x[1] for x in predictions], flattened_labels[start : start + num_samples]"
   ]
  },
  {
   "cell_type": "code",
   "execution_count": null,
   "id": "2e718a9a",
   "metadata": {},
   "outputs": [],
   "source": []
  }
 ],
 "metadata": {
  "kernelspec": {
   "display_name": "Python 3 (ipykernel)",
   "language": "python",
   "name": "python3"
  },
  "language_info": {
   "codemirror_mode": {
    "name": "ipython",
    "version": 3
   },
   "file_extension": ".py",
   "mimetype": "text/x-python",
   "name": "python",
   "nbconvert_exporter": "python",
   "pygments_lexer": "ipython3",
   "version": "3.9.16"
  }
 },
 "nbformat": 4,
 "nbformat_minor": 5
}
