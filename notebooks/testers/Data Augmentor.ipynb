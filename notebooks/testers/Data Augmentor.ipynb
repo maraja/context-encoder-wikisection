{
 "cells": [
  {
   "cell_type": "code",
   "execution_count": 1,
   "id": "6f25d37e",
   "metadata": {
    "executionInfo": {
     "elapsed": 11,
     "status": "ok",
     "timestamp": 1633611230143,
     "user": {
      "displayName": "Amit Maraj",
      "photoUrl": "https://lh3.googleusercontent.com/a-/AOh14Gh5Qq3Xanu7RiUeJRvmXgpWd9D3rQSG3F2_2lZizZg=s64",
      "userId": "07292138418067546452"
     },
     "user_tz": 240
    },
    "id": "07ad9d8a"
   },
   "outputs": [],
   "source": [
    "%load_ext autoreload\n",
    "%autoreload 2"
   ]
  },
  {
   "cell_type": "code",
   "execution_count": 2,
   "id": "55d1858b",
   "metadata": {
    "colab": {
     "base_uri": "https://localhost:8080/"
    },
    "executionInfo": {
     "elapsed": 25789,
     "status": "ok",
     "timestamp": 1633611255924,
     "user": {
      "displayName": "Amit Maraj",
      "photoUrl": "https://lh3.googleusercontent.com/a-/AOh14Gh5Qq3Xanu7RiUeJRvmXgpWd9D3rQSG3F2_2lZizZg=s64",
      "userId": "07292138418067546452"
     },
     "user_tz": 240
    },
    "id": "CsDTcps5QiUR",
    "outputId": "33a6c94f-4bf1-4634-9710-0b071bf38d58"
   },
   "outputs": [
    {
     "name": "stdout",
     "output_type": "stream",
     "text": [
      "Mounted at /content/drive\n"
     ]
    }
   ],
   "source": [
    "from google.colab import drive\n",
    "drive.mount('/content/drive')"
   ]
  },
  {
   "cell_type": "code",
   "execution_count": 3,
   "id": "4939f04a",
   "metadata": {
    "colab": {
     "base_uri": "https://localhost:8080/"
    },
    "executionInfo": {
     "elapsed": 36094,
     "status": "ok",
     "timestamp": 1633611292014,
     "user": {
      "displayName": "Amit Maraj",
      "photoUrl": "https://lh3.googleusercontent.com/a-/AOh14Gh5Qq3Xanu7RiUeJRvmXgpWd9D3rQSG3F2_2lZizZg=s64",
      "userId": "07292138418067546452"
     },
     "user_tz": 240
    },
    "id": "-2PBjqxpQkGy",
    "outputId": "c30c76aa-bce9-406d-e60c-31ddba529c3d"
   },
   "outputs": [
    {
     "name": "stdout",
     "output_type": "stream",
     "text": [
      "Collecting transformers==4.3.3\n",
      "  Downloading transformers-4.3.3-py3-none-any.whl (1.9 MB)\n",
      "\u001b[K     |████████████████████████████████| 1.9 MB 12.1 MB/s \n",
      "\u001b[?25hRequirement already satisfied: filelock in /usr/local/lib/python3.7/dist-packages (from transformers==4.3.3) (3.2.0)\n",
      "Requirement already satisfied: packaging in /usr/local/lib/python3.7/dist-packages (from transformers==4.3.3) (21.0)\n",
      "Requirement already satisfied: requests in /usr/local/lib/python3.7/dist-packages (from transformers==4.3.3) (2.23.0)\n",
      "Collecting sacremoses\n",
      "  Downloading sacremoses-0.0.46-py3-none-any.whl (895 kB)\n",
      "\u001b[K     |████████████████████████████████| 895 kB 42.6 MB/s \n",
      "\u001b[?25hRequirement already satisfied: numpy>=1.17 in /usr/local/lib/python3.7/dist-packages (from transformers==4.3.3) (1.19.5)\n",
      "Requirement already satisfied: regex!=2019.12.17 in /usr/local/lib/python3.7/dist-packages (from transformers==4.3.3) (2019.12.20)\n",
      "Requirement already satisfied: tqdm>=4.27 in /usr/local/lib/python3.7/dist-packages (from transformers==4.3.3) (4.62.3)\n",
      "Collecting tokenizers<0.11,>=0.10.1\n",
      "  Downloading tokenizers-0.10.3-cp37-cp37m-manylinux_2_5_x86_64.manylinux1_x86_64.manylinux_2_12_x86_64.manylinux2010_x86_64.whl (3.3 MB)\n",
      "\u001b[K     |████████████████████████████████| 3.3 MB 55.3 MB/s \n",
      "\u001b[?25hRequirement already satisfied: importlib-metadata in /usr/local/lib/python3.7/dist-packages (from transformers==4.3.3) (4.8.1)\n",
      "Requirement already satisfied: typing-extensions>=3.6.4 in /usr/local/lib/python3.7/dist-packages (from importlib-metadata->transformers==4.3.3) (3.7.4.3)\n",
      "Requirement already satisfied: zipp>=0.5 in /usr/local/lib/python3.7/dist-packages (from importlib-metadata->transformers==4.3.3) (3.6.0)\n",
      "Requirement already satisfied: pyparsing>=2.0.2 in /usr/local/lib/python3.7/dist-packages (from packaging->transformers==4.3.3) (2.4.7)\n",
      "Requirement already satisfied: chardet<4,>=3.0.2 in /usr/local/lib/python3.7/dist-packages (from requests->transformers==4.3.3) (3.0.4)\n",
      "Requirement already satisfied: idna<3,>=2.5 in /usr/local/lib/python3.7/dist-packages (from requests->transformers==4.3.3) (2.10)\n",
      "Requirement already satisfied: certifi>=2017.4.17 in /usr/local/lib/python3.7/dist-packages (from requests->transformers==4.3.3) (2021.5.30)\n",
      "Requirement already satisfied: urllib3!=1.25.0,!=1.25.1,<1.26,>=1.21.1 in /usr/local/lib/python3.7/dist-packages (from requests->transformers==4.3.3) (1.24.3)\n",
      "Requirement already satisfied: joblib in /usr/local/lib/python3.7/dist-packages (from sacremoses->transformers==4.3.3) (1.0.1)\n",
      "Requirement already satisfied: click in /usr/local/lib/python3.7/dist-packages (from sacremoses->transformers==4.3.3) (7.1.2)\n",
      "Requirement already satisfied: six in /usr/local/lib/python3.7/dist-packages (from sacremoses->transformers==4.3.3) (1.15.0)\n",
      "Installing collected packages: tokenizers, sacremoses, transformers\n",
      "Successfully installed sacremoses-0.0.46 tokenizers-0.10.3 transformers-4.3.3\n",
      "Collecting stop_words\n",
      "  Downloading stop-words-2018.7.23.tar.gz (31 kB)\n",
      "Building wheels for collected packages: stop-words\n",
      "  Building wheel for stop-words (setup.py) ... \u001b[?25l\u001b[?25hdone\n",
      "  Created wheel for stop-words: filename=stop_words-2018.7.23-py3-none-any.whl size=32912 sha256=c33c3de836566914705765b5a380b27718f5268db470a657240caaac98f6760d\n",
      "  Stored in directory: /root/.cache/pip/wheels/fb/86/b2/277b10b1ce9f73ce15059bf6975d4547cc4ec3feeb651978e9\n",
      "Successfully built stop-words\n",
      "Installing collected packages: stop-words\n",
      "Successfully installed stop-words-2018.7.23\n",
      "Collecting symspellpy\n",
      "  Downloading symspellpy-6.7.0-py3-none-any.whl (2.6 MB)\n",
      "\u001b[K     |████████████████████████████████| 2.6 MB 15.4 MB/s \n",
      "\u001b[?25hRequirement already satisfied: numpy>=1.13.1 in /usr/local/lib/python3.7/dist-packages (from symspellpy) (1.19.5)\n",
      "Installing collected packages: symspellpy\n",
      "Successfully installed symspellpy-6.7.0\n",
      "Collecting language_detector\n",
      "  Downloading language-detector-5.0.2.tar.gz (6.6 kB)\n",
      "Building wheels for collected packages: language-detector\n",
      "  Building wheel for language-detector (setup.py) ... \u001b[?25l\u001b[?25hdone\n",
      "  Created wheel for language-detector: filename=language_detector-5.0.2-py3-none-any.whl size=7053 sha256=d1465dd862ba23498080451eff9aa2b676051d53493845432274c944fa04eb54\n",
      "  Stored in directory: /root/.cache/pip/wheels/12/40/73/a0765d65e793332b79dfe6c34c713e7c0066ea785191b3f50a\n",
      "Successfully built language-detector\n",
      "Installing collected packages: language-detector\n",
      "Successfully installed language-detector-5.0.2\n",
      "Requirement already satisfied: cached_property in /usr/local/lib/python3.7/dist-packages (1.5.2)\n",
      "Collecting sentencepiece\n",
      "  Downloading sentencepiece-0.1.96-cp37-cp37m-manylinux_2_17_x86_64.manylinux2014_x86_64.whl (1.2 MB)\n",
      "\u001b[K     |████████████████████████████████| 1.2 MB 14.8 MB/s \n",
      "\u001b[?25hInstalling collected packages: sentencepiece\n",
      "Successfully installed sentencepiece-0.1.96\n",
      "Collecting config\n",
      "  Downloading config-0.5.1-py2.py3-none-any.whl (20 kB)\n",
      "Installing collected packages: config\n",
      "Successfully installed config-0.5.1\n",
      "Collecting umap\n",
      "  Downloading umap-0.1.1.tar.gz (3.2 kB)\n",
      "Building wheels for collected packages: umap\n",
      "  Building wheel for umap (setup.py) ... \u001b[?25l\u001b[?25hdone\n",
      "  Created wheel for umap: filename=umap-0.1.1-py3-none-any.whl size=3564 sha256=94fada4c9a862a0d27a541918d085f53119a5ccd4513ad95c77d316b84fae5ad\n",
      "  Stored in directory: /root/.cache/pip/wheels/65/55/85/945cfb3d67373767e4dc3e9629300a926edde52633df4f0efe\n",
      "Successfully built umap\n",
      "Installing collected packages: umap\n",
      "Successfully installed umap-0.1.1\n",
      "Collecting sentence-transformers==0.4.1\n",
      "  Downloading sentence-transformers-0.4.1.tar.gz (64 kB)\n",
      "\u001b[K     |████████████████████████████████| 64 kB 3.0 MB/s \n",
      "\u001b[?25hRequirement already satisfied: transformers<5.0.0,>=3.1.0 in /usr/local/lib/python3.7/dist-packages (from sentence-transformers==0.4.1) (4.3.3)\n",
      "Requirement already satisfied: tqdm in /usr/local/lib/python3.7/dist-packages (from sentence-transformers==0.4.1) (4.62.3)\n",
      "Requirement already satisfied: torch>=1.6.0 in /usr/local/lib/python3.7/dist-packages (from sentence-transformers==0.4.1) (1.9.0+cu102)\n",
      "Requirement already satisfied: numpy in /usr/local/lib/python3.7/dist-packages (from sentence-transformers==0.4.1) (1.19.5)\n",
      "Requirement already satisfied: scikit-learn in /usr/local/lib/python3.7/dist-packages (from sentence-transformers==0.4.1) (0.22.2.post1)\n",
      "Requirement already satisfied: scipy in /usr/local/lib/python3.7/dist-packages (from sentence-transformers==0.4.1) (1.4.1)\n",
      "Requirement already satisfied: nltk in /usr/local/lib/python3.7/dist-packages (from sentence-transformers==0.4.1) (3.2.5)\n",
      "Requirement already satisfied: sentencepiece in /usr/local/lib/python3.7/dist-packages (from sentence-transformers==0.4.1) (0.1.96)\n",
      "Requirement already satisfied: typing-extensions in /usr/local/lib/python3.7/dist-packages (from torch>=1.6.0->sentence-transformers==0.4.1) (3.7.4.3)\n",
      "Requirement already satisfied: regex!=2019.12.17 in /usr/local/lib/python3.7/dist-packages (from transformers<5.0.0,>=3.1.0->sentence-transformers==0.4.1) (2019.12.20)\n",
      "Requirement already satisfied: filelock in /usr/local/lib/python3.7/dist-packages (from transformers<5.0.0,>=3.1.0->sentence-transformers==0.4.1) (3.2.0)\n",
      "Requirement already satisfied: sacremoses in /usr/local/lib/python3.7/dist-packages (from transformers<5.0.0,>=3.1.0->sentence-transformers==0.4.1) (0.0.46)\n",
      "Requirement already satisfied: packaging in /usr/local/lib/python3.7/dist-packages (from transformers<5.0.0,>=3.1.0->sentence-transformers==0.4.1) (21.0)\n",
      "Requirement already satisfied: tokenizers<0.11,>=0.10.1 in /usr/local/lib/python3.7/dist-packages (from transformers<5.0.0,>=3.1.0->sentence-transformers==0.4.1) (0.10.3)\n",
      "Requirement already satisfied: requests in /usr/local/lib/python3.7/dist-packages (from transformers<5.0.0,>=3.1.0->sentence-transformers==0.4.1) (2.23.0)\n",
      "Requirement already satisfied: importlib-metadata in /usr/local/lib/python3.7/dist-packages (from transformers<5.0.0,>=3.1.0->sentence-transformers==0.4.1) (4.8.1)\n",
      "Requirement already satisfied: zipp>=0.5 in /usr/local/lib/python3.7/dist-packages (from importlib-metadata->transformers<5.0.0,>=3.1.0->sentence-transformers==0.4.1) (3.6.0)\n",
      "Requirement already satisfied: six in /usr/local/lib/python3.7/dist-packages (from nltk->sentence-transformers==0.4.1) (1.15.0)\n",
      "Requirement already satisfied: pyparsing>=2.0.2 in /usr/local/lib/python3.7/dist-packages (from packaging->transformers<5.0.0,>=3.1.0->sentence-transformers==0.4.1) (2.4.7)\n",
      "Requirement already satisfied: certifi>=2017.4.17 in /usr/local/lib/python3.7/dist-packages (from requests->transformers<5.0.0,>=3.1.0->sentence-transformers==0.4.1) (2021.5.30)\n",
      "Requirement already satisfied: idna<3,>=2.5 in /usr/local/lib/python3.7/dist-packages (from requests->transformers<5.0.0,>=3.1.0->sentence-transformers==0.4.1) (2.10)\n",
      "Requirement already satisfied: urllib3!=1.25.0,!=1.25.1,<1.26,>=1.21.1 in /usr/local/lib/python3.7/dist-packages (from requests->transformers<5.0.0,>=3.1.0->sentence-transformers==0.4.1) (1.24.3)\n",
      "Requirement already satisfied: chardet<4,>=3.0.2 in /usr/local/lib/python3.7/dist-packages (from requests->transformers<5.0.0,>=3.1.0->sentence-transformers==0.4.1) (3.0.4)\n",
      "Requirement already satisfied: joblib in /usr/local/lib/python3.7/dist-packages (from sacremoses->transformers<5.0.0,>=3.1.0->sentence-transformers==0.4.1) (1.0.1)\n",
      "Requirement already satisfied: click in /usr/local/lib/python3.7/dist-packages (from sacremoses->transformers<5.0.0,>=3.1.0->sentence-transformers==0.4.1) (7.1.2)\n",
      "Building wheels for collected packages: sentence-transformers\n",
      "  Building wheel for sentence-transformers (setup.py) ... \u001b[?25l\u001b[?25hdone\n",
      "  Created wheel for sentence-transformers: filename=sentence_transformers-0.4.1-py3-none-any.whl size=103051 sha256=52c24c9efe9011ea1978d190ae845382d43eda8ac02cd6011b89f50561d61c3d\n",
      "  Stored in directory: /root/.cache/pip/wheels/ed/2b/00/349b245f5256ba7a5d874bcb0f1f2dfc8b4b963d80b38626ac\n",
      "Successfully built sentence-transformers\n",
      "Installing collected packages: sentence-transformers\n",
      "Successfully installed sentence-transformers-0.4.1\n",
      "Requirement already satisfied: nltk in /usr/local/lib/python3.7/dist-packages (3.2.5)\n",
      "Requirement already satisfied: six in /usr/local/lib/python3.7/dist-packages (from nltk) (1.15.0)\n",
      "Collecting nlpaug\n",
      "  Downloading nlpaug-1.1.7-py3-none-any.whl (405 kB)\n",
      "\u001b[K     |████████████████████████████████| 405 kB 12.5 MB/s \n",
      "\u001b[?25hInstalling collected packages: nlpaug\n",
      "Successfully installed nlpaug-1.1.7\n",
      "[nltk_data] Downloading package stopwords to /root/nltk_data...\n",
      "[nltk_data]   Unzipping corpora/stopwords.zip.\n",
      "[nltk_data] Downloading package punkt to /root/nltk_data...\n",
      "[nltk_data]   Unzipping tokenizers/punkt.zip.\n",
      "[nltk_data] Downloading package averaged_perceptron_tagger to\n",
      "[nltk_data]     /root/nltk_data...\n",
      "[nltk_data]   Unzipping taggers/averaged_perceptron_tagger.zip.\n"
     ]
    },
    {
     "data": {
      "text/plain": [
       "True"
      ]
     },
     "execution_count": 3,
     "metadata": {},
     "output_type": "execute_result"
    }
   ],
   "source": [
    "!pip install transformers==4.3.3\n",
    "!pip install stop_words\n",
    "!pip install symspellpy\n",
    "!pip install language_detector \n",
    "!pip install cached_property\n",
    "!pip install sentencepiece\n",
    "!pip install config\n",
    "!pip install umap\n",
    "!pip install sentence-transformers==0.4.1\n",
    "!pip install nltk\n",
    "!pip install nlpaug\n",
    "import nltk\n",
    "nltk.download('stopwords')\n",
    "nltk.download('punkt')\n",
    "nltk.download('averaged_perceptron_tagger')"
   ]
  },
  {
   "cell_type": "code",
   "execution_count": 4,
   "id": "9c1b37a4",
   "metadata": {
    "executionInfo": {
     "elapsed": 5,
     "status": "ok",
     "timestamp": 1633611292015,
     "user": {
      "displayName": "Amit Maraj",
      "photoUrl": "https://lh3.googleusercontent.com/a-/AOh14Gh5Qq3Xanu7RiUeJRvmXgpWd9D3rQSG3F2_2lZizZg=s64",
      "userId": "07292138418067546452"
     },
     "user_tz": 240
    },
    "id": "t8SDXce_Qk9I"
   },
   "outputs": [],
   "source": [
    "root_path = \"/content/drive/MyDrive/SCHOOL/PhD/Code/context-encoder-v2\"\n",
    "import sys, os\n",
    "import config\n",
    "\n",
    "config.root_path = os.path.abspath(root_path)\n",
    "sys.path.insert(0, config.root_path)"
   ]
  },
  {
   "cell_type": "code",
   "execution_count": 12,
   "id": "516d72f4",
   "metadata": {
    "executionInfo": {
     "elapsed": 12,
     "status": "ok",
     "timestamp": 1633568651390,
     "user": {
      "displayName": "Amit Maraj",
      "photoUrl": "https://lh3.googleusercontent.com/a-/AOh14Gh5Qq3Xanu7RiUeJRvmXgpWd9D3rQSG3F2_2lZizZg=s64",
      "userId": "07292138418067546452"
     },
     "user_tz": 240
    },
    "id": "61d6956f"
   },
   "outputs": [],
   "source": [
    "from db.db import DB, AugmentedDB\n",
    "\n",
    "dataset_type = \"wiki\""
   ]
  },
  {
   "cell_type": "code",
   "execution_count": null,
   "id": "9d7c1aa1",
   "metadata": {
    "id": "f826bc50"
   },
   "outputs": [],
   "source": [
    "db = DB(dataset_type)\n",
    "augmented_db = AugmentedDB(dataset_type)"
   ]
  },
  {
   "cell_type": "code",
   "execution_count": null,
   "id": "f42a3f42",
   "metadata": {
    "id": "10b09f0c"
   },
   "outputs": [],
   "source": [
    "def get_data(db, pct=0.1, max_seg_size=256):\n",
    "    segments = db.get_random_segments_pct(pct_data=pct, max_segment_size=max_seg_size)\n",
    "    \n",
    "    return segments"
   ]
  },
  {
   "cell_type": "code",
   "execution_count": null,
   "id": "133179b7",
   "metadata": {
    "id": "ff59095a"
   },
   "outputs": [],
   "source": [
    "regular_segments = db.get_random_segments_pct(pct_data=0.1, max_segment_size=10)\n",
    "augmented_segments = augmented_db.get_random_segments_pct(pct_data=0.1, max_segment_size=10)"
   ]
  },
  {
   "cell_type": "code",
   "execution_count": null,
   "id": "c496bef5",
   "metadata": {
    "colab": {
     "base_uri": "https://localhost:8080/"
    },
    "executionInfo": {
     "elapsed": 189,
     "status": "ok",
     "timestamp": 1633400620866,
     "user": {
      "displayName": "Amit Maraj",
      "photoUrl": "https://lh3.googleusercontent.com/a-/AOh14Gh5Qq3Xanu7RiUeJRvmXgpWd9D3rQSG3F2_2lZizZg=s64",
      "userId": "07292138418067546452"
     },
     "user_tz": 240
    },
    "id": "8a4898b5",
    "outputId": "3af07b07-5283-452c-84ba-ddfb6091ed43"
   },
   "outputs": [
    {
     "data": {
      "text/plain": [
       "(213, 0)"
      ]
     },
     "execution_count": 9,
     "metadata": {},
     "output_type": "execute_result"
    }
   ],
   "source": [
    "len(regular_segments), len(augmented_segments)"
   ]
  },
  {
   "cell_type": "code",
   "execution_count": null,
   "id": "49b6e65f",
   "metadata": {
    "id": "4fd7b8e2"
   },
   "outputs": [],
   "source": []
  },
  {
   "cell_type": "markdown",
   "id": "3fb84967",
   "metadata": {
    "id": "f2cbdd10"
   },
   "source": [
    "## Tokenizing"
   ]
  },
  {
   "cell_type": "code",
   "execution_count": 5,
   "id": "fca3dd2a",
   "metadata": {
    "colab": {
     "base_uri": "https://localhost:8080/",
     "height": 48
    },
    "executionInfo": {
     "elapsed": 2881,
     "status": "ok",
     "timestamp": 1633611294893,
     "user": {
      "displayName": "Amit Maraj",
      "photoUrl": "https://lh3.googleusercontent.com/a-/AOh14Gh5Qq3Xanu7RiUeJRvmXgpWd9D3rQSG3F2_2lZizZg=s64",
      "userId": "07292138418067546452"
     },
     "user_tz": 240
    },
    "id": "003d00da",
    "outputId": "8346f63a-6de7-471d-f380-d5f4f712a294"
   },
   "outputs": [
    {
     "data": {
      "application/vnd.jupyter.widget-view+json": {
       "model_id": "eda97325f26c4982a61f9be724ed0986",
       "version_major": 2,
       "version_minor": 0
      },
      "text/plain": [
       "Downloading:   0%|          | 0.00/232k [00:00<?, ?B/s]"
      ]
     },
     "metadata": {},
     "output_type": "display_data"
    }
   ],
   "source": [
    "from transformers import BertTokenizer\n",
    "tokenizer = BertTokenizer.from_pretrained('bert-base-uncased')"
   ]
  },
  {
   "cell_type": "code",
   "execution_count": null,
   "id": "52e3cb1d",
   "metadata": {
    "colab": {
     "base_uri": "https://localhost:8080/",
     "height": 235
    },
    "executionInfo": {
     "elapsed": 201,
     "status": "error",
     "timestamp": 1633400629885,
     "user": {
      "displayName": "Amit Maraj",
      "photoUrl": "https://lh3.googleusercontent.com/a-/AOh14Gh5Qq3Xanu7RiUeJRvmXgpWd9D3rQSG3F2_2lZizZg=s64",
      "userId": "07292138418067546452"
     },
     "user_tz": 240
    },
    "id": "372b0c29",
    "outputId": "ffc6a246-b49a-4486-bdfb-15193095379f"
   },
   "outputs": [
    {
     "ename": "NameError",
     "evalue": "ignored",
     "output_type": "error",
     "traceback": [
      "\u001b[0;31m---------------------------------------------------------------------------\u001b[0m",
      "\u001b[0;31mNameError\u001b[0m                                 Traceback (most recent call last)",
      "\u001b[0;32m<ipython-input-11-84b612e72bf1>\u001b[0m in \u001b[0;36m<module>\u001b[0;34m()\u001b[0m\n\u001b[0;32m----> 1\u001b[0;31m encoding = tokenizer.encode_plus(text,\n\u001b[0m\u001b[1;32m      2\u001b[0m                                  \u001b[0madd_special_tokens\u001b[0m \u001b[0;34m=\u001b[0m \u001b[0;32mTrue\u001b[0m\u001b[0;34m,\u001b[0m\u001b[0;34m\u001b[0m\u001b[0;34m\u001b[0m\u001b[0m\n\u001b[1;32m      3\u001b[0m                                  \u001b[0mtruncation\u001b[0m \u001b[0;34m=\u001b[0m \u001b[0;32mTrue\u001b[0m\u001b[0;34m,\u001b[0m\u001b[0;34m\u001b[0m\u001b[0;34m\u001b[0m\u001b[0m\n\u001b[1;32m      4\u001b[0m                                  \u001b[0mpadding\u001b[0m \u001b[0;34m=\u001b[0m \u001b[0;34m\"max_length\"\u001b[0m\u001b[0;34m,\u001b[0m\u001b[0;34m\u001b[0m\u001b[0;34m\u001b[0m\u001b[0m\n\u001b[1;32m      5\u001b[0m                                  \u001b[0mreturn_attention_mask\u001b[0m \u001b[0;34m=\u001b[0m \u001b[0;32mTrue\u001b[0m\u001b[0;34m,\u001b[0m\u001b[0;34m\u001b[0m\u001b[0;34m\u001b[0m\u001b[0m\n",
      "\u001b[0;31mNameError\u001b[0m: name 'text' is not defined"
     ]
    }
   ],
   "source": [
    "encoding = tokenizer.encode_plus(text,\n",
    "                                 add_special_tokens = True,\n",
    "                                 truncation = True,\n",
    "                                 padding = \"max_length\",\n",
    "                                 return_attention_mask = True,\n",
    "                                 return_tensors = \"pt\")"
   ]
  },
  {
   "cell_type": "code",
   "execution_count": null,
   "id": "56c0bfa4",
   "metadata": {
    "id": "f6a17574"
   },
   "outputs": [],
   "source": []
  },
  {
   "cell_type": "markdown",
   "id": "06ffacc3",
   "metadata": {
    "id": "5c4fb833"
   },
   "source": [
    "## GPT Augmentor"
   ]
  },
  {
   "cell_type": "code",
   "execution_count": 6,
   "id": "637bceea",
   "metadata": {
    "colab": {
     "base_uri": "https://localhost:8080/",
     "height": 247
    },
    "executionInfo": {
     "elapsed": 31127,
     "status": "ok",
     "timestamp": 1633611326017,
     "user": {
      "displayName": "Amit Maraj",
      "photoUrl": "https://lh3.googleusercontent.com/a-/AOh14Gh5Qq3Xanu7RiUeJRvmXgpWd9D3rQSG3F2_2lZizZg=s64",
      "userId": "07292138418067546452"
     },
     "user_tz": 240
    },
    "id": "ffa88f04",
    "outputId": "36af0707-712b-4369-8aeb-766603f028c5"
   },
   "outputs": [
    {
     "data": {
      "application/vnd.jupyter.widget-view+json": {
       "model_id": "db9b40a2cf4f440f8f49fec896a8e862",
       "version_major": 2,
       "version_minor": 0
      },
      "text/plain": [
       "Downloading:   0%|          | 0.00/1.04M [00:00<?, ?B/s]"
      ]
     },
     "metadata": {},
     "output_type": "display_data"
    },
    {
     "data": {
      "application/vnd.jupyter.widget-view+json": {
       "model_id": "ce29d6b529044bcda4158ab08e52ecb1",
       "version_major": 2,
       "version_minor": 0
      },
      "text/plain": [
       "Downloading:   0%|          | 0.00/456k [00:00<?, ?B/s]"
      ]
     },
     "metadata": {},
     "output_type": "display_data"
    },
    {
     "data": {
      "application/vnd.jupyter.widget-view+json": {
       "model_id": "8b5ad064c19647b2844006c55708c74f",
       "version_major": 2,
       "version_minor": 0
      },
      "text/plain": [
       "Downloading:   0%|          | 0.00/1.36M [00:00<?, ?B/s]"
      ]
     },
     "metadata": {},
     "output_type": "display_data"
    },
    {
     "data": {
      "application/vnd.jupyter.widget-view+json": {
       "model_id": "773cd4cf488c4834acc34ccef649162c",
       "version_major": 2,
       "version_minor": 0
      },
      "text/plain": [
       "Downloading:   0%|          | 0.00/665 [00:00<?, ?B/s]"
      ]
     },
     "metadata": {},
     "output_type": "display_data"
    },
    {
     "data": {
      "application/vnd.jupyter.widget-view+json": {
       "model_id": "5c416b1784ca404f93d543be8ee4d2a6",
       "version_major": 2,
       "version_minor": 0
      },
      "text/plain": [
       "Downloading:   0%|          | 0.00/498M [00:00<?, ?B/s]"
      ]
     },
     "metadata": {},
     "output_type": "display_data"
    },
    {
     "name": "stderr",
     "output_type": "stream",
     "text": [
      "All model checkpoint layers were used when initializing TFGPT2LMHeadModel.\n",
      "\n",
      "All the layers of TFGPT2LMHeadModel were initialized from the model checkpoint at gpt2.\n",
      "If your task is similar to the task the model of the checkpoint was trained on, you can already use TFGPT2LMHeadModel for predictions without further training.\n"
     ]
    }
   ],
   "source": [
    "from src.dataset.gpt_augmentor import Augmentor"
   ]
  },
  {
   "cell_type": "code",
   "execution_count": null,
   "id": "296ed5d6",
   "metadata": {
    "id": "e8988391"
   },
   "outputs": [],
   "source": [
    "result = Augmentor.augment_gpt2([\"I enjoy walking with my cute dog\", \"I enjoy walking with my cute dog\"], fast=True)"
   ]
  },
  {
   "cell_type": "code",
   "execution_count": null,
   "id": "b64b19cc",
   "metadata": {
    "colab": {
     "base_uri": "https://localhost:8080/"
    },
    "executionInfo": {
     "elapsed": 248,
     "status": "ok",
     "timestamp": 1633400775821,
     "user": {
      "displayName": "Amit Maraj",
      "photoUrl": "https://lh3.googleusercontent.com/a-/AOh14Gh5Qq3Xanu7RiUeJRvmXgpWd9D3rQSG3F2_2lZizZg=s64",
      "userId": "07292138418067546452"
     },
     "user_tz": 240
    },
    "id": "70dfa8a3",
    "outputId": "b679d4a6-3625-4842-c2df-e0716b94704f"
   },
   "outputs": [
    {
     "data": {
      "text/plain": [
       "[[\"I enjoy walking with my cute dog. It's so good to have the chance to walk with a dog. But I have not been able to find a puppy that I would want to adopt or get the chance to look for.\\n\\nI am\",\n",
       "  \"I enjoy walking with my cute dog, she loves taking trips to different places on the planet, even in the desert! The world seems so beautiful and beautiful to me - it is so beautiful when my dogs go to the desert and it's like it\",\n",
       "  'I enjoy walking with my cute dog and playing with our kids,\" said David J. Smith, director of the Humane Society of the US.\\n\\n\"So as a result, I\\'ve got more work in my time,\" he said.\\n\\n'],\n",
       " [\"I enjoy walking with my cute dog. It's so good to have the chance to walk with a dog. But I have not been able to find a puppy that I would want to adopt or get the chance to look for.\\n\\nI am\",\n",
       "  \"I enjoy walking with my cute dog, she loves taking trips to different places on the planet, even in the desert! The world seems so beautiful and beautiful to me - it is so beautiful when my dogs go to the desert and it's like it\",\n",
       "  'I enjoy walking with my cute dog and playing with our kids,\" said David J. Smith, director of the Humane Society of the US.\\n\\n\"So as a result, I\\'ve got more work in my time,\" he said.\\n\\n']]"
      ]
     },
     "execution_count": 16,
     "metadata": {},
     "output_type": "execute_result"
    }
   ],
   "source": [
    "result"
   ]
  },
  {
   "cell_type": "code",
   "execution_count": null,
   "id": "cf9bb0b1",
   "metadata": {
    "id": "b79d1b60"
   },
   "outputs": [],
   "source": []
  },
  {
   "cell_type": "markdown",
   "id": "bc5b5ac9",
   "metadata": {
    "id": "ea2aa14e"
   },
   "source": [
    "## Insert GPT Augmented Data"
   ]
  },
  {
   "cell_type": "code",
   "execution_count": 7,
   "id": "b8df503e",
   "metadata": {
    "executionInfo": {
     "elapsed": 598,
     "status": "ok",
     "timestamp": 1633611326606,
     "user": {
      "displayName": "Amit Maraj",
      "photoUrl": "https://lh3.googleusercontent.com/a-/AOh14Gh5Qq3Xanu7RiUeJRvmXgpWd9D3rQSG3F2_2lZizZg=s64",
      "userId": "07292138418067546452"
     },
     "user_tz": 240
    },
    "id": "f606b28e"
   },
   "outputs": [],
   "source": [
    "from db.db import DB, AugmentedDB, ReverseAugmentedDB\n",
    "import numpy as np\n",
    "import nltk\n",
    "from nltk.tokenize import word_tokenize"
   ]
  },
  {
   "cell_type": "code",
   "execution_count": null,
   "id": "f7beb39f",
   "metadata": {
    "id": "a065ed3f"
   },
   "outputs": [],
   "source": [
    "dataset_type = \"wiki\""
   ]
  },
  {
   "cell_type": "code",
   "execution_count": null,
   "id": "38a13fe3",
   "metadata": {
    "id": "b0427136"
   },
   "outputs": [],
   "source": [
    "db = DB(dataset_type)\n",
    "augmented_db = AugmentedDB(dataset_type)\n",
    "reverse_augmented_db = ReverseAugmentedDB(dataset_type)"
   ]
  },
  {
   "cell_type": "code",
   "execution_count": null,
   "id": "aa8c350d",
   "metadata": {
    "id": "5a196fa7"
   },
   "outputs": [],
   "source": [
    "min_sent_tokens = 8\n",
    "max_sent_tokens = 64"
   ]
  },
  {
   "cell_type": "code",
   "execution_count": null,
   "id": "e398e8e2",
   "metadata": {
    "id": "663c6b26",
    "scrolled": true
   },
   "outputs": [],
   "source": [
    "target_sentences_original = db.get_target_sentences()\n",
    "target_sentences = [s[1] for s in target_sentences_original]\n",
    "cleaned_target_sentences = []"
   ]
  },
  {
   "cell_type": "code",
   "execution_count": null,
   "id": "3b37371d",
   "metadata": {
    "id": "BbrnpMQwU92l"
   },
   "outputs": [],
   "source": [
    "for s in target_sentences:\n",
    "    if len(word_tokenize(s)) > min_sent_tokens:\n",
    "        shortened_sentence = \" \".join(word_tokenize(s)[:max_sent_tokens])\n",
    "        cleaned_target_sentences.append(shortened_sentence)"
   ]
  },
  {
   "cell_type": "code",
   "execution_count": null,
   "id": "863e7844",
   "metadata": {
    "colab": {
     "base_uri": "https://localhost:8080/"
    },
    "executionInfo": {
     "elapsed": 238868,
     "status": "ok",
     "timestamp": 1633403404511,
     "user": {
      "displayName": "Amit Maraj",
      "photoUrl": "https://lh3.googleusercontent.com/a-/AOh14Gh5Qq3Xanu7RiUeJRvmXgpWd9D3rQSG3F2_2lZizZg=s64",
      "userId": "07292138418067546452"
     },
     "user_tz": 240
    },
    "id": "bdd834a5",
    "outputId": "7cdeb895-f044-44e2-ec5b-fb14093ad355"
   },
   "outputs": [
    {
     "name": "stdout",
     "output_type": "stream",
     "text": [
      "Completed augmenting 1/2...\n",
      "Completed augmenting 2/2...\n"
     ]
    }
   ],
   "source": [
    "augmented_segments = Augmentor.augment_gpt2(cleaned_target_sentences[:2], \n",
    "                                            fast=True, \n",
    "                                            # multiply by 5 to account for 5 as a max segment\n",
    "                                            max_seq_word_length=max_sent_tokens*5, \n",
    "                                            verbose=True)"
   ]
  },
  {
   "cell_type": "code",
   "execution_count": null,
   "id": "03bee55d",
   "metadata": {
    "id": "fDLUTyzzauK_"
   },
   "outputs": [],
   "source": [
    "# # TESTING\n",
    "\n",
    "# # reverse augmented db\n",
    "# for options in augmented_segments:\n",
    "#     # reverse the order of the sentences making the last one in the order the new target\n",
    "#     # sentence for this particular segment. Leave the original target sentence out\n",
    "#     # to avoid confusion in the model (go up to -1)\n",
    "#     for option in options:\n",
    "#         # print(option)\n",
    "#         segment = nltk.tokenize.sent_tokenize(option)\n",
    "#         print(segment)\n",
    "#         print(segment[::-1])\n",
    "        \n",
    "#         # print(segment)"
   ]
  },
  {
   "cell_type": "code",
   "execution_count": null,
   "id": "88a1c31b",
   "metadata": {
    "id": "d4efc2a2"
   },
   "outputs": [],
   "source": [
    "# augmented db\n",
    "for options in augmented_segments:\n",
    "    for option in options:\n",
    "        segment = nltk.tokenize.sent_tokenize(option)\n",
    "        \n",
    "        augmented_db.create_segment(segment)"
   ]
  },
  {
   "cell_type": "code",
   "execution_count": null,
   "id": "ba6bf0fe",
   "metadata": {
    "id": "85741375"
   },
   "outputs": [],
   "source": [
    "# reverse augmented db\n",
    "for options in augmented_segments:\n",
    "    # reverse the order of the sentences making the last one in the order the new target\n",
    "    # sentence for this particular segment. Leave the original target sentence out\n",
    "    # to avoid confusion in the model (go up to -1)\n",
    "    for option in options:\n",
    "        segment = nltk.tokenize.sent_tokenize(option)\n",
    "        \n",
    "        reverse_augmented_db.create_segment(segment[::-1])"
   ]
  },
  {
   "cell_type": "markdown",
   "id": "59768ce3",
   "metadata": {
    "id": "fw-yVMMraM46"
   },
   "source": [
    "## Batch Augmentation"
   ]
  },
  {
   "cell_type": "code",
   "execution_count": null,
   "id": "9874e159",
   "metadata": {
    "colab": {
     "background_save": true,
     "base_uri": "https://localhost:8080/",
     "output_embedded_package_id": "1t1Mg_Evc3FmtxUSVv1IoiwfRRsqmALMN"
    },
    "id": "iy2Go44TaJ8x",
    "outputId": "3f7f8bc6-6f64-4ee9-b526-abe3ba2c167b"
   },
   "outputs": [],
   "source": [
    "min_sent_tokens = 8\n",
    "max_sent_tokens = 64\n",
    "\n",
    "for dataset_type in [\"wiki\", \"clinical\", \"fiction\"]:\n",
    "  db = DB(dataset_type)\n",
    "  augmented_db = AugmentedDB(dataset_type)\n",
    "  reverse_augmented_db = ReverseAugmentedDB(dataset_type)\n",
    "\n",
    "  target_sentences_original = db.get_target_sentences()\n",
    "  target_sentences = [s[1] for s in target_sentences_original]\n",
    "  cleaned_target_sentences = []\n",
    "\n",
    "  # clean sentences\n",
    "  for s in target_sentences:\n",
    "    if len(word_tokenize(s)) > min_sent_tokens:\n",
    "        shortened_sentence = \" \".join(word_tokenize(s)[:max_sent_tokens])\n",
    "        cleaned_target_sentences.append(shortened_sentence)\n",
    "\n",
    "  # do 1 at a time\n",
    "  for target_sentence in cleaned_target_sentences[100:500]:\n",
    "    augmented_segments = Augmentor.augment_gpt2([target_sentence], \n",
    "                                                fast=True, \n",
    "                                                # multiply by 5 to account for 5 as a max segment\n",
    "                                                max_seq_word_length=max_sent_tokens*5, \n",
    "                                                verbose=True)\n",
    "    \n",
    "    # reverse augmented db\n",
    "    for options in augmented_segments:\n",
    "        # reverse the order of the sentences making the last one in the order the new target\n",
    "        # sentence for this particular segment. Leave the original target sentence out\n",
    "        # to avoid confusion in the model (go up to -1)\n",
    "        for option in options:\n",
    "            segment = nltk.tokenize.sent_tokenize(option)\n",
    "            print(segment)\n",
    "            \n",
    "            try:\n",
    "              # reverse the segment and go until the original target sentence, but exclude it.\n",
    "              reverse_augmented_db.create_segment(segment[::-1][:-1])\n",
    "            except Error as e:\n",
    "              print(\"something went wrong\", e)"
   ]
  },
  {
   "cell_type": "markdown",
   "id": "91ce064d",
   "metadata": {
    "id": "a1d0a372"
   },
   "source": [
    "## Dataset Testing"
   ]
  },
  {
   "cell_type": "code",
   "execution_count": null,
   "id": "e53aec8f",
   "metadata": {
    "id": "fbfbc7f7"
   },
   "outputs": [],
   "source": [
    "from src.dataset.albert import AlbertDataset"
   ]
  },
  {
   "cell_type": "code",
   "execution_count": null,
   "id": "a88e765a",
   "metadata": {
    "id": "f29fa748"
   },
   "outputs": [],
   "source": [
    " "
   ]
  },
  {
   "cell_type": "code",
   "execution_count": null,
   "id": "d8c09238",
   "metadata": {
    "id": "29040ed7",
    "outputId": "7f41c9d3-6e38-400d-96de-35fcd41c5e9d"
   },
   "outputs": [
    {
     "data": {
      "text/plain": [
       "795"
      ]
     },
     "execution_count": 97,
     "metadata": {},
     "output_type": "execute_result"
    }
   ],
   "source": [
    "dataset.num_samples"
   ]
  },
  {
   "cell_type": "code",
   "execution_count": null,
   "id": "5a4b3a12",
   "metadata": {
    "id": "8ce5c356"
   },
   "outputs": [],
   "source": [
    "sentences, tokenized_sentences, labels = dataset.process()"
   ]
  },
  {
   "cell_type": "code",
   "execution_count": null,
   "id": "8f2cd55a",
   "metadata": {
    "id": "bebd4434",
    "outputId": "5eb9f505-1c2c-4f63-eb36-9239dc9a5efb"
   },
   "outputs": [
    {
     "data": {
      "text/plain": [
       "795"
      ]
     },
     "execution_count": 99,
     "metadata": {},
     "output_type": "execute_result"
    }
   ],
   "source": [
    "len(sentences)"
   ]
  },
  {
   "cell_type": "code",
   "execution_count": null,
   "id": "a07ba6d2",
   "metadata": {
    "id": "5eb30a3a"
   },
   "outputs": [],
   "source": []
  },
  {
   "cell_type": "code",
   "execution_count": null,
   "id": "a390b815",
   "metadata": {
    "id": "0b3a25dd"
   },
   "outputs": [],
   "source": []
  },
  {
   "cell_type": "markdown",
   "id": "c49ed326",
   "metadata": {
    "id": "2e8d1d65"
   },
   "source": [
    "### Experiment Testing"
   ]
  },
  {
   "cell_type": "code",
   "execution_count": null,
   "id": "3618c424",
   "metadata": {
    "id": "a82c90cb",
    "outputId": "eccfd21d-ce9e-462c-fb99-152119ce6bc7"
   },
   "outputs": [
    {
     "name": "stdout",
     "output_type": "stream",
     "text": [
      "[{'bert_type': 'ldabert', 'dataset_type': 'clinical', 'final_dropout': 0.5, 'dense_neurons': 64, 'pct_data': 1, 'augment_pct': 0.1, 'epochs': 1000}, {'bert_type': 'ldabert', 'dataset_type': 'clinical', 'final_dropout': 0.8, 'dense_neurons': 64, 'pct_data': 1, 'augment_pct': 0.1, 'epochs': 1000}, {'bert_type': 'ldabert', 'dataset_type': 'clinical', 'final_dropout': 0.5, 'dense_neurons': 128, 'pct_data': 1, 'augment_pct': 0.1, 'epochs': 1000}, {'bert_type': 'ldabert', 'dataset_type': 'clinical', 'final_dropout': 0.8, 'dense_neurons': 128, 'pct_data': 1, 'augment_pct': 0.1, 'epochs': 1000}, {'bert_type': 'ldabert', 'dataset_type': 'clinical', 'final_dropout': 0.5, 'dense_neurons': 256, 'pct_data': 1, 'augment_pct': 0.1, 'epochs': 1000}, {'bert_type': 'ldabert', 'dataset_type': 'clinical', 'final_dropout': 0.8, 'dense_neurons': 256, 'pct_data': 1, 'augment_pct': 0.1, 'epochs': 1000}, {'bert_type': 'ldabert', 'dataset_type': 'clinical', 'final_dropout': 0.5, 'dense_neurons': 64, 'pct_data': 1, 'augment_pct': 0.25, 'epochs': 1000}, {'bert_type': 'ldabert', 'dataset_type': 'clinical', 'final_dropout': 0.8, 'dense_neurons': 64, 'pct_data': 1, 'augment_pct': 0.25, 'epochs': 1000}, {'bert_type': 'ldabert', 'dataset_type': 'clinical', 'final_dropout': 0.5, 'dense_neurons': 128, 'pct_data': 1, 'augment_pct': 0.25, 'epochs': 1000}, {'bert_type': 'ldabert', 'dataset_type': 'clinical', 'final_dropout': 0.8, 'dense_neurons': 128, 'pct_data': 1, 'augment_pct': 0.25, 'epochs': 1000}, {'bert_type': 'ldabert', 'dataset_type': 'clinical', 'final_dropout': 0.5, 'dense_neurons': 256, 'pct_data': 1, 'augment_pct': 0.25, 'epochs': 1000}, {'bert_type': 'ldabert', 'dataset_type': 'clinical', 'final_dropout': 0.8, 'dense_neurons': 256, 'pct_data': 1, 'augment_pct': 0.25, 'epochs': 1000}, {'bert_type': 'ldabert', 'dataset_type': 'clinical', 'final_dropout': 0.5, 'dense_neurons': 64, 'pct_data': 1, 'augment_pct': 0.5, 'epochs': 1000}, {'bert_type': 'ldabert', 'dataset_type': 'clinical', 'final_dropout': 0.8, 'dense_neurons': 64, 'pct_data': 1, 'augment_pct': 0.5, 'epochs': 1000}, {'bert_type': 'ldabert', 'dataset_type': 'clinical', 'final_dropout': 0.5, 'dense_neurons': 128, 'pct_data': 1, 'augment_pct': 0.5, 'epochs': 1000}, {'bert_type': 'ldabert', 'dataset_type': 'clinical', 'final_dropout': 0.8, 'dense_neurons': 128, 'pct_data': 1, 'augment_pct': 0.5, 'epochs': 1000}, {'bert_type': 'ldabert', 'dataset_type': 'clinical', 'final_dropout': 0.5, 'dense_neurons': 256, 'pct_data': 1, 'augment_pct': 0.5, 'epochs': 1000}, {'bert_type': 'ldabert', 'dataset_type': 'clinical', 'final_dropout': 0.8, 'dense_neurons': 256, 'pct_data': 1, 'augment_pct': 0.5, 'epochs': 1000}, {'bert_type': 'ldabert', 'dataset_type': 'clinical', 'final_dropout': 0.5, 'dense_neurons': 64, 'pct_data': 1, 'augment_pct': 1, 'epochs': 1000}, {'bert_type': 'ldabert', 'dataset_type': 'clinical', 'final_dropout': 0.8, 'dense_neurons': 64, 'pct_data': 1, 'augment_pct': 1, 'epochs': 1000}, {'bert_type': 'ldabert', 'dataset_type': 'clinical', 'final_dropout': 0.5, 'dense_neurons': 128, 'pct_data': 1, 'augment_pct': 1, 'epochs': 1000}, {'bert_type': 'ldabert', 'dataset_type': 'clinical', 'final_dropout': 0.8, 'dense_neurons': 128, 'pct_data': 1, 'augment_pct': 1, 'epochs': 1000}, {'bert_type': 'ldabert', 'dataset_type': 'clinical', 'final_dropout': 0.5, 'dense_neurons': 256, 'pct_data': 1, 'augment_pct': 1, 'epochs': 1000}, {'bert_type': 'ldabert', 'dataset_type': 'clinical', 'final_dropout': 0.8, 'dense_neurons': 256, 'pct_data': 1, 'augment_pct': 1, 'epochs': 1000}]\n"
     ]
    }
   ],
   "source": [
    "import copy\n",
    "\n",
    "config_overrides = {\n",
    "        \"bert_type\": [\"ldabert\"],\n",
    "        \"dataset_type\": [\"clinical\"],\n",
    "        \"final_dropout\": [0.5, 0.8],\n",
    "        \"dense_neurons\": [64, 128, 256],\n",
    "        \"pct_data\": [1],\n",
    "        \"augment_pct\": [0.1, 0.25, 0.5, 1],\n",
    "        \"epochs\": [1000]\n",
    "    }\n",
    "\n",
    "experiments = [{},]\n",
    "\n",
    "for k,v in config_overrides.items():\n",
    "    new_values = len(v)\n",
    "    current_exp_len = len(experiments)\n",
    "    for _ in range(new_values-1):\n",
    "       experiments.extend(copy.deepcopy(experiments[:current_exp_len]))\n",
    "    for validx in range(len(v)):\n",
    "       for exp in experiments[validx*current_exp_len:(validx+1)*current_exp_len]:\n",
    "            exp[k] = v[validx]\n",
    "\n",
    "print(experiments)"
   ]
  },
  {
   "cell_type": "code",
   "execution_count": null,
   "id": "d80f3527",
   "metadata": {
    "id": "108078da",
    "outputId": "72ecd346-d644-4d40-d3fb-ed14d768e381"
   },
   "outputs": [
    {
     "data": {
      "text/html": [
       "<div>\n",
       "<style scoped>\n",
       "    .dataframe tbody tr th:only-of-type {\n",
       "        vertical-align: middle;\n",
       "    }\n",
       "\n",
       "    .dataframe tbody tr th {\n",
       "        vertical-align: top;\n",
       "    }\n",
       "\n",
       "    .dataframe thead th {\n",
       "        text-align: right;\n",
       "    }\n",
       "</style>\n",
       "<table border=\"1\" class=\"dataframe\">\n",
       "  <thead>\n",
       "    <tr style=\"text-align: right;\">\n",
       "      <th></th>\n",
       "      <th>bert_type</th>\n",
       "      <th>dataset_type</th>\n",
       "      <th>final_dropout</th>\n",
       "      <th>dense_neurons</th>\n",
       "      <th>pct_data</th>\n",
       "      <th>augment_pct</th>\n",
       "      <th>epochs</th>\n",
       "    </tr>\n",
       "  </thead>\n",
       "  <tbody>\n",
       "    <tr>\n",
       "      <th>0</th>\n",
       "      <td>ldabert</td>\n",
       "      <td>clinical</td>\n",
       "      <td>0.5</td>\n",
       "      <td>64</td>\n",
       "      <td>1</td>\n",
       "      <td>0.10</td>\n",
       "      <td>1000</td>\n",
       "    </tr>\n",
       "    <tr>\n",
       "      <th>1</th>\n",
       "      <td>ldabert</td>\n",
       "      <td>clinical</td>\n",
       "      <td>0.8</td>\n",
       "      <td>64</td>\n",
       "      <td>1</td>\n",
       "      <td>0.10</td>\n",
       "      <td>1000</td>\n",
       "    </tr>\n",
       "    <tr>\n",
       "      <th>2</th>\n",
       "      <td>ldabert</td>\n",
       "      <td>clinical</td>\n",
       "      <td>0.5</td>\n",
       "      <td>128</td>\n",
       "      <td>1</td>\n",
       "      <td>0.10</td>\n",
       "      <td>1000</td>\n",
       "    </tr>\n",
       "    <tr>\n",
       "      <th>3</th>\n",
       "      <td>ldabert</td>\n",
       "      <td>clinical</td>\n",
       "      <td>0.8</td>\n",
       "      <td>128</td>\n",
       "      <td>1</td>\n",
       "      <td>0.10</td>\n",
       "      <td>1000</td>\n",
       "    </tr>\n",
       "    <tr>\n",
       "      <th>4</th>\n",
       "      <td>ldabert</td>\n",
       "      <td>clinical</td>\n",
       "      <td>0.5</td>\n",
       "      <td>256</td>\n",
       "      <td>1</td>\n",
       "      <td>0.10</td>\n",
       "      <td>1000</td>\n",
       "    </tr>\n",
       "    <tr>\n",
       "      <th>5</th>\n",
       "      <td>ldabert</td>\n",
       "      <td>clinical</td>\n",
       "      <td>0.8</td>\n",
       "      <td>256</td>\n",
       "      <td>1</td>\n",
       "      <td>0.10</td>\n",
       "      <td>1000</td>\n",
       "    </tr>\n",
       "    <tr>\n",
       "      <th>6</th>\n",
       "      <td>ldabert</td>\n",
       "      <td>clinical</td>\n",
       "      <td>0.5</td>\n",
       "      <td>64</td>\n",
       "      <td>1</td>\n",
       "      <td>0.25</td>\n",
       "      <td>1000</td>\n",
       "    </tr>\n",
       "    <tr>\n",
       "      <th>7</th>\n",
       "      <td>ldabert</td>\n",
       "      <td>clinical</td>\n",
       "      <td>0.8</td>\n",
       "      <td>64</td>\n",
       "      <td>1</td>\n",
       "      <td>0.25</td>\n",
       "      <td>1000</td>\n",
       "    </tr>\n",
       "    <tr>\n",
       "      <th>8</th>\n",
       "      <td>ldabert</td>\n",
       "      <td>clinical</td>\n",
       "      <td>0.5</td>\n",
       "      <td>128</td>\n",
       "      <td>1</td>\n",
       "      <td>0.25</td>\n",
       "      <td>1000</td>\n",
       "    </tr>\n",
       "    <tr>\n",
       "      <th>9</th>\n",
       "      <td>ldabert</td>\n",
       "      <td>clinical</td>\n",
       "      <td>0.8</td>\n",
       "      <td>128</td>\n",
       "      <td>1</td>\n",
       "      <td>0.25</td>\n",
       "      <td>1000</td>\n",
       "    </tr>\n",
       "    <tr>\n",
       "      <th>10</th>\n",
       "      <td>ldabert</td>\n",
       "      <td>clinical</td>\n",
       "      <td>0.5</td>\n",
       "      <td>256</td>\n",
       "      <td>1</td>\n",
       "      <td>0.25</td>\n",
       "      <td>1000</td>\n",
       "    </tr>\n",
       "    <tr>\n",
       "      <th>11</th>\n",
       "      <td>ldabert</td>\n",
       "      <td>clinical</td>\n",
       "      <td>0.8</td>\n",
       "      <td>256</td>\n",
       "      <td>1</td>\n",
       "      <td>0.25</td>\n",
       "      <td>1000</td>\n",
       "    </tr>\n",
       "    <tr>\n",
       "      <th>12</th>\n",
       "      <td>ldabert</td>\n",
       "      <td>clinical</td>\n",
       "      <td>0.5</td>\n",
       "      <td>64</td>\n",
       "      <td>1</td>\n",
       "      <td>0.50</td>\n",
       "      <td>1000</td>\n",
       "    </tr>\n",
       "    <tr>\n",
       "      <th>13</th>\n",
       "      <td>ldabert</td>\n",
       "      <td>clinical</td>\n",
       "      <td>0.8</td>\n",
       "      <td>64</td>\n",
       "      <td>1</td>\n",
       "      <td>0.50</td>\n",
       "      <td>1000</td>\n",
       "    </tr>\n",
       "    <tr>\n",
       "      <th>14</th>\n",
       "      <td>ldabert</td>\n",
       "      <td>clinical</td>\n",
       "      <td>0.5</td>\n",
       "      <td>128</td>\n",
       "      <td>1</td>\n",
       "      <td>0.50</td>\n",
       "      <td>1000</td>\n",
       "    </tr>\n",
       "    <tr>\n",
       "      <th>15</th>\n",
       "      <td>ldabert</td>\n",
       "      <td>clinical</td>\n",
       "      <td>0.8</td>\n",
       "      <td>128</td>\n",
       "      <td>1</td>\n",
       "      <td>0.50</td>\n",
       "      <td>1000</td>\n",
       "    </tr>\n",
       "    <tr>\n",
       "      <th>16</th>\n",
       "      <td>ldabert</td>\n",
       "      <td>clinical</td>\n",
       "      <td>0.5</td>\n",
       "      <td>256</td>\n",
       "      <td>1</td>\n",
       "      <td>0.50</td>\n",
       "      <td>1000</td>\n",
       "    </tr>\n",
       "    <tr>\n",
       "      <th>17</th>\n",
       "      <td>ldabert</td>\n",
       "      <td>clinical</td>\n",
       "      <td>0.8</td>\n",
       "      <td>256</td>\n",
       "      <td>1</td>\n",
       "      <td>0.50</td>\n",
       "      <td>1000</td>\n",
       "    </tr>\n",
       "    <tr>\n",
       "      <th>18</th>\n",
       "      <td>ldabert</td>\n",
       "      <td>clinical</td>\n",
       "      <td>0.5</td>\n",
       "      <td>64</td>\n",
       "      <td>1</td>\n",
       "      <td>1.00</td>\n",
       "      <td>1000</td>\n",
       "    </tr>\n",
       "    <tr>\n",
       "      <th>19</th>\n",
       "      <td>ldabert</td>\n",
       "      <td>clinical</td>\n",
       "      <td>0.8</td>\n",
       "      <td>64</td>\n",
       "      <td>1</td>\n",
       "      <td>1.00</td>\n",
       "      <td>1000</td>\n",
       "    </tr>\n",
       "    <tr>\n",
       "      <th>20</th>\n",
       "      <td>ldabert</td>\n",
       "      <td>clinical</td>\n",
       "      <td>0.5</td>\n",
       "      <td>128</td>\n",
       "      <td>1</td>\n",
       "      <td>1.00</td>\n",
       "      <td>1000</td>\n",
       "    </tr>\n",
       "    <tr>\n",
       "      <th>21</th>\n",
       "      <td>ldabert</td>\n",
       "      <td>clinical</td>\n",
       "      <td>0.8</td>\n",
       "      <td>128</td>\n",
       "      <td>1</td>\n",
       "      <td>1.00</td>\n",
       "      <td>1000</td>\n",
       "    </tr>\n",
       "    <tr>\n",
       "      <th>22</th>\n",
       "      <td>ldabert</td>\n",
       "      <td>clinical</td>\n",
       "      <td>0.5</td>\n",
       "      <td>256</td>\n",
       "      <td>1</td>\n",
       "      <td>1.00</td>\n",
       "      <td>1000</td>\n",
       "    </tr>\n",
       "    <tr>\n",
       "      <th>23</th>\n",
       "      <td>ldabert</td>\n",
       "      <td>clinical</td>\n",
       "      <td>0.8</td>\n",
       "      <td>256</td>\n",
       "      <td>1</td>\n",
       "      <td>1.00</td>\n",
       "      <td>1000</td>\n",
       "    </tr>\n",
       "  </tbody>\n",
       "</table>\n",
       "</div>"
      ],
      "text/plain": [
       "   bert_type dataset_type  final_dropout  dense_neurons  pct_data  \\\n",
       "0    ldabert     clinical            0.5             64         1   \n",
       "1    ldabert     clinical            0.8             64         1   \n",
       "2    ldabert     clinical            0.5            128         1   \n",
       "3    ldabert     clinical            0.8            128         1   \n",
       "4    ldabert     clinical            0.5            256         1   \n",
       "5    ldabert     clinical            0.8            256         1   \n",
       "6    ldabert     clinical            0.5             64         1   \n",
       "7    ldabert     clinical            0.8             64         1   \n",
       "8    ldabert     clinical            0.5            128         1   \n",
       "9    ldabert     clinical            0.8            128         1   \n",
       "10   ldabert     clinical            0.5            256         1   \n",
       "11   ldabert     clinical            0.8            256         1   \n",
       "12   ldabert     clinical            0.5             64         1   \n",
       "13   ldabert     clinical            0.8             64         1   \n",
       "14   ldabert     clinical            0.5            128         1   \n",
       "15   ldabert     clinical            0.8            128         1   \n",
       "16   ldabert     clinical            0.5            256         1   \n",
       "17   ldabert     clinical            0.8            256         1   \n",
       "18   ldabert     clinical            0.5             64         1   \n",
       "19   ldabert     clinical            0.8             64         1   \n",
       "20   ldabert     clinical            0.5            128         1   \n",
       "21   ldabert     clinical            0.8            128         1   \n",
       "22   ldabert     clinical            0.5            256         1   \n",
       "23   ldabert     clinical            0.8            256         1   \n",
       "\n",
       "    augment_pct  epochs  \n",
       "0          0.10    1000  \n",
       "1          0.10    1000  \n",
       "2          0.10    1000  \n",
       "3          0.10    1000  \n",
       "4          0.10    1000  \n",
       "5          0.10    1000  \n",
       "6          0.25    1000  \n",
       "7          0.25    1000  \n",
       "8          0.25    1000  \n",
       "9          0.25    1000  \n",
       "10         0.25    1000  \n",
       "11         0.25    1000  \n",
       "12         0.50    1000  \n",
       "13         0.50    1000  \n",
       "14         0.50    1000  \n",
       "15         0.50    1000  \n",
       "16         0.50    1000  \n",
       "17         0.50    1000  \n",
       "18         1.00    1000  \n",
       "19         1.00    1000  \n",
       "20         1.00    1000  \n",
       "21         1.00    1000  \n",
       "22         1.00    1000  \n",
       "23         1.00    1000  "
      ]
     },
     "execution_count": 18,
     "metadata": {},
     "output_type": "execute_result"
    }
   ],
   "source": [
    "import pandas as pd\n",
    "\n",
    "pd.DataFrame.from_dict(experiments)"
   ]
  },
  {
   "cell_type": "code",
   "execution_count": null,
   "id": "6db70efd",
   "metadata": {
    "id": "dcbb36fe"
   },
   "outputs": [],
   "source": []
  }
 ],
 "metadata": {
  "accelerator": "GPU",
  "colab": {
   "collapsed_sections": [
    "2e8d1d65"
   ],
   "machine_shape": "hm",
   "name": "Data Augmentor.ipynb",
   "version": ""
  },
  "kernelspec": {
   "display_name": "Python 3 (ipykernel)",
   "language": "python",
   "name": "python3"
  },
  "language_info": {
   "codemirror_mode": {
    "name": "ipython",
    "version": 3
   },
   "file_extension": ".py",
   "mimetype": "text/x-python",
   "name": "python",
   "nbconvert_exporter": "python",
   "pygments_lexer": "ipython3",
   "version": "3.8.13"
  },
  "widgets": {
   "application/vnd.jupyter.widget-state+json": {
    "243018658e2241b7b0d7148dec33624c": {
     "model_module": "@jupyter-widgets/base",
     "model_module_version": "1.2.0",
     "model_name": "LayoutModel",
     "state": {
      "_model_module": "@jupyter-widgets/base",
      "_model_module_version": "1.2.0",
      "_model_name": "LayoutModel",
      "_view_count": null,
      "_view_module": "@jupyter-widgets/base",
      "_view_module_version": "1.2.0",
      "_view_name": "LayoutView",
      "align_content": null,
      "align_items": null,
      "align_self": null,
      "border": null,
      "bottom": null,
      "display": null,
      "flex": null,
      "flex_flow": null,
      "grid_area": null,
      "grid_auto_columns": null,
      "grid_auto_flow": null,
      "grid_auto_rows": null,
      "grid_column": null,
      "grid_gap": null,
      "grid_row": null,
      "grid_template_areas": null,
      "grid_template_columns": null,
      "grid_template_rows": null,
      "height": null,
      "justify_content": null,
      "justify_items": null,
      "left": null,
      "margin": null,
      "max_height": null,
      "max_width": null,
      "min_height": null,
      "min_width": null,
      "object_fit": null,
      "object_position": null,
      "order": null,
      "overflow": null,
      "overflow_x": null,
      "overflow_y": null,
      "padding": null,
      "right": null,
      "top": null,
      "visibility": null,
      "width": null
     }
    },
    "248146acf3e74aeabb8713d8b3203281": {
     "model_module": "@jupyter-widgets/base",
     "model_module_version": "1.2.0",
     "model_name": "LayoutModel",
     "state": {
      "_model_module": "@jupyter-widgets/base",
      "_model_module_version": "1.2.0",
      "_model_name": "LayoutModel",
      "_view_count": null,
      "_view_module": "@jupyter-widgets/base",
      "_view_module_version": "1.2.0",
      "_view_name": "LayoutView",
      "align_content": null,
      "align_items": null,
      "align_self": null,
      "border": null,
      "bottom": null,
      "display": null,
      "flex": null,
      "flex_flow": null,
      "grid_area": null,
      "grid_auto_columns": null,
      "grid_auto_flow": null,
      "grid_auto_rows": null,
      "grid_column": null,
      "grid_gap": null,
      "grid_row": null,
      "grid_template_areas": null,
      "grid_template_columns": null,
      "grid_template_rows": null,
      "height": null,
      "justify_content": null,
      "justify_items": null,
      "left": null,
      "margin": null,
      "max_height": null,
      "max_width": null,
      "min_height": null,
      "min_width": null,
      "object_fit": null,
      "object_position": null,
      "order": null,
      "overflow": null,
      "overflow_x": null,
      "overflow_y": null,
      "padding": null,
      "right": null,
      "top": null,
      "visibility": null,
      "width": null
     }
    },
    "37d58c77486740b48876736fb36ccd75": {
     "model_module": "@jupyter-widgets/base",
     "model_module_version": "1.2.0",
     "model_name": "LayoutModel",
     "state": {
      "_model_module": "@jupyter-widgets/base",
      "_model_module_version": "1.2.0",
      "_model_name": "LayoutModel",
      "_view_count": null,
      "_view_module": "@jupyter-widgets/base",
      "_view_module_version": "1.2.0",
      "_view_name": "LayoutView",
      "align_content": null,
      "align_items": null,
      "align_self": null,
      "border": null,
      "bottom": null,
      "display": null,
      "flex": null,
      "flex_flow": null,
      "grid_area": null,
      "grid_auto_columns": null,
      "grid_auto_flow": null,
      "grid_auto_rows": null,
      "grid_column": null,
      "grid_gap": null,
      "grid_row": null,
      "grid_template_areas": null,
      "grid_template_columns": null,
      "grid_template_rows": null,
      "height": null,
      "justify_content": null,
      "justify_items": null,
      "left": null,
      "margin": null,
      "max_height": null,
      "max_width": null,
      "min_height": null,
      "min_width": null,
      "object_fit": null,
      "object_position": null,
      "order": null,
      "overflow": null,
      "overflow_x": null,
      "overflow_y": null,
      "padding": null,
      "right": null,
      "top": null,
      "visibility": null,
      "width": null
     }
    },
    "726cf438cc6d4926956ff0592b94564d": {
     "model_module": "@jupyter-widgets/controls",
     "model_module_version": "1.5.0",
     "model_name": "FloatProgressModel",
     "state": {
      "_dom_classes": [],
      "_model_module": "@jupyter-widgets/controls",
      "_model_module_version": "1.5.0",
      "_model_name": "FloatProgressModel",
      "_view_count": null,
      "_view_module": "@jupyter-widgets/controls",
      "_view_module_version": "1.5.0",
      "_view_name": "ProgressView",
      "bar_style": "success",
      "description": "",
      "description_tooltip": null,
      "layout": "IPY_MODEL_243018658e2241b7b0d7148dec33624c",
      "max": 231508,
      "min": 0,
      "orientation": "horizontal",
      "style": "IPY_MODEL_e4973614bb5244eb9a92eca641b0f7b5",
      "value": 231508
     }
    },
    "8731b854945d48ad935395d39808e8b7": {
     "model_module": "@jupyter-widgets/controls",
     "model_module_version": "1.5.0",
     "model_name": "DescriptionStyleModel",
     "state": {
      "_model_module": "@jupyter-widgets/controls",
      "_model_module_version": "1.5.0",
      "_model_name": "DescriptionStyleModel",
      "_view_count": null,
      "_view_module": "@jupyter-widgets/base",
      "_view_module_version": "1.2.0",
      "_view_name": "StyleView",
      "description_width": ""
     }
    },
    "9f274aeb98c9401e8f5d4ef08f05b614": {
     "model_module": "@jupyter-widgets/base",
     "model_module_version": "1.2.0",
     "model_name": "LayoutModel",
     "state": {
      "_model_module": "@jupyter-widgets/base",
      "_model_module_version": "1.2.0",
      "_model_name": "LayoutModel",
      "_view_count": null,
      "_view_module": "@jupyter-widgets/base",
      "_view_module_version": "1.2.0",
      "_view_name": "LayoutView",
      "align_content": null,
      "align_items": null,
      "align_self": null,
      "border": null,
      "bottom": null,
      "display": null,
      "flex": null,
      "flex_flow": null,
      "grid_area": null,
      "grid_auto_columns": null,
      "grid_auto_flow": null,
      "grid_auto_rows": null,
      "grid_column": null,
      "grid_gap": null,
      "grid_row": null,
      "grid_template_areas": null,
      "grid_template_columns": null,
      "grid_template_rows": null,
      "height": null,
      "justify_content": null,
      "justify_items": null,
      "left": null,
      "margin": null,
      "max_height": null,
      "max_width": null,
      "min_height": null,
      "min_width": null,
      "object_fit": null,
      "object_position": null,
      "order": null,
      "overflow": null,
      "overflow_x": null,
      "overflow_y": null,
      "padding": null,
      "right": null,
      "top": null,
      "visibility": null,
      "width": null
     }
    },
    "a600f3970f4d4629b46df146b60486b3": {
     "model_module": "@jupyter-widgets/controls",
     "model_module_version": "1.5.0",
     "model_name": "HTMLModel",
     "state": {
      "_dom_classes": [],
      "_model_module": "@jupyter-widgets/controls",
      "_model_module_version": "1.5.0",
      "_model_name": "HTMLModel",
      "_view_count": null,
      "_view_module": "@jupyter-widgets/controls",
      "_view_module_version": "1.5.0",
      "_view_name": "HTMLView",
      "description": "",
      "description_tooltip": null,
      "layout": "IPY_MODEL_9f274aeb98c9401e8f5d4ef08f05b614",
      "placeholder": "​",
      "style": "IPY_MODEL_a96d66481a2a47b3b471525ffbb53a75",
      "value": "Downloading: 100%"
     }
    },
    "a96d66481a2a47b3b471525ffbb53a75": {
     "model_module": "@jupyter-widgets/controls",
     "model_module_version": "1.5.0",
     "model_name": "DescriptionStyleModel",
     "state": {
      "_model_module": "@jupyter-widgets/controls",
      "_model_module_version": "1.5.0",
      "_model_name": "DescriptionStyleModel",
      "_view_count": null,
      "_view_module": "@jupyter-widgets/base",
      "_view_module_version": "1.2.0",
      "_view_name": "StyleView",
      "description_width": ""
     }
    },
    "e4973614bb5244eb9a92eca641b0f7b5": {
     "model_module": "@jupyter-widgets/controls",
     "model_module_version": "1.5.0",
     "model_name": "ProgressStyleModel",
     "state": {
      "_model_module": "@jupyter-widgets/controls",
      "_model_module_version": "1.5.0",
      "_model_name": "ProgressStyleModel",
      "_view_count": null,
      "_view_module": "@jupyter-widgets/base",
      "_view_module_version": "1.2.0",
      "_view_name": "StyleView",
      "bar_color": null,
      "description_width": ""
     }
    },
    "ed24ff6614644375b55a8f45fe717939": {
     "model_module": "@jupyter-widgets/controls",
     "model_module_version": "1.5.0",
     "model_name": "HTMLModel",
     "state": {
      "_dom_classes": [],
      "_model_module": "@jupyter-widgets/controls",
      "_model_module_version": "1.5.0",
      "_model_name": "HTMLModel",
      "_view_count": null,
      "_view_module": "@jupyter-widgets/controls",
      "_view_module_version": "1.5.0",
      "_view_name": "HTMLView",
      "description": "",
      "description_tooltip": null,
      "layout": "IPY_MODEL_248146acf3e74aeabb8713d8b3203281",
      "placeholder": "​",
      "style": "IPY_MODEL_8731b854945d48ad935395d39808e8b7",
      "value": " 232k/232k [00:00&lt;00:00, 485kB/s]"
     }
    },
    "eda97325f26c4982a61f9be724ed0986": {
     "model_module": "@jupyter-widgets/controls",
     "model_module_version": "1.5.0",
     "model_name": "HBoxModel",
     "state": {
      "_dom_classes": [],
      "_model_module": "@jupyter-widgets/controls",
      "_model_module_version": "1.5.0",
      "_model_name": "HBoxModel",
      "_view_count": null,
      "_view_module": "@jupyter-widgets/controls",
      "_view_module_version": "1.5.0",
      "_view_name": "HBoxView",
      "box_style": "",
      "children": [
       "IPY_MODEL_a600f3970f4d4629b46df146b60486b3",
       "IPY_MODEL_726cf438cc6d4926956ff0592b94564d",
       "IPY_MODEL_ed24ff6614644375b55a8f45fe717939"
      ],
      "layout": "IPY_MODEL_37d58c77486740b48876736fb36ccd75"
     }
    }
   }
  }
 },
 "nbformat": 4,
 "nbformat_minor": 5
}
