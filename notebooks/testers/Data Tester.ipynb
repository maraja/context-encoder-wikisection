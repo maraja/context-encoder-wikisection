{
 "cells": [
  {
   "cell_type": "code",
   "execution_count": 1,
   "id": "07ad9d8a",
   "metadata": {},
   "outputs": [],
   "source": [
    "%load_ext autoreload\n",
    "%autoreload 2"
   ]
  },
  {
   "cell_type": "code",
   "execution_count": 2,
   "id": "92263770",
   "metadata": {},
   "outputs": [],
   "source": [
    "import sys, os\n",
    "import config\n",
    "\n",
    "config.root_path = os.path.abspath(os.path.join(os.getcwd(), '..', '..'))\n",
    "sys.path.insert(0, config.root_path)"
   ]
  },
  {
   "cell_type": "code",
   "execution_count": 3,
   "id": "61d6956f",
   "metadata": {},
   "outputs": [],
   "source": [
    "from db.db import DB, AugmentedDB\n",
    "\n",
    "dataset_type = \"wiki\""
   ]
  },
  {
   "cell_type": "code",
   "execution_count": 4,
   "id": "f826bc50",
   "metadata": {},
   "outputs": [],
   "source": [
    "db = DB(dataset_type)\n",
    "augmented_db = AugmentedDB(dataset_type)"
   ]
  },
  {
   "cell_type": "code",
   "execution_count": 5,
   "id": "10b09f0c",
   "metadata": {},
   "outputs": [],
   "source": [
    "def get_data(db, pct=0.1, max_seg_size=256):\n",
    "    segments = db.get_random_segments_pct(pct_data=pct, max_segment_size=max_seg_size)\n",
    "    \n",
    "    return segments"
   ]
  },
  {
   "cell_type": "code",
   "execution_count": 6,
   "id": "ff59095a",
   "metadata": {},
   "outputs": [],
   "source": [
    "regular_segments = db.get_random_segments_pct(pct_data=1, max_segment_size=10)\n",
    "augmented_segments = augmented_db.get_random_segments_pct(pct_data=1, max_segment_size=10)"
   ]
  },
  {
   "cell_type": "code",
   "execution_count": 14,
   "id": "8a4898b5",
   "metadata": {},
   "outputs": [
    {
     "data": {
      "text/plain": [
       "(10, 2544)"
      ]
     },
     "execution_count": 14,
     "metadata": {},
     "output_type": "execute_result"
    }
   ],
   "source": [
    "len(regular_segments), len(augmented_segments)"
   ]
  },
  {
   "cell_type": "code",
   "execution_count": null,
   "id": "4fd7b8e2",
   "metadata": {},
   "outputs": [],
   "source": []
  },
  {
   "cell_type": "markdown",
   "id": "f2cbdd10",
   "metadata": {},
   "source": [
    "## Tokenizing"
   ]
  },
  {
   "cell_type": "code",
   "execution_count": 49,
   "id": "003d00da",
   "metadata": {},
   "outputs": [],
   "source": [
    "from transformers import BertTokenizer\n",
    "tokenizer = BertTokenizer.from_pretrained('bert-base-uncased')"
   ]
  },
  {
   "cell_type": "code",
   "execution_count": null,
   "id": "372b0c29",
   "metadata": {},
   "outputs": [],
   "source": [
    "encoding = tokenizer.encode_plus(text,\n",
    "                                 add_special_tokens = True,\n",
    "                                 truncation = True,\n",
    "                                 padding = \"max_length\",\n",
    "                                 return_attention_mask = True,\n",
    "                                 return_tensors = \"pt\")"
   ]
  },
  {
   "cell_type": "code",
   "execution_count": null,
   "id": "f6a17574",
   "metadata": {},
   "outputs": [],
   "source": []
  },
  {
   "cell_type": "markdown",
   "id": "5c4fb833",
   "metadata": {},
   "source": [
    "## GPT Augmentor"
   ]
  },
  {
   "cell_type": "code",
   "execution_count": 17,
   "id": "ffa88f04",
   "metadata": {},
   "outputs": [
    {
     "name": "stderr",
     "output_type": "stream",
     "text": [
      "All model checkpoint layers were used when initializing TFGPT2LMHeadModel.\n",
      "\n",
      "All the layers of TFGPT2LMHeadModel were initialized from the model checkpoint at gpt2.\n",
      "If your task is similar to the task the model of the checkpoint was trained on, you can already use TFGPT2LMHeadModel for predictions without further training.\n"
     ]
    }
   ],
   "source": [
    "sys.path.append('../')\n",
    "from src.dataset.gpt_augmentor import Augmentor"
   ]
  },
  {
   "cell_type": "code",
   "execution_count": 18,
   "id": "e8988391",
   "metadata": {},
   "outputs": [],
   "source": [
    "result = Augmentor.augment_gpt2([\"I enjoy walking with my cute dog\", \"I enjoy walking with my cute dog\"], fast=True)"
   ]
  },
  {
   "cell_type": "code",
   "execution_count": 19,
   "id": "70dfa8a3",
   "metadata": {},
   "outputs": [
    {
     "data": {
      "text/plain": [
       "[[\"I enjoy walking with my cute dog. It's so good to have the chance to walk with a dog. But I have not been able to find a puppy that I would want to adopt or get the chance to look for.\\n\\nI am\",\n",
       "  \"I enjoy walking with my cute dog. I like seeing him, I don't like having my dog go through me, but when we walk together that makes for a wonderful bonding moment. I appreciate the interaction, I just don't understand how it would\",\n",
       "  'I enjoy walking with my cute dog and playing with our kids,\" said David J. Smith, director of the Humane Society of the US.\\n\\n\"So as a result, I\\'ve got more work in my time,\" he said.\\n\\n'],\n",
       " [\"I enjoy walking with my cute dog. It's so good to have the chance to walk with a dog. But I have not been able to find a puppy that I would want to adopt or get the chance to look for.\\n\\nI am\",\n",
       "  \"I enjoy walking with my cute dog. I like seeing him, I don't like having my dog go through me, but when we walk together that makes for a wonderful bonding moment. I appreciate the interaction, I just don't understand how it would\",\n",
       "  'I enjoy walking with my cute dog and playing with our kids,\" said David J. Smith, director of the Humane Society of the US.\\n\\n\"So as a result, I\\'ve got more work in my time,\" he said.\\n\\n']]"
      ]
     },
     "execution_count": 19,
     "metadata": {},
     "output_type": "execute_result"
    }
   ],
   "source": [
    "result"
   ]
  },
  {
   "cell_type": "code",
   "execution_count": null,
   "id": "b79d1b60",
   "metadata": {},
   "outputs": [],
   "source": []
  },
  {
   "cell_type": "markdown",
   "id": "ea2aa14e",
   "metadata": {},
   "source": [
    "## Insert GPT Augmented Data"
   ]
  },
  {
   "cell_type": "code",
   "execution_count": 7,
   "id": "f606b28e",
   "metadata": {},
   "outputs": [],
   "source": [
    "from db.db import DB, AugmentedDB\n",
    "import numpy as np\n",
    "import nltk\n",
    "from nltk.tokenize import word_tokenize"
   ]
  },
  {
   "cell_type": "code",
   "execution_count": 8,
   "id": "a065ed3f",
   "metadata": {},
   "outputs": [],
   "source": [
    "dataset_type = \"wiki\""
   ]
  },
  {
   "cell_type": "code",
   "execution_count": 9,
   "id": "b0427136",
   "metadata": {},
   "outputs": [],
   "source": [
    "db = DB(dataset_type)\n",
    "augmented_db = AugmentedDB(dataset_type)"
   ]
  },
  {
   "cell_type": "code",
   "execution_count": 10,
   "id": "5a196fa7",
   "metadata": {},
   "outputs": [],
   "source": [
    "min_sent_tokens = 8\n",
    "max_sent_tokens = 64"
   ]
  },
  {
   "cell_type": "code",
   "execution_count": 11,
   "id": "663c6b26",
   "metadata": {
    "scrolled": true
   },
   "outputs": [],
   "source": [
    "target_sentences = db.get_target_sentences()\n",
    "target_sentences = [s[1] for s in target_sentences]\n",
    "cleaned_target_sentences = []\n",
    "for s in target_sentences:\n",
    "    if len(word_tokenize(s)) > min_sent_tokens:\n",
    "        shortened_sentence = \" \".join(word_tokenize(s)[:max_sent_tokens])\n",
    "        cleaned_target_sentences.append(shortened_sentence)"
   ]
  },
  {
   "cell_type": "code",
   "execution_count": 12,
   "id": "bdd834a5",
   "metadata": {},
   "outputs": [
    {
     "ename": "NameError",
     "evalue": "name 'Augmentor' is not defined",
     "output_type": "error",
     "traceback": [
      "\u001b[1;31m---------------------------------------------------------------------------\u001b[0m",
      "\u001b[1;31mNameError\u001b[0m                                 Traceback (most recent call last)",
      "\u001b[1;32m<ipython-input-12-27624d7a8a91>\u001b[0m in \u001b[0;36m<module>\u001b[1;34m\u001b[0m\n\u001b[1;32m----> 1\u001b[1;33m augmented_segments = Augmentor.augment_gpt2(cleaned_target_sentences[:2], \n\u001b[0m\u001b[0;32m      2\u001b[0m                                             \u001b[0mfast\u001b[0m\u001b[1;33m=\u001b[0m\u001b[1;32mTrue\u001b[0m\u001b[1;33m,\u001b[0m\u001b[1;33m\u001b[0m\u001b[1;33m\u001b[0m\u001b[0m\n\u001b[0;32m      3\u001b[0m                                             \u001b[1;31m# multiply by 5 to account for 5 as a max segment\u001b[0m\u001b[1;33m\u001b[0m\u001b[1;33m\u001b[0m\u001b[1;33m\u001b[0m\u001b[0m\n\u001b[0;32m      4\u001b[0m                                             \u001b[0mmax_seq_word_length\u001b[0m\u001b[1;33m=\u001b[0m\u001b[0mmax_sent_tokens\u001b[0m\u001b[1;33m*\u001b[0m\u001b[1;36m5\u001b[0m\u001b[1;33m,\u001b[0m\u001b[1;33m\u001b[0m\u001b[1;33m\u001b[0m\u001b[0m\n\u001b[0;32m      5\u001b[0m                                             verbose=True)\n",
      "\u001b[1;31mNameError\u001b[0m: name 'Augmentor' is not defined"
     ]
    }
   ],
   "source": [
    "augmented_segments = Augmentor.augment_gpt2(cleaned_target_sentences[:2], \n",
    "                                            fast=True, \n",
    "                                            # multiply by 5 to account for 5 as a max segment\n",
    "                                            max_seq_word_length=max_sent_tokens*5, \n",
    "                                            verbose=True)"
   ]
  },
  {
   "cell_type": "code",
   "execution_count": 126,
   "id": "d4efc2a2",
   "metadata": {},
   "outputs": [],
   "source": [
    "for options in augmented_segments:\n",
    "    for option in options:\n",
    "        segment = nltk.tokenize.sent_tokenize(option)\n",
    "        \n",
    "        augmented_db.create_segment(segment)"
   ]
  },
  {
   "cell_type": "code",
   "execution_count": null,
   "id": "85741375",
   "metadata": {},
   "outputs": [],
   "source": []
  },
  {
   "cell_type": "markdown",
   "id": "a1d0a372",
   "metadata": {},
   "source": [
    "## Dataset Testing"
   ]
  },
  {
   "cell_type": "code",
   "execution_count": 95,
   "id": "fbfbc7f7",
   "metadata": {},
   "outputs": [],
   "source": [
    "from src.dataset.albert import AlbertDataset"
   ]
  },
  {
   "cell_type": "code",
   "execution_count": 96,
   "id": "f29fa748",
   "metadata": {},
   "outputs": [],
   "source": [
    " "
   ]
  },
  {
   "cell_type": "code",
   "execution_count": 97,
   "id": "29040ed7",
   "metadata": {},
   "outputs": [
    {
     "data": {
      "text/plain": [
       "795"
      ]
     },
     "execution_count": 97,
     "metadata": {},
     "output_type": "execute_result"
    }
   ],
   "source": [
    "dataset.num_samples"
   ]
  },
  {
   "cell_type": "code",
   "execution_count": 98,
   "id": "8ce5c356",
   "metadata": {},
   "outputs": [],
   "source": [
    "sentences, tokenized_sentences, labels = dataset.process()"
   ]
  },
  {
   "cell_type": "code",
   "execution_count": 99,
   "id": "bebd4434",
   "metadata": {},
   "outputs": [
    {
     "data": {
      "text/plain": [
       "795"
      ]
     },
     "execution_count": 99,
     "metadata": {},
     "output_type": "execute_result"
    }
   ],
   "source": [
    "len(sentences)"
   ]
  },
  {
   "cell_type": "code",
   "execution_count": null,
   "id": "5eb30a3a",
   "metadata": {},
   "outputs": [],
   "source": []
  },
  {
   "cell_type": "code",
   "execution_count": null,
   "id": "0b3a25dd",
   "metadata": {},
   "outputs": [],
   "source": []
  },
  {
   "cell_type": "markdown",
   "id": "2e8d1d65",
   "metadata": {},
   "source": [
    "### Experiment Testing"
   ]
  },
  {
   "cell_type": "code",
   "execution_count": 17,
   "id": "a82c90cb",
   "metadata": {},
   "outputs": [
    {
     "name": "stdout",
     "output_type": "stream",
     "text": [
      "[{'bert_type': 'ldabert', 'dataset_type': 'clinical', 'final_dropout': 0.5, 'dense_neurons': 64, 'pct_data': 1, 'augment_pct': 0.1, 'epochs': 1000}, {'bert_type': 'ldabert', 'dataset_type': 'clinical', 'final_dropout': 0.8, 'dense_neurons': 64, 'pct_data': 1, 'augment_pct': 0.1, 'epochs': 1000}, {'bert_type': 'ldabert', 'dataset_type': 'clinical', 'final_dropout': 0.5, 'dense_neurons': 128, 'pct_data': 1, 'augment_pct': 0.1, 'epochs': 1000}, {'bert_type': 'ldabert', 'dataset_type': 'clinical', 'final_dropout': 0.8, 'dense_neurons': 128, 'pct_data': 1, 'augment_pct': 0.1, 'epochs': 1000}, {'bert_type': 'ldabert', 'dataset_type': 'clinical', 'final_dropout': 0.5, 'dense_neurons': 256, 'pct_data': 1, 'augment_pct': 0.1, 'epochs': 1000}, {'bert_type': 'ldabert', 'dataset_type': 'clinical', 'final_dropout': 0.8, 'dense_neurons': 256, 'pct_data': 1, 'augment_pct': 0.1, 'epochs': 1000}, {'bert_type': 'ldabert', 'dataset_type': 'clinical', 'final_dropout': 0.5, 'dense_neurons': 64, 'pct_data': 1, 'augment_pct': 0.25, 'epochs': 1000}, {'bert_type': 'ldabert', 'dataset_type': 'clinical', 'final_dropout': 0.8, 'dense_neurons': 64, 'pct_data': 1, 'augment_pct': 0.25, 'epochs': 1000}, {'bert_type': 'ldabert', 'dataset_type': 'clinical', 'final_dropout': 0.5, 'dense_neurons': 128, 'pct_data': 1, 'augment_pct': 0.25, 'epochs': 1000}, {'bert_type': 'ldabert', 'dataset_type': 'clinical', 'final_dropout': 0.8, 'dense_neurons': 128, 'pct_data': 1, 'augment_pct': 0.25, 'epochs': 1000}, {'bert_type': 'ldabert', 'dataset_type': 'clinical', 'final_dropout': 0.5, 'dense_neurons': 256, 'pct_data': 1, 'augment_pct': 0.25, 'epochs': 1000}, {'bert_type': 'ldabert', 'dataset_type': 'clinical', 'final_dropout': 0.8, 'dense_neurons': 256, 'pct_data': 1, 'augment_pct': 0.25, 'epochs': 1000}, {'bert_type': 'ldabert', 'dataset_type': 'clinical', 'final_dropout': 0.5, 'dense_neurons': 64, 'pct_data': 1, 'augment_pct': 0.5, 'epochs': 1000}, {'bert_type': 'ldabert', 'dataset_type': 'clinical', 'final_dropout': 0.8, 'dense_neurons': 64, 'pct_data': 1, 'augment_pct': 0.5, 'epochs': 1000}, {'bert_type': 'ldabert', 'dataset_type': 'clinical', 'final_dropout': 0.5, 'dense_neurons': 128, 'pct_data': 1, 'augment_pct': 0.5, 'epochs': 1000}, {'bert_type': 'ldabert', 'dataset_type': 'clinical', 'final_dropout': 0.8, 'dense_neurons': 128, 'pct_data': 1, 'augment_pct': 0.5, 'epochs': 1000}, {'bert_type': 'ldabert', 'dataset_type': 'clinical', 'final_dropout': 0.5, 'dense_neurons': 256, 'pct_data': 1, 'augment_pct': 0.5, 'epochs': 1000}, {'bert_type': 'ldabert', 'dataset_type': 'clinical', 'final_dropout': 0.8, 'dense_neurons': 256, 'pct_data': 1, 'augment_pct': 0.5, 'epochs': 1000}, {'bert_type': 'ldabert', 'dataset_type': 'clinical', 'final_dropout': 0.5, 'dense_neurons': 64, 'pct_data': 1, 'augment_pct': 1, 'epochs': 1000}, {'bert_type': 'ldabert', 'dataset_type': 'clinical', 'final_dropout': 0.8, 'dense_neurons': 64, 'pct_data': 1, 'augment_pct': 1, 'epochs': 1000}, {'bert_type': 'ldabert', 'dataset_type': 'clinical', 'final_dropout': 0.5, 'dense_neurons': 128, 'pct_data': 1, 'augment_pct': 1, 'epochs': 1000}, {'bert_type': 'ldabert', 'dataset_type': 'clinical', 'final_dropout': 0.8, 'dense_neurons': 128, 'pct_data': 1, 'augment_pct': 1, 'epochs': 1000}, {'bert_type': 'ldabert', 'dataset_type': 'clinical', 'final_dropout': 0.5, 'dense_neurons': 256, 'pct_data': 1, 'augment_pct': 1, 'epochs': 1000}, {'bert_type': 'ldabert', 'dataset_type': 'clinical', 'final_dropout': 0.8, 'dense_neurons': 256, 'pct_data': 1, 'augment_pct': 1, 'epochs': 1000}]\n"
     ]
    }
   ],
   "source": [
    "import copy\n",
    "\n",
    "config_overrides = {\n",
    "        \"bert_type\": [\"ldabert\"],\n",
    "        \"dataset_type\": [\"clinical\"],\n",
    "        \"final_dropout\": [0.5, 0.8],\n",
    "        \"dense_neurons\": [64, 128, 256],\n",
    "        \"pct_data\": [1],\n",
    "        \"augment_pct\": [0.1, 0.25, 0.5, 1],\n",
    "        \"epochs\": [1000]\n",
    "    }\n",
    "\n",
    "experiments = [{},]\n",
    "\n",
    "for k,v in config_overrides.items():\n",
    "    new_values = len(v)\n",
    "    current_exp_len = len(experiments)\n",
    "    for _ in range(new_values-1):\n",
    "       experiments.extend(copy.deepcopy(experiments[:current_exp_len]))\n",
    "    for validx in range(len(v)):\n",
    "       for exp in experiments[validx*current_exp_len:(validx+1)*current_exp_len]:\n",
    "            exp[k] = v[validx]\n",
    "\n",
    "print(experiments)"
   ]
  },
  {
   "cell_type": "code",
   "execution_count": 18,
   "id": "108078da",
   "metadata": {},
   "outputs": [
    {
     "data": {
      "text/html": [
       "<div>\n",
       "<style scoped>\n",
       "    .dataframe tbody tr th:only-of-type {\n",
       "        vertical-align: middle;\n",
       "    }\n",
       "\n",
       "    .dataframe tbody tr th {\n",
       "        vertical-align: top;\n",
       "    }\n",
       "\n",
       "    .dataframe thead th {\n",
       "        text-align: right;\n",
       "    }\n",
       "</style>\n",
       "<table border=\"1\" class=\"dataframe\">\n",
       "  <thead>\n",
       "    <tr style=\"text-align: right;\">\n",
       "      <th></th>\n",
       "      <th>bert_type</th>\n",
       "      <th>dataset_type</th>\n",
       "      <th>final_dropout</th>\n",
       "      <th>dense_neurons</th>\n",
       "      <th>pct_data</th>\n",
       "      <th>augment_pct</th>\n",
       "      <th>epochs</th>\n",
       "    </tr>\n",
       "  </thead>\n",
       "  <tbody>\n",
       "    <tr>\n",
       "      <th>0</th>\n",
       "      <td>ldabert</td>\n",
       "      <td>clinical</td>\n",
       "      <td>0.5</td>\n",
       "      <td>64</td>\n",
       "      <td>1</td>\n",
       "      <td>0.10</td>\n",
       "      <td>1000</td>\n",
       "    </tr>\n",
       "    <tr>\n",
       "      <th>1</th>\n",
       "      <td>ldabert</td>\n",
       "      <td>clinical</td>\n",
       "      <td>0.8</td>\n",
       "      <td>64</td>\n",
       "      <td>1</td>\n",
       "      <td>0.10</td>\n",
       "      <td>1000</td>\n",
       "    </tr>\n",
       "    <tr>\n",
       "      <th>2</th>\n",
       "      <td>ldabert</td>\n",
       "      <td>clinical</td>\n",
       "      <td>0.5</td>\n",
       "      <td>128</td>\n",
       "      <td>1</td>\n",
       "      <td>0.10</td>\n",
       "      <td>1000</td>\n",
       "    </tr>\n",
       "    <tr>\n",
       "      <th>3</th>\n",
       "      <td>ldabert</td>\n",
       "      <td>clinical</td>\n",
       "      <td>0.8</td>\n",
       "      <td>128</td>\n",
       "      <td>1</td>\n",
       "      <td>0.10</td>\n",
       "      <td>1000</td>\n",
       "    </tr>\n",
       "    <tr>\n",
       "      <th>4</th>\n",
       "      <td>ldabert</td>\n",
       "      <td>clinical</td>\n",
       "      <td>0.5</td>\n",
       "      <td>256</td>\n",
       "      <td>1</td>\n",
       "      <td>0.10</td>\n",
       "      <td>1000</td>\n",
       "    </tr>\n",
       "    <tr>\n",
       "      <th>5</th>\n",
       "      <td>ldabert</td>\n",
       "      <td>clinical</td>\n",
       "      <td>0.8</td>\n",
       "      <td>256</td>\n",
       "      <td>1</td>\n",
       "      <td>0.10</td>\n",
       "      <td>1000</td>\n",
       "    </tr>\n",
       "    <tr>\n",
       "      <th>6</th>\n",
       "      <td>ldabert</td>\n",
       "      <td>clinical</td>\n",
       "      <td>0.5</td>\n",
       "      <td>64</td>\n",
       "      <td>1</td>\n",
       "      <td>0.25</td>\n",
       "      <td>1000</td>\n",
       "    </tr>\n",
       "    <tr>\n",
       "      <th>7</th>\n",
       "      <td>ldabert</td>\n",
       "      <td>clinical</td>\n",
       "      <td>0.8</td>\n",
       "      <td>64</td>\n",
       "      <td>1</td>\n",
       "      <td>0.25</td>\n",
       "      <td>1000</td>\n",
       "    </tr>\n",
       "    <tr>\n",
       "      <th>8</th>\n",
       "      <td>ldabert</td>\n",
       "      <td>clinical</td>\n",
       "      <td>0.5</td>\n",
       "      <td>128</td>\n",
       "      <td>1</td>\n",
       "      <td>0.25</td>\n",
       "      <td>1000</td>\n",
       "    </tr>\n",
       "    <tr>\n",
       "      <th>9</th>\n",
       "      <td>ldabert</td>\n",
       "      <td>clinical</td>\n",
       "      <td>0.8</td>\n",
       "      <td>128</td>\n",
       "      <td>1</td>\n",
       "      <td>0.25</td>\n",
       "      <td>1000</td>\n",
       "    </tr>\n",
       "    <tr>\n",
       "      <th>10</th>\n",
       "      <td>ldabert</td>\n",
       "      <td>clinical</td>\n",
       "      <td>0.5</td>\n",
       "      <td>256</td>\n",
       "      <td>1</td>\n",
       "      <td>0.25</td>\n",
       "      <td>1000</td>\n",
       "    </tr>\n",
       "    <tr>\n",
       "      <th>11</th>\n",
       "      <td>ldabert</td>\n",
       "      <td>clinical</td>\n",
       "      <td>0.8</td>\n",
       "      <td>256</td>\n",
       "      <td>1</td>\n",
       "      <td>0.25</td>\n",
       "      <td>1000</td>\n",
       "    </tr>\n",
       "    <tr>\n",
       "      <th>12</th>\n",
       "      <td>ldabert</td>\n",
       "      <td>clinical</td>\n",
       "      <td>0.5</td>\n",
       "      <td>64</td>\n",
       "      <td>1</td>\n",
       "      <td>0.50</td>\n",
       "      <td>1000</td>\n",
       "    </tr>\n",
       "    <tr>\n",
       "      <th>13</th>\n",
       "      <td>ldabert</td>\n",
       "      <td>clinical</td>\n",
       "      <td>0.8</td>\n",
       "      <td>64</td>\n",
       "      <td>1</td>\n",
       "      <td>0.50</td>\n",
       "      <td>1000</td>\n",
       "    </tr>\n",
       "    <tr>\n",
       "      <th>14</th>\n",
       "      <td>ldabert</td>\n",
       "      <td>clinical</td>\n",
       "      <td>0.5</td>\n",
       "      <td>128</td>\n",
       "      <td>1</td>\n",
       "      <td>0.50</td>\n",
       "      <td>1000</td>\n",
       "    </tr>\n",
       "    <tr>\n",
       "      <th>15</th>\n",
       "      <td>ldabert</td>\n",
       "      <td>clinical</td>\n",
       "      <td>0.8</td>\n",
       "      <td>128</td>\n",
       "      <td>1</td>\n",
       "      <td>0.50</td>\n",
       "      <td>1000</td>\n",
       "    </tr>\n",
       "    <tr>\n",
       "      <th>16</th>\n",
       "      <td>ldabert</td>\n",
       "      <td>clinical</td>\n",
       "      <td>0.5</td>\n",
       "      <td>256</td>\n",
       "      <td>1</td>\n",
       "      <td>0.50</td>\n",
       "      <td>1000</td>\n",
       "    </tr>\n",
       "    <tr>\n",
       "      <th>17</th>\n",
       "      <td>ldabert</td>\n",
       "      <td>clinical</td>\n",
       "      <td>0.8</td>\n",
       "      <td>256</td>\n",
       "      <td>1</td>\n",
       "      <td>0.50</td>\n",
       "      <td>1000</td>\n",
       "    </tr>\n",
       "    <tr>\n",
       "      <th>18</th>\n",
       "      <td>ldabert</td>\n",
       "      <td>clinical</td>\n",
       "      <td>0.5</td>\n",
       "      <td>64</td>\n",
       "      <td>1</td>\n",
       "      <td>1.00</td>\n",
       "      <td>1000</td>\n",
       "    </tr>\n",
       "    <tr>\n",
       "      <th>19</th>\n",
       "      <td>ldabert</td>\n",
       "      <td>clinical</td>\n",
       "      <td>0.8</td>\n",
       "      <td>64</td>\n",
       "      <td>1</td>\n",
       "      <td>1.00</td>\n",
       "      <td>1000</td>\n",
       "    </tr>\n",
       "    <tr>\n",
       "      <th>20</th>\n",
       "      <td>ldabert</td>\n",
       "      <td>clinical</td>\n",
       "      <td>0.5</td>\n",
       "      <td>128</td>\n",
       "      <td>1</td>\n",
       "      <td>1.00</td>\n",
       "      <td>1000</td>\n",
       "    </tr>\n",
       "    <tr>\n",
       "      <th>21</th>\n",
       "      <td>ldabert</td>\n",
       "      <td>clinical</td>\n",
       "      <td>0.8</td>\n",
       "      <td>128</td>\n",
       "      <td>1</td>\n",
       "      <td>1.00</td>\n",
       "      <td>1000</td>\n",
       "    </tr>\n",
       "    <tr>\n",
       "      <th>22</th>\n",
       "      <td>ldabert</td>\n",
       "      <td>clinical</td>\n",
       "      <td>0.5</td>\n",
       "      <td>256</td>\n",
       "      <td>1</td>\n",
       "      <td>1.00</td>\n",
       "      <td>1000</td>\n",
       "    </tr>\n",
       "    <tr>\n",
       "      <th>23</th>\n",
       "      <td>ldabert</td>\n",
       "      <td>clinical</td>\n",
       "      <td>0.8</td>\n",
       "      <td>256</td>\n",
       "      <td>1</td>\n",
       "      <td>1.00</td>\n",
       "      <td>1000</td>\n",
       "    </tr>\n",
       "  </tbody>\n",
       "</table>\n",
       "</div>"
      ],
      "text/plain": [
       "   bert_type dataset_type  final_dropout  dense_neurons  pct_data  \\\n",
       "0    ldabert     clinical            0.5             64         1   \n",
       "1    ldabert     clinical            0.8             64         1   \n",
       "2    ldabert     clinical            0.5            128         1   \n",
       "3    ldabert     clinical            0.8            128         1   \n",
       "4    ldabert     clinical            0.5            256         1   \n",
       "5    ldabert     clinical            0.8            256         1   \n",
       "6    ldabert     clinical            0.5             64         1   \n",
       "7    ldabert     clinical            0.8             64         1   \n",
       "8    ldabert     clinical            0.5            128         1   \n",
       "9    ldabert     clinical            0.8            128         1   \n",
       "10   ldabert     clinical            0.5            256         1   \n",
       "11   ldabert     clinical            0.8            256         1   \n",
       "12   ldabert     clinical            0.5             64         1   \n",
       "13   ldabert     clinical            0.8             64         1   \n",
       "14   ldabert     clinical            0.5            128         1   \n",
       "15   ldabert     clinical            0.8            128         1   \n",
       "16   ldabert     clinical            0.5            256         1   \n",
       "17   ldabert     clinical            0.8            256         1   \n",
       "18   ldabert     clinical            0.5             64         1   \n",
       "19   ldabert     clinical            0.8             64         1   \n",
       "20   ldabert     clinical            0.5            128         1   \n",
       "21   ldabert     clinical            0.8            128         1   \n",
       "22   ldabert     clinical            0.5            256         1   \n",
       "23   ldabert     clinical            0.8            256         1   \n",
       "\n",
       "    augment_pct  epochs  \n",
       "0          0.10    1000  \n",
       "1          0.10    1000  \n",
       "2          0.10    1000  \n",
       "3          0.10    1000  \n",
       "4          0.10    1000  \n",
       "5          0.10    1000  \n",
       "6          0.25    1000  \n",
       "7          0.25    1000  \n",
       "8          0.25    1000  \n",
       "9          0.25    1000  \n",
       "10         0.25    1000  \n",
       "11         0.25    1000  \n",
       "12         0.50    1000  \n",
       "13         0.50    1000  \n",
       "14         0.50    1000  \n",
       "15         0.50    1000  \n",
       "16         0.50    1000  \n",
       "17         0.50    1000  \n",
       "18         1.00    1000  \n",
       "19         1.00    1000  \n",
       "20         1.00    1000  \n",
       "21         1.00    1000  \n",
       "22         1.00    1000  \n",
       "23         1.00    1000  "
      ]
     },
     "execution_count": 18,
     "metadata": {},
     "output_type": "execute_result"
    }
   ],
   "source": [
    "import pandas as pd\n",
    "\n",
    "pd.DataFrame.from_dict(experiments)"
   ]
  },
  {
   "cell_type": "code",
   "execution_count": null,
   "id": "dcbb36fe",
   "metadata": {},
   "outputs": [],
   "source": []
  }
 ],
 "metadata": {
  "kernelspec": {
   "display_name": "Python [conda env:root]",
   "language": "python",
   "name": "conda-root-py"
  },
  "language_info": {
   "codemirror_mode": {
    "name": "ipython",
    "version": 3
   },
   "file_extension": ".py",
   "mimetype": "text/x-python",
   "name": "python",
   "nbconvert_exporter": "python",
   "pygments_lexer": "ipython3",
   "version": "3.8.8"
  }
 },
 "nbformat": 4,
 "nbformat_minor": 5
}
