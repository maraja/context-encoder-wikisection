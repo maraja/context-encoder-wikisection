{
 "cells": [
  {
   "cell_type": "code",
   "execution_count": 1,
   "id": "d8203a5a",
   "metadata": {},
   "outputs": [],
   "source": [
    "import toml\n",
    "import json\n",
    "import itertools\n",
    "from matplotlib import pyplot as plt"
   ]
  },
  {
   "cell_type": "code",
   "execution_count": 21,
   "id": "60f2b12f",
   "metadata": {},
   "outputs": [],
   "source": [
    "def save_results(experiment):\n",
    "    with open(\"../results/experiment_results.json\",'r+') as file:\n",
    "          # First we load existing data into a dict.\n",
    "        file_data = json.load(file)\n",
    "        \n",
    "        if \"hash\" in experiment:\n",
    "            for i, saved in enumerate(file_data[\"results\"]):\n",
    "                if \"hash\" in saved and saved[\"hash\"] == experiment[\"hash\"]:\n",
    "                    print(\"hit\")\n",
    "                    file_data[\"results\"][i] = experiment\n",
    "            # Sets file's current position at offset.\n",
    "            file.seek(0)\n",
    "            # convert back to json.\n",
    "            json.dump(file_data, file, indent = 4)\n",
    "            return\n",
    "        # Join new_data with file_data inside emp_details\n",
    "        file_data[\"results\"].append(experiment)\n",
    "        # Sets file's current position at offset.\n",
    "        file.seek(0)\n",
    "        # convert back to json.\n",
    "        json.dump(file_data, file, indent = 4)\n",
    "        return"
   ]
  },
  {
   "cell_type": "code",
   "execution_count": 23,
   "id": "01d6f60c",
   "metadata": {},
   "outputs": [
    {
     "name": "stdout",
     "output_type": "stream",
     "text": [
      "hit\n"
     ]
    }
   ],
   "source": [
    "save_results({\"test\": \"somethingss\", \"hash\": 123})"
   ]
  },
  {
   "cell_type": "code",
   "execution_count": null,
   "id": "9fce9600",
   "metadata": {},
   "outputs": [],
   "source": []
  }
 ],
 "metadata": {
  "kernelspec": {
   "display_name": "Python [conda env:root] *",
   "language": "python",
   "name": "conda-root-py"
  },
  "language_info": {
   "codemirror_mode": {
    "name": "ipython",
    "version": 3
   },
   "file_extension": ".py",
   "mimetype": "text/x-python",
   "name": "python",
   "nbconvert_exporter": "python",
   "pygments_lexer": "ipython3",
   "version": "3.8.8"
  }
 },
 "nbformat": 4,
 "nbformat_minor": 5
}
